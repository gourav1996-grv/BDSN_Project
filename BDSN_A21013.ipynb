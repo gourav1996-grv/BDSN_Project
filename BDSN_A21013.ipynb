{
  "nbformat": 4,
  "nbformat_minor": 0,
  "metadata": {
    "colab": {
      "name": "BDSN_A21013.ipynb",
      "provenance": [],
      "collapsed_sections": [],
      "authorship_tag": "ABX9TyMdXMjQv4DRJ+MQFAmRMhtr",
      "include_colab_link": true
    },
    "kernelspec": {
      "name": "python3",
      "display_name": "Python 3"
    },
    "language_info": {
      "name": "python"
    }
  },
  "cells": [
    {
      "cell_type": "markdown",
      "metadata": {
        "id": "view-in-github",
        "colab_type": "text"
      },
      "source": [
        "<a href=\"https://colab.research.google.com/github/gourav1996-grv/BDSN_Project/blob/main/BDSN_A21013.ipynb\" target=\"_parent\"><img src=\"https://colab.research.google.com/assets/colab-badge.svg\" alt=\"Open In Colab\"/></a>"
      ]
    },
    {
      "cell_type": "markdown",
      "source": [
        ""
      ],
      "metadata": {
        "id": "v8EpuzwusubS"
      }
    },
    {
      "cell_type": "markdown",
      "source": [
        "#Setting Up Spark Environment "
      ],
      "metadata": {
        "id": "RFnsb5C00ziX"
      }
    },
    {
      "cell_type": "markdown",
      "source": [
        "In this cell we are installing pyspark and the necessary modules.\n"
      ],
      "metadata": {
        "id": "fRnWzhOtF2jc"
      }
    },
    {
      "cell_type": "code",
      "execution_count": 2,
      "metadata": {
        "colab": {
          "base_uri": "https://localhost:8080/"
        },
        "id": "JzNkrhfqBBG9",
        "outputId": "198f42eb-e14c-4c0c-fa9b-7b94d731df34"
      },
      "outputs": [
        {
          "output_type": "stream",
          "name": "stdout",
          "text": [
            "\u001b[K     |████████████████████████████████| 281.4 MB 34 kB/s \n",
            "\u001b[K     |████████████████████████████████| 198 kB 50.4 MB/s \n",
            "\u001b[?25h  Building wheel for pyspark (setup.py) ... \u001b[?25l\u001b[?25hdone\n"
          ]
        }
      ],
      "source": [
        "!apt-get update > /dev/null\n",
        "!apt-get install openjdk-8-jdk-headless -qq > /dev/null\n",
        "!wget -q http://apache.osuosl.org/spark/spark-3.1.2/spark-3.1.2-bin-hadoop3.2.tgz\n",
        "\n",
        "!tar xf spark-3.1.2-bin-hadoop3.2.tgz\n",
        "#!pip install -q findspark\n",
        "!pip install -q pyspark"
      ]
    },
    {
      "cell_type": "markdown",
      "source": [
        "We are setting up environment vaariable for Java and spark"
      ],
      "metadata": {
        "id": "d23PCrVnGAfd"
      }
    },
    {
      "cell_type": "code",
      "source": [
        "import os\n",
        "os.environ[\"JAVA_HOME\"] = \"/usr/lib/jvm/java-8-openjdk-amd64\"\n",
        "os.environ[\"SPARK_HOME\"] = \"/content/spark-3.1.2-bin-hadoop3.2\""
      ],
      "metadata": {
        "id": "tucOY1ZlBbEs"
      },
      "execution_count": 3,
      "outputs": []
    },
    {
      "cell_type": "markdown",
      "source": [
        "#Loading Data and Necessary Packages"
      ],
      "metadata": {
        "id": "Cf35bdll4ck7"
      }
    },
    {
      "cell_type": "code",
      "source": [
        "#import findspark\n",
        "#findspark.init()\n",
        "from pyspark.sql import SparkSession\n",
        "spark = SparkSession.builder.master(\"local[*]\").getOrCreate()\n",
        "sc = spark.sparkContext\n",
        "sc"
      ],
      "metadata": {
        "colab": {
          "base_uri": "https://localhost:8080/",
          "height": 198
        },
        "id": "tVaPmi-KBhPs",
        "outputId": "b05343c1-fd7a-47cb-e0c8-c95ca38673f9"
      },
      "execution_count": 4,
      "outputs": [
        {
          "output_type": "execute_result",
          "data": {
            "text/html": [
              "\n",
              "        <div>\n",
              "            <p><b>SparkContext</b></p>\n",
              "\n",
              "            <p><a href=\"http://dcfd4ba4264c:4040\">Spark UI</a></p>\n",
              "\n",
              "            <dl>\n",
              "              <dt>Version</dt>\n",
              "                <dd><code>v3.1.2</code></dd>\n",
              "              <dt>Master</dt>\n",
              "                <dd><code>local[*]</code></dd>\n",
              "              <dt>AppName</dt>\n",
              "                <dd><code>pyspark-shell</code></dd>\n",
              "            </dl>\n",
              "        </div>\n",
              "        "
            ],
            "text/plain": [
              "<SparkContext master=local[*] appName=pyspark-shell>"
            ]
          },
          "metadata": {},
          "execution_count": 4
        }
      ]
    },
    {
      "cell_type": "markdown",
      "source": [
        "Made use of plotly for better visualisation and hovering effect of graph"
      ],
      "metadata": {
        "id": "uKvk2qT3G20m"
      }
    },
    {
      "cell_type": "code",
      "source": [
        "import plotly.express  as px\n",
        "import plotly.graph_objects as go\n",
        "fig = go.Figure()\n",
        "import pandas as pd\n",
        "import numpy as np"
      ],
      "metadata": {
        "id": "W33LUMdztIRb"
      },
      "execution_count": 5,
      "outputs": []
    },
    {
      "cell_type": "code",
      "source": [
        "!wget --no-check-certificate 'https://docs.google.com/uc?export=download&id=1lIsgI8j6IuNvLo-qlXUkrVK1pkSvW1rU' -O udemy.csv"
      ],
      "metadata": {
        "colab": {
          "base_uri": "https://localhost:8080/"
        },
        "id": "JmEBjHEzoVNV",
        "outputId": "b24d8403-06a0-4509-c922-1fb66ff0c7d6"
      },
      "execution_count": 6,
      "outputs": [
        {
          "output_type": "stream",
          "name": "stdout",
          "text": [
            "--2022-03-05 15:23:33--  https://docs.google.com/uc?export=download&id=1lIsgI8j6IuNvLo-qlXUkrVK1pkSvW1rU\n",
            "Resolving docs.google.com (docs.google.com)... 74.125.195.101, 74.125.195.139, 74.125.195.113, ...\n",
            "Connecting to docs.google.com (docs.google.com)|74.125.195.101|:443... connected.\n",
            "HTTP request sent, awaiting response... 303 See Other\n",
            "Location: https://doc-14-7g-docs.googleusercontent.com/docs/securesc/ha0ro937gcuc7l7deffksulhg5h7mbp1/v0qppj5ei6j4vgdd00bek7lmbhlovgq2/1646493750000/03498884685229214067/*/1lIsgI8j6IuNvLo-qlXUkrVK1pkSvW1rU?e=download [following]\n",
            "Warning: wildcards not supported in HTTP.\n",
            "--2022-03-05 15:23:34--  https://doc-14-7g-docs.googleusercontent.com/docs/securesc/ha0ro937gcuc7l7deffksulhg5h7mbp1/v0qppj5ei6j4vgdd00bek7lmbhlovgq2/1646493750000/03498884685229214067/*/1lIsgI8j6IuNvLo-qlXUkrVK1pkSvW1rU?e=download\n",
            "Resolving doc-14-7g-docs.googleusercontent.com (doc-14-7g-docs.googleusercontent.com)... 74.125.195.132, 2607:f8b0:400e:c09::84\n",
            "Connecting to doc-14-7g-docs.googleusercontent.com (doc-14-7g-docs.googleusercontent.com)|74.125.195.132|:443... connected.\n",
            "HTTP request sent, awaiting response... 200 OK\n",
            "Length: 693946 (678K) [text/csv]\n",
            "Saving to: ‘udemy.csv’\n",
            "\n",
            "udemy.csv           100%[===================>] 677.68K  --.-KB/s    in 0.008s  \n",
            "\n",
            "2022-03-05 15:23:34 (82.4 MB/s) - ‘udemy.csv’ saved [693946/693946]\n",
            "\n"
          ]
        }
      ]
    },
    {
      "cell_type": "code",
      "source": [
        "df = spark.read.csv(\"/content/udemy.csv\",header=True,inferSchema=True)"
      ],
      "metadata": {
        "id": "YiLrgTFWBpM2"
      },
      "execution_count": 7,
      "outputs": []
    },
    {
      "cell_type": "code",
      "source": [
        "df.show()"
      ],
      "metadata": {
        "colab": {
          "base_uri": "https://localhost:8080/"
        },
        "id": "Mirh8H-zRjQ-",
        "outputId": "b909806e-bb88-40c8-ee05-9356d29b8886"
      },
      "execution_count": 8,
      "outputs": [
        {
          "output_type": "stream",
          "name": "stdout",
          "text": [
            "+---------+--------------------+--------------------+-------+-----+---------------+-----------+------------+------------------+------------------+-------------------+----------------+\n",
            "|course_id|        course_title|                 url|is_paid|price|num_subscribers|num_reviews|num_lectures|             level|  content_duration|published_timestamp|         subject|\n",
            "+---------+--------------------+--------------------+-------+-----+---------------+-----------+------------+------------------+------------------+-------------------+----------------+\n",
            "|  1070968|Ultimate Investme...|https://www.udemy...|   true|  200|           2147|         23|          51|        All Levels|               1.5|2017-01-18 20:58:58|Business Finance|\n",
            "|  1113822|Complete GST Cour...|https://www.udemy...|   true|   75|           2792|        923|         274|        All Levels|              39.0|2017-03-09 16:34:20|Business Finance|\n",
            "|  1006314|Financial Modelin...|https://www.udemy...|   true|   45|           2174|         74|          51|Intermediate Level|               2.5|2016-12-19 19:26:30|Business Finance|\n",
            "|  1210588|Beginner to Pro -...|https://www.udemy...|   true|   95|           2451|         11|          36|        All Levels|               3.0|2017-05-30 20:07:24|Business Finance|\n",
            "|  1011058|How To Maximize Y...|https://www.udemy...|   true|  200|           1276|         45|          26|Intermediate Level|               2.0|2016-12-13 14:57:18|Business Finance|\n",
            "|   192870|Trading Penny Sto...|https://www.udemy...|   true|  150|           9221|        138|          25|        All Levels|               3.0|2014-05-02 15:13:30|Business Finance|\n",
            "|   739964|Investing And Tra...|https://www.udemy...|   true|   65|           1540|        178|          26|    Beginner Level|               1.0|2016-02-21 18:23:12|Business Finance|\n",
            "|   403100|Trading Stock Cha...|https://www.udemy...|   true|   95|           2917|        148|          23|        All Levels|               2.5|2015-01-30 22:13:03|Business Finance|\n",
            "|   476268|Options Trading 3...|https://www.udemy...|   true|  195|           5172|         34|          38|      Expert Level|               2.5|2015-05-28 00:14:03|Business Finance|\n",
            "|  1167710|The Only Investme...|https://www.udemy...|   true|  200|            827|         14|          15|        All Levels|               1.0|2017-04-18 18:13:32|Business Finance|\n",
            "|   592338|Forex Trading Sec...|https://www.udemy...|   true|  200|           4284|         93|          76|        All Levels|               5.0|2015-09-11 16:47:02|Business Finance|\n",
            "|   975046|Trading Options W...|https://www.udemy...|   true|  200|           1380|         42|          17|        All Levels|               1.0|2016-10-18 22:52:31|Business Finance|\n",
            "|   742602|Financial Managem...|https://www.udemy...|   true|   30|           3607|         21|          19|        All Levels|               1.5|2016-02-03 18:04:01|Business Finance|\n",
            "|   794151|Forex Trading Cou...|https://www.udemy...|   true|  195|           4061|         52|          16|        All Levels|               2.0|2016-03-16 15:40:19|Business Finance|\n",
            "|  1196544|Python Algo Tradi...|https://www.udemy...|   true|  200|            294|         19|          42|        All Levels|               7.0|2017-04-28 16:41:44|Business Finance|\n",
            "|   504036|Short Selling: Le...|https://www.udemy...|   true|   75|           2276|        106|          19|Intermediate Level|               1.5|2015-06-22 21:18:35|Business Finance|\n",
            "|   719698|Basic Technical A...|https://www.udemy...|   true|   20|           4919|         79|          16|    Beginner Level|               1.5|2016-01-08 17:21:26|Business Finance|\n",
            "|   564966|The Complete Char...|https://www.udemy...|   true|  200|           2666|        115|          52|        All Levels|               4.0|2015-08-10 21:07:35|Business Finance|\n",
            "|   606928|7 Deadly Mistakes...|https://www.udemy...|   true|   50|           5354|         24|          23|        All Levels|               1.5|2015-09-21 18:10:34|Business Finance|\n",
            "|    58977|Financial Stateme...|https://www.udemy...|   true|   95|           8095|        249|          12|    Beginner Level|0.5833333333333334|2013-06-09 00:21:26|Business Finance|\n",
            "+---------+--------------------+--------------------+-------+-----+---------------+-----------+------------+------------------+------------------+-------------------+----------------+\n",
            "only showing top 20 rows\n",
            "\n"
          ]
        }
      ]
    },
    {
      "cell_type": "code",
      "source": [
        "df.printSchema()"
      ],
      "metadata": {
        "colab": {
          "base_uri": "https://localhost:8080/"
        },
        "id": "aArUOHUo8lat",
        "outputId": "bedac3f1-d831-49cb-b267-7ad7bb765139"
      },
      "execution_count": 9,
      "outputs": [
        {
          "output_type": "stream",
          "name": "stdout",
          "text": [
            "root\n",
            " |-- course_id: integer (nullable = true)\n",
            " |-- course_title: string (nullable = true)\n",
            " |-- url: string (nullable = true)\n",
            " |-- is_paid: boolean (nullable = true)\n",
            " |-- price: integer (nullable = true)\n",
            " |-- num_subscribers: integer (nullable = true)\n",
            " |-- num_reviews: integer (nullable = true)\n",
            " |-- num_lectures: integer (nullable = true)\n",
            " |-- level: string (nullable = true)\n",
            " |-- content_duration: string (nullable = true)\n",
            " |-- published_timestamp: timestamp (nullable = true)\n",
            " |-- subject: string (nullable = true)\n",
            "\n"
          ]
        }
      ]
    },
    {
      "cell_type": "markdown",
      "source": [
        "#Data Visualization & EDA"
      ],
      "metadata": {
        "id": "PPVaPHEDzvS_"
      }
    },
    {
      "cell_type": "markdown",
      "source": [
        "**Here I am just trying to create a copy of our original spark data frame into variable data and it will hold in terms of pandas data frame.**"
      ],
      "metadata": {
        "id": "iXEqCZHj6lqZ"
      }
    },
    {
      "cell_type": "code",
      "source": [
        "data=df.toPandas().copy()"
      ],
      "metadata": {
        "id": "N-WpwKAjusP9"
      },
      "execution_count": 22,
      "outputs": []
    },
    {
      "cell_type": "code",
      "source": [
        ""
      ],
      "metadata": {
        "id": "_M7ZbpVD_4pt"
      },
      "execution_count": 22,
      "outputs": []
    },
    {
      "cell_type": "code",
      "source": [
        "type(data)"
      ],
      "metadata": {
        "colab": {
          "base_uri": "https://localhost:8080/"
        },
        "id": "bZ583Jyxvo7B",
        "outputId": "5142911c-89bd-4b23-946f-175c06e7f589"
      },
      "execution_count": 23,
      "outputs": [
        {
          "output_type": "execute_result",
          "data": {
            "text/plain": [
              "pandas.core.frame.DataFrame"
            ]
          },
          "metadata": {},
          "execution_count": 23
        }
      ]
    },
    {
      "cell_type": "markdown",
      "source": [
        "we can see data is of pandas dataframe"
      ],
      "metadata": {
        "id": "yB0ep9UfGNii"
      }
    },
    {
      "cell_type": "code",
      "source": [
        "type(df)"
      ],
      "metadata": {
        "colab": {
          "base_uri": "https://localhost:8080/"
        },
        "id": "1wYWZPzAvy6N",
        "outputId": "133bdd34-8004-4680-d4c6-ae54372d01e2"
      },
      "execution_count": 24,
      "outputs": [
        {
          "output_type": "execute_result",
          "data": {
            "text/plain": [
              "pyspark.sql.dataframe.DataFrame"
            ]
          },
          "metadata": {},
          "execution_count": 24
        }
      ]
    },
    {
      "cell_type": "markdown",
      "source": [
        "whereas our original df dataframe is of spark only"
      ],
      "metadata": {
        "id": "T8fzhLTQGSp8"
      }
    },
    {
      "cell_type": "markdown",
      "source": [
        "There is 2 reason for doing this:-\n",
        "\n",
        "\n",
        "1.   I dont wanted to disturb our original spark data frame\n",
        "2.   We get a lot and better options in pandas data frame for visualization point of view. At the end, it's visualization, which makes us better to understand data.\n",
        "\n"
      ],
      "metadata": {
        "id": "nr-gSTAu64TF"
      }
    },
    {
      "cell_type": "code",
      "source": [
        "data.head()"
      ],
      "metadata": {
        "colab": {
          "base_uri": "https://localhost:8080/",
          "height": 510
        },
        "id": "nDYB-SNCwQD-",
        "outputId": "64347615-7af0-4af6-8b32-3d3245d34935"
      },
      "execution_count": 25,
      "outputs": [
        {
          "output_type": "execute_result",
          "data": {
            "text/html": [
              "\n",
              "  <div id=\"df-74274a1f-5cf5-492d-826a-b69a2bda8772\">\n",
              "    <div class=\"colab-df-container\">\n",
              "      <div>\n",
              "<style scoped>\n",
              "    .dataframe tbody tr th:only-of-type {\n",
              "        vertical-align: middle;\n",
              "    }\n",
              "\n",
              "    .dataframe tbody tr th {\n",
              "        vertical-align: top;\n",
              "    }\n",
              "\n",
              "    .dataframe thead th {\n",
              "        text-align: right;\n",
              "    }\n",
              "</style>\n",
              "<table border=\"1\" class=\"dataframe\">\n",
              "  <thead>\n",
              "    <tr style=\"text-align: right;\">\n",
              "      <th></th>\n",
              "      <th>course_id</th>\n",
              "      <th>course_title</th>\n",
              "      <th>url</th>\n",
              "      <th>is_paid</th>\n",
              "      <th>price</th>\n",
              "      <th>num_subscribers</th>\n",
              "      <th>num_reviews</th>\n",
              "      <th>num_lectures</th>\n",
              "      <th>level</th>\n",
              "      <th>content_duration</th>\n",
              "      <th>published_timestamp</th>\n",
              "      <th>subject</th>\n",
              "    </tr>\n",
              "  </thead>\n",
              "  <tbody>\n",
              "    <tr>\n",
              "      <th>0</th>\n",
              "      <td>1070968</td>\n",
              "      <td>Ultimate Investment Banking Course</td>\n",
              "      <td>https://www.udemy.com/ultimate-investment-bank...</td>\n",
              "      <td>True</td>\n",
              "      <td>200</td>\n",
              "      <td>2147</td>\n",
              "      <td>23</td>\n",
              "      <td>51</td>\n",
              "      <td>All Levels</td>\n",
              "      <td>1.5</td>\n",
              "      <td>2017-01-18 20:58:58</td>\n",
              "      <td>Business Finance</td>\n",
              "    </tr>\n",
              "    <tr>\n",
              "      <th>1</th>\n",
              "      <td>1113822</td>\n",
              "      <td>Complete GST Course &amp; Certification - Grow You...</td>\n",
              "      <td>https://www.udemy.com/goods-and-services-tax/</td>\n",
              "      <td>True</td>\n",
              "      <td>75</td>\n",
              "      <td>2792</td>\n",
              "      <td>923</td>\n",
              "      <td>274</td>\n",
              "      <td>All Levels</td>\n",
              "      <td>39.0</td>\n",
              "      <td>2017-03-09 16:34:20</td>\n",
              "      <td>Business Finance</td>\n",
              "    </tr>\n",
              "    <tr>\n",
              "      <th>2</th>\n",
              "      <td>1006314</td>\n",
              "      <td>Financial Modeling for Business Analysts and C...</td>\n",
              "      <td>https://www.udemy.com/financial-modeling-for-b...</td>\n",
              "      <td>True</td>\n",
              "      <td>45</td>\n",
              "      <td>2174</td>\n",
              "      <td>74</td>\n",
              "      <td>51</td>\n",
              "      <td>Intermediate Level</td>\n",
              "      <td>2.5</td>\n",
              "      <td>2016-12-19 19:26:30</td>\n",
              "      <td>Business Finance</td>\n",
              "    </tr>\n",
              "    <tr>\n",
              "      <th>3</th>\n",
              "      <td>1210588</td>\n",
              "      <td>Beginner to Pro - Financial Analysis in Excel ...</td>\n",
              "      <td>https://www.udemy.com/complete-excel-finance-c...</td>\n",
              "      <td>True</td>\n",
              "      <td>95</td>\n",
              "      <td>2451</td>\n",
              "      <td>11</td>\n",
              "      <td>36</td>\n",
              "      <td>All Levels</td>\n",
              "      <td>3.0</td>\n",
              "      <td>2017-05-30 20:07:24</td>\n",
              "      <td>Business Finance</td>\n",
              "    </tr>\n",
              "    <tr>\n",
              "      <th>4</th>\n",
              "      <td>1011058</td>\n",
              "      <td>How To Maximize Your Profits Trading Options</td>\n",
              "      <td>https://www.udemy.com/how-to-maximize-your-pro...</td>\n",
              "      <td>True</td>\n",
              "      <td>200</td>\n",
              "      <td>1276</td>\n",
              "      <td>45</td>\n",
              "      <td>26</td>\n",
              "      <td>Intermediate Level</td>\n",
              "      <td>2.0</td>\n",
              "      <td>2016-12-13 14:57:18</td>\n",
              "      <td>Business Finance</td>\n",
              "    </tr>\n",
              "  </tbody>\n",
              "</table>\n",
              "</div>\n",
              "      <button class=\"colab-df-convert\" onclick=\"convertToInteractive('df-74274a1f-5cf5-492d-826a-b69a2bda8772')\"\n",
              "              title=\"Convert this dataframe to an interactive table.\"\n",
              "              style=\"display:none;\">\n",
              "        \n",
              "  <svg xmlns=\"http://www.w3.org/2000/svg\" height=\"24px\"viewBox=\"0 0 24 24\"\n",
              "       width=\"24px\">\n",
              "    <path d=\"M0 0h24v24H0V0z\" fill=\"none\"/>\n",
              "    <path d=\"M18.56 5.44l.94 2.06.94-2.06 2.06-.94-2.06-.94-.94-2.06-.94 2.06-2.06.94zm-11 1L8.5 8.5l.94-2.06 2.06-.94-2.06-.94L8.5 2.5l-.94 2.06-2.06.94zm10 10l.94 2.06.94-2.06 2.06-.94-2.06-.94-.94-2.06-.94 2.06-2.06.94z\"/><path d=\"M17.41 7.96l-1.37-1.37c-.4-.4-.92-.59-1.43-.59-.52 0-1.04.2-1.43.59L10.3 9.45l-7.72 7.72c-.78.78-.78 2.05 0 2.83L4 21.41c.39.39.9.59 1.41.59.51 0 1.02-.2 1.41-.59l7.78-7.78 2.81-2.81c.8-.78.8-2.07 0-2.86zM5.41 20L4 18.59l7.72-7.72 1.47 1.35L5.41 20z\"/>\n",
              "  </svg>\n",
              "      </button>\n",
              "      \n",
              "  <style>\n",
              "    .colab-df-container {\n",
              "      display:flex;\n",
              "      flex-wrap:wrap;\n",
              "      gap: 12px;\n",
              "    }\n",
              "\n",
              "    .colab-df-convert {\n",
              "      background-color: #E8F0FE;\n",
              "      border: none;\n",
              "      border-radius: 50%;\n",
              "      cursor: pointer;\n",
              "      display: none;\n",
              "      fill: #1967D2;\n",
              "      height: 32px;\n",
              "      padding: 0 0 0 0;\n",
              "      width: 32px;\n",
              "    }\n",
              "\n",
              "    .colab-df-convert:hover {\n",
              "      background-color: #E2EBFA;\n",
              "      box-shadow: 0px 1px 2px rgba(60, 64, 67, 0.3), 0px 1px 3px 1px rgba(60, 64, 67, 0.15);\n",
              "      fill: #174EA6;\n",
              "    }\n",
              "\n",
              "    [theme=dark] .colab-df-convert {\n",
              "      background-color: #3B4455;\n",
              "      fill: #D2E3FC;\n",
              "    }\n",
              "\n",
              "    [theme=dark] .colab-df-convert:hover {\n",
              "      background-color: #434B5C;\n",
              "      box-shadow: 0px 1px 3px 1px rgba(0, 0, 0, 0.15);\n",
              "      filter: drop-shadow(0px 1px 2px rgba(0, 0, 0, 0.3));\n",
              "      fill: #FFFFFF;\n",
              "    }\n",
              "  </style>\n",
              "\n",
              "      <script>\n",
              "        const buttonEl =\n",
              "          document.querySelector('#df-74274a1f-5cf5-492d-826a-b69a2bda8772 button.colab-df-convert');\n",
              "        buttonEl.style.display =\n",
              "          google.colab.kernel.accessAllowed ? 'block' : 'none';\n",
              "\n",
              "        async function convertToInteractive(key) {\n",
              "          const element = document.querySelector('#df-74274a1f-5cf5-492d-826a-b69a2bda8772');\n",
              "          const dataTable =\n",
              "            await google.colab.kernel.invokeFunction('convertToInteractive',\n",
              "                                                     [key], {});\n",
              "          if (!dataTable) return;\n",
              "\n",
              "          const docLinkHtml = 'Like what you see? Visit the ' +\n",
              "            '<a target=\"_blank\" href=https://colab.research.google.com/notebooks/data_table.ipynb>data table notebook</a>'\n",
              "            + ' to learn more about interactive tables.';\n",
              "          element.innerHTML = '';\n",
              "          dataTable['output_type'] = 'display_data';\n",
              "          await google.colab.output.renderOutput(dataTable, element);\n",
              "          const docLink = document.createElement('div');\n",
              "          docLink.innerHTML = docLinkHtml;\n",
              "          element.appendChild(docLink);\n",
              "        }\n",
              "      </script>\n",
              "    </div>\n",
              "  </div>\n",
              "  "
            ],
            "text/plain": [
              "   course_id                                       course_title  \\\n",
              "0    1070968                 Ultimate Investment Banking Course   \n",
              "1    1113822  Complete GST Course & Certification - Grow You...   \n",
              "2    1006314  Financial Modeling for Business Analysts and C...   \n",
              "3    1210588  Beginner to Pro - Financial Analysis in Excel ...   \n",
              "4    1011058       How To Maximize Your Profits Trading Options   \n",
              "\n",
              "                                                 url  is_paid  price  \\\n",
              "0  https://www.udemy.com/ultimate-investment-bank...     True    200   \n",
              "1      https://www.udemy.com/goods-and-services-tax/     True     75   \n",
              "2  https://www.udemy.com/financial-modeling-for-b...     True     45   \n",
              "3  https://www.udemy.com/complete-excel-finance-c...     True     95   \n",
              "4  https://www.udemy.com/how-to-maximize-your-pro...     True    200   \n",
              "\n",
              "   num_subscribers  num_reviews  num_lectures               level  \\\n",
              "0             2147           23            51          All Levels   \n",
              "1             2792          923           274          All Levels   \n",
              "2             2174           74            51  Intermediate Level   \n",
              "3             2451           11            36          All Levels   \n",
              "4             1276           45            26  Intermediate Level   \n",
              "\n",
              "  content_duration published_timestamp           subject  \n",
              "0              1.5 2017-01-18 20:58:58  Business Finance  \n",
              "1             39.0 2017-03-09 16:34:20  Business Finance  \n",
              "2              2.5 2016-12-19 19:26:30  Business Finance  \n",
              "3              3.0 2017-05-30 20:07:24  Business Finance  \n",
              "4              2.0 2016-12-13 14:57:18  Business Finance  "
            ]
          },
          "metadata": {},
          "execution_count": 25
        }
      ]
    },
    {
      "cell_type": "code",
      "source": [
        "data.info()"
      ],
      "metadata": {
        "colab": {
          "base_uri": "https://localhost:8080/"
        },
        "id": "tcjzZUyf84E5",
        "outputId": "53144f89-5c31-4790-ecd8-01eafa206a16"
      },
      "execution_count": 26,
      "outputs": [
        {
          "output_type": "stream",
          "name": "stdout",
          "text": [
            "<class 'pandas.core.frame.DataFrame'>\n",
            "RangeIndex: 3683 entries, 0 to 3682\n",
            "Data columns (total 12 columns):\n",
            " #   Column               Non-Null Count  Dtype         \n",
            "---  ------               --------------  -----         \n",
            " 0   course_id            3683 non-null   int32         \n",
            " 1   course_title         3683 non-null   object        \n",
            " 2   url                  3683 non-null   object        \n",
            " 3   is_paid              3683 non-null   bool          \n",
            " 4   price                3683 non-null   int32         \n",
            " 5   num_subscribers      3683 non-null   int32         \n",
            " 6   num_reviews          3683 non-null   int32         \n",
            " 7   num_lectures         3683 non-null   int32         \n",
            " 8   level                3683 non-null   object        \n",
            " 9   content_duration     3683 non-null   object        \n",
            " 10  published_timestamp  3683 non-null   datetime64[ns]\n",
            " 11  subject              3678 non-null   object        \n",
            "dtypes: bool(1), datetime64[ns](1), int32(5), object(5)\n",
            "memory usage: 248.3+ KB\n"
          ]
        }
      ]
    },
    {
      "cell_type": "markdown",
      "source": [
        "I am grouping data in terms of year and course id and then sorting out the values."
      ],
      "metadata": {
        "id": "5ya-fW6w7zJQ"
      }
    },
    {
      "cell_type": "code",
      "source": [
        "data['published_timestamp'] = pd.to_datetime(data['published_timestamp'])\n",
        "data['year'] = data['published_timestamp'].dt.year\n",
        "Year_wise = data.groupby('year')['course_id'].count().sort_values().reset_index()\n",
        "Year_wise.rename({'course_id':'Number of Courses'},axis = 1, inplace = True)\n",
        "fig = px.bar(Year_wise, y = 'Number of Courses', x = 'year', color = 'year')\n",
        "fig.show()"
      ],
      "metadata": {
        "colab": {
          "base_uri": "https://localhost:8080/",
          "height": 542
        },
        "id": "PASUIyZ_rjd0",
        "outputId": "3c42836b-31c1-4f3e-ba74-ee11ed52c5b5"
      },
      "execution_count": 27,
      "outputs": [
        {
          "output_type": "display_data",
          "data": {
            "text/html": [
              "<html>\n",
              "<head><meta charset=\"utf-8\" /></head>\n",
              "<body>\n",
              "    <div>            <script src=\"https://cdnjs.cloudflare.com/ajax/libs/mathjax/2.7.5/MathJax.js?config=TeX-AMS-MML_SVG\"></script><script type=\"text/javascript\">if (window.MathJax) {MathJax.Hub.Config({SVG: {font: \"STIX-Web\"}});}</script>                <script type=\"text/javascript\">window.PlotlyConfig = {MathJaxConfig: 'local'};</script>\n",
              "        <script src=\"https://cdn.plot.ly/plotly-2.8.3.min.js\"></script>                <div id=\"084eead3-27e8-47f4-90e2-87050100def2\" class=\"plotly-graph-div\" style=\"height:525px; width:100%;\"></div>            <script type=\"text/javascript\">                                    window.PLOTLYENV=window.PLOTLYENV || {};                                    if (document.getElementById(\"084eead3-27e8-47f4-90e2-87050100def2\")) {                    Plotly.newPlot(                        \"084eead3-27e8-47f4-90e2-87050100def2\",                        [{\"alignmentgroup\":\"True\",\"hovertemplate\":\"year=%{marker.color}<br>Number of Courses=%{y}<extra></extra>\",\"legendgroup\":\"\",\"marker\":{\"color\":[2011,2012,2013,2014,2017,2015,2016],\"coloraxis\":\"coloraxis\",\"pattern\":{\"shape\":\"\"}},\"name\":\"\",\"offsetgroup\":\"\",\"orientation\":\"v\",\"showlegend\":false,\"textposition\":\"auto\",\"x\":[2011,2012,2013,2014,2017,2015,2016],\"xaxis\":\"x\",\"y\":[5,45,202,494,715,1015,1207],\"yaxis\":\"y\",\"type\":\"bar\"}],                        {\"template\":{\"data\":{\"bar\":[{\"error_x\":{\"color\":\"#2a3f5f\"},\"error_y\":{\"color\":\"#2a3f5f\"},\"marker\":{\"line\":{\"color\":\"#E5ECF6\",\"width\":0.5},\"pattern\":{\"fillmode\":\"overlay\",\"size\":10,\"solidity\":0.2}},\"type\":\"bar\"}],\"barpolar\":[{\"marker\":{\"line\":{\"color\":\"#E5ECF6\",\"width\":0.5},\"pattern\":{\"fillmode\":\"overlay\",\"size\":10,\"solidity\":0.2}},\"type\":\"barpolar\"}],\"carpet\":[{\"aaxis\":{\"endlinecolor\":\"#2a3f5f\",\"gridcolor\":\"white\",\"linecolor\":\"white\",\"minorgridcolor\":\"white\",\"startlinecolor\":\"#2a3f5f\"},\"baxis\":{\"endlinecolor\":\"#2a3f5f\",\"gridcolor\":\"white\",\"linecolor\":\"white\",\"minorgridcolor\":\"white\",\"startlinecolor\":\"#2a3f5f\"},\"type\":\"carpet\"}],\"choropleth\":[{\"colorbar\":{\"outlinewidth\":0,\"ticks\":\"\"},\"type\":\"choropleth\"}],\"contour\":[{\"colorbar\":{\"outlinewidth\":0,\"ticks\":\"\"},\"colorscale\":[[0.0,\"#0d0887\"],[0.1111111111111111,\"#46039f\"],[0.2222222222222222,\"#7201a8\"],[0.3333333333333333,\"#9c179e\"],[0.4444444444444444,\"#bd3786\"],[0.5555555555555556,\"#d8576b\"],[0.6666666666666666,\"#ed7953\"],[0.7777777777777778,\"#fb9f3a\"],[0.8888888888888888,\"#fdca26\"],[1.0,\"#f0f921\"]],\"type\":\"contour\"}],\"contourcarpet\":[{\"colorbar\":{\"outlinewidth\":0,\"ticks\":\"\"},\"type\":\"contourcarpet\"}],\"heatmap\":[{\"colorbar\":{\"outlinewidth\":0,\"ticks\":\"\"},\"colorscale\":[[0.0,\"#0d0887\"],[0.1111111111111111,\"#46039f\"],[0.2222222222222222,\"#7201a8\"],[0.3333333333333333,\"#9c179e\"],[0.4444444444444444,\"#bd3786\"],[0.5555555555555556,\"#d8576b\"],[0.6666666666666666,\"#ed7953\"],[0.7777777777777778,\"#fb9f3a\"],[0.8888888888888888,\"#fdca26\"],[1.0,\"#f0f921\"]],\"type\":\"heatmap\"}],\"heatmapgl\":[{\"colorbar\":{\"outlinewidth\":0,\"ticks\":\"\"},\"colorscale\":[[0.0,\"#0d0887\"],[0.1111111111111111,\"#46039f\"],[0.2222222222222222,\"#7201a8\"],[0.3333333333333333,\"#9c179e\"],[0.4444444444444444,\"#bd3786\"],[0.5555555555555556,\"#d8576b\"],[0.6666666666666666,\"#ed7953\"],[0.7777777777777778,\"#fb9f3a\"],[0.8888888888888888,\"#fdca26\"],[1.0,\"#f0f921\"]],\"type\":\"heatmapgl\"}],\"histogram\":[{\"marker\":{\"pattern\":{\"fillmode\":\"overlay\",\"size\":10,\"solidity\":0.2}},\"type\":\"histogram\"}],\"histogram2d\":[{\"colorbar\":{\"outlinewidth\":0,\"ticks\":\"\"},\"colorscale\":[[0.0,\"#0d0887\"],[0.1111111111111111,\"#46039f\"],[0.2222222222222222,\"#7201a8\"],[0.3333333333333333,\"#9c179e\"],[0.4444444444444444,\"#bd3786\"],[0.5555555555555556,\"#d8576b\"],[0.6666666666666666,\"#ed7953\"],[0.7777777777777778,\"#fb9f3a\"],[0.8888888888888888,\"#fdca26\"],[1.0,\"#f0f921\"]],\"type\":\"histogram2d\"}],\"histogram2dcontour\":[{\"colorbar\":{\"outlinewidth\":0,\"ticks\":\"\"},\"colorscale\":[[0.0,\"#0d0887\"],[0.1111111111111111,\"#46039f\"],[0.2222222222222222,\"#7201a8\"],[0.3333333333333333,\"#9c179e\"],[0.4444444444444444,\"#bd3786\"],[0.5555555555555556,\"#d8576b\"],[0.6666666666666666,\"#ed7953\"],[0.7777777777777778,\"#fb9f3a\"],[0.8888888888888888,\"#fdca26\"],[1.0,\"#f0f921\"]],\"type\":\"histogram2dcontour\"}],\"mesh3d\":[{\"colorbar\":{\"outlinewidth\":0,\"ticks\":\"\"},\"type\":\"mesh3d\"}],\"parcoords\":[{\"line\":{\"colorbar\":{\"outlinewidth\":0,\"ticks\":\"\"}},\"type\":\"parcoords\"}],\"pie\":[{\"automargin\":true,\"type\":\"pie\"}],\"scatter\":[{\"marker\":{\"colorbar\":{\"outlinewidth\":0,\"ticks\":\"\"}},\"type\":\"scatter\"}],\"scatter3d\":[{\"line\":{\"colorbar\":{\"outlinewidth\":0,\"ticks\":\"\"}},\"marker\":{\"colorbar\":{\"outlinewidth\":0,\"ticks\":\"\"}},\"type\":\"scatter3d\"}],\"scattercarpet\":[{\"marker\":{\"colorbar\":{\"outlinewidth\":0,\"ticks\":\"\"}},\"type\":\"scattercarpet\"}],\"scattergeo\":[{\"marker\":{\"colorbar\":{\"outlinewidth\":0,\"ticks\":\"\"}},\"type\":\"scattergeo\"}],\"scattergl\":[{\"marker\":{\"colorbar\":{\"outlinewidth\":0,\"ticks\":\"\"}},\"type\":\"scattergl\"}],\"scattermapbox\":[{\"marker\":{\"colorbar\":{\"outlinewidth\":0,\"ticks\":\"\"}},\"type\":\"scattermapbox\"}],\"scatterpolar\":[{\"marker\":{\"colorbar\":{\"outlinewidth\":0,\"ticks\":\"\"}},\"type\":\"scatterpolar\"}],\"scatterpolargl\":[{\"marker\":{\"colorbar\":{\"outlinewidth\":0,\"ticks\":\"\"}},\"type\":\"scatterpolargl\"}],\"scatterternary\":[{\"marker\":{\"colorbar\":{\"outlinewidth\":0,\"ticks\":\"\"}},\"type\":\"scatterternary\"}],\"surface\":[{\"colorbar\":{\"outlinewidth\":0,\"ticks\":\"\"},\"colorscale\":[[0.0,\"#0d0887\"],[0.1111111111111111,\"#46039f\"],[0.2222222222222222,\"#7201a8\"],[0.3333333333333333,\"#9c179e\"],[0.4444444444444444,\"#bd3786\"],[0.5555555555555556,\"#d8576b\"],[0.6666666666666666,\"#ed7953\"],[0.7777777777777778,\"#fb9f3a\"],[0.8888888888888888,\"#fdca26\"],[1.0,\"#f0f921\"]],\"type\":\"surface\"}],\"table\":[{\"cells\":{\"fill\":{\"color\":\"#EBF0F8\"},\"line\":{\"color\":\"white\"}},\"header\":{\"fill\":{\"color\":\"#C8D4E3\"},\"line\":{\"color\":\"white\"}},\"type\":\"table\"}]},\"layout\":{\"annotationdefaults\":{\"arrowcolor\":\"#2a3f5f\",\"arrowhead\":0,\"arrowwidth\":1},\"autotypenumbers\":\"strict\",\"coloraxis\":{\"colorbar\":{\"outlinewidth\":0,\"ticks\":\"\"}},\"colorscale\":{\"diverging\":[[0,\"#8e0152\"],[0.1,\"#c51b7d\"],[0.2,\"#de77ae\"],[0.3,\"#f1b6da\"],[0.4,\"#fde0ef\"],[0.5,\"#f7f7f7\"],[0.6,\"#e6f5d0\"],[0.7,\"#b8e186\"],[0.8,\"#7fbc41\"],[0.9,\"#4d9221\"],[1,\"#276419\"]],\"sequential\":[[0.0,\"#0d0887\"],[0.1111111111111111,\"#46039f\"],[0.2222222222222222,\"#7201a8\"],[0.3333333333333333,\"#9c179e\"],[0.4444444444444444,\"#bd3786\"],[0.5555555555555556,\"#d8576b\"],[0.6666666666666666,\"#ed7953\"],[0.7777777777777778,\"#fb9f3a\"],[0.8888888888888888,\"#fdca26\"],[1.0,\"#f0f921\"]],\"sequentialminus\":[[0.0,\"#0d0887\"],[0.1111111111111111,\"#46039f\"],[0.2222222222222222,\"#7201a8\"],[0.3333333333333333,\"#9c179e\"],[0.4444444444444444,\"#bd3786\"],[0.5555555555555556,\"#d8576b\"],[0.6666666666666666,\"#ed7953\"],[0.7777777777777778,\"#fb9f3a\"],[0.8888888888888888,\"#fdca26\"],[1.0,\"#f0f921\"]]},\"colorway\":[\"#636efa\",\"#EF553B\",\"#00cc96\",\"#ab63fa\",\"#FFA15A\",\"#19d3f3\",\"#FF6692\",\"#B6E880\",\"#FF97FF\",\"#FECB52\"],\"font\":{\"color\":\"#2a3f5f\"},\"geo\":{\"bgcolor\":\"white\",\"lakecolor\":\"white\",\"landcolor\":\"#E5ECF6\",\"showlakes\":true,\"showland\":true,\"subunitcolor\":\"white\"},\"hoverlabel\":{\"align\":\"left\"},\"hovermode\":\"closest\",\"mapbox\":{\"style\":\"light\"},\"paper_bgcolor\":\"white\",\"plot_bgcolor\":\"#E5ECF6\",\"polar\":{\"angularaxis\":{\"gridcolor\":\"white\",\"linecolor\":\"white\",\"ticks\":\"\"},\"bgcolor\":\"#E5ECF6\",\"radialaxis\":{\"gridcolor\":\"white\",\"linecolor\":\"white\",\"ticks\":\"\"}},\"scene\":{\"xaxis\":{\"backgroundcolor\":\"#E5ECF6\",\"gridcolor\":\"white\",\"gridwidth\":2,\"linecolor\":\"white\",\"showbackground\":true,\"ticks\":\"\",\"zerolinecolor\":\"white\"},\"yaxis\":{\"backgroundcolor\":\"#E5ECF6\",\"gridcolor\":\"white\",\"gridwidth\":2,\"linecolor\":\"white\",\"showbackground\":true,\"ticks\":\"\",\"zerolinecolor\":\"white\"},\"zaxis\":{\"backgroundcolor\":\"#E5ECF6\",\"gridcolor\":\"white\",\"gridwidth\":2,\"linecolor\":\"white\",\"showbackground\":true,\"ticks\":\"\",\"zerolinecolor\":\"white\"}},\"shapedefaults\":{\"line\":{\"color\":\"#2a3f5f\"}},\"ternary\":{\"aaxis\":{\"gridcolor\":\"white\",\"linecolor\":\"white\",\"ticks\":\"\"},\"baxis\":{\"gridcolor\":\"white\",\"linecolor\":\"white\",\"ticks\":\"\"},\"bgcolor\":\"#E5ECF6\",\"caxis\":{\"gridcolor\":\"white\",\"linecolor\":\"white\",\"ticks\":\"\"}},\"title\":{\"x\":0.05},\"xaxis\":{\"automargin\":true,\"gridcolor\":\"white\",\"linecolor\":\"white\",\"ticks\":\"\",\"title\":{\"standoff\":15},\"zerolinecolor\":\"white\",\"zerolinewidth\":2},\"yaxis\":{\"automargin\":true,\"gridcolor\":\"white\",\"linecolor\":\"white\",\"ticks\":\"\",\"title\":{\"standoff\":15},\"zerolinecolor\":\"white\",\"zerolinewidth\":2}}},\"xaxis\":{\"anchor\":\"y\",\"domain\":[0.0,1.0],\"title\":{\"text\":\"year\"}},\"yaxis\":{\"anchor\":\"x\",\"domain\":[0.0,1.0],\"title\":{\"text\":\"Number of Courses\"}},\"coloraxis\":{\"colorbar\":{\"title\":{\"text\":\"year\"}},\"colorscale\":[[0.0,\"#0d0887\"],[0.1111111111111111,\"#46039f\"],[0.2222222222222222,\"#7201a8\"],[0.3333333333333333,\"#9c179e\"],[0.4444444444444444,\"#bd3786\"],[0.5555555555555556,\"#d8576b\"],[0.6666666666666666,\"#ed7953\"],[0.7777777777777778,\"#fb9f3a\"],[0.8888888888888888,\"#fdca26\"],[1.0,\"#f0f921\"]]},\"legend\":{\"tracegroupgap\":0},\"margin\":{\"t\":60},\"barmode\":\"relative\"},                        {\"responsive\": true}                    ).then(function(){\n",
              "                            \n",
              "var gd = document.getElementById('084eead3-27e8-47f4-90e2-87050100def2');\n",
              "var x = new MutationObserver(function (mutations, observer) {{\n",
              "        var display = window.getComputedStyle(gd).display;\n",
              "        if (!display || display === 'none') {{\n",
              "            console.log([gd, 'removed!']);\n",
              "            Plotly.purge(gd);\n",
              "            observer.disconnect();\n",
              "        }}\n",
              "}});\n",
              "\n",
              "// Listen for the removal of the full notebook cells\n",
              "var notebookContainer = gd.closest('#notebook-container');\n",
              "if (notebookContainer) {{\n",
              "    x.observe(notebookContainer, {childList: true});\n",
              "}}\n",
              "\n",
              "// Listen for the clearing of the current output cell\n",
              "var outputEl = gd.closest('.output');\n",
              "if (outputEl) {{\n",
              "    x.observe(outputEl, {childList: true});\n",
              "}}\n",
              "\n",
              "                        })                };                            </script>        </div>\n",
              "</body>\n",
              "</html>"
            ]
          },
          "metadata": {}
        }
      ]
    },
    {
      "cell_type": "markdown",
      "source": [
        "**We can see a gradual Increase in people releasing their Courses over the peroid of time**. **Especially there has been a sudden rise in the number of courses from 2014 to 2015.** "
      ],
      "metadata": {
        "id": "WESh7wfo7_d9"
      }
    },
    {
      "cell_type": "markdown",
      "source": [
        "I am keeping count of all the subject in Subject variable and then making use of pie see the distribution."
      ],
      "metadata": {
        "id": "wEnks0EX9pYt"
      }
    },
    {
      "cell_type": "code",
      "source": [
        "Subject = pd.DataFrame(data['subject'].value_counts()).reset_index(drop = False)\n",
        "fig = px.pie(Subject, values =Subject.subject, names = Subject['index'],\n",
        "             title='Distribution of Various Courses on Udemy!')\n",
        "fig.show()"
      ],
      "metadata": {
        "colab": {
          "base_uri": "https://localhost:8080/",
          "height": 542
        },
        "id": "X11nXFxwrjhp",
        "outputId": "53270dd5-1e34-4792-87a3-f14943429636"
      },
      "execution_count": 28,
      "outputs": [
        {
          "output_type": "display_data",
          "data": {
            "text/html": [
              "<html>\n",
              "<head><meta charset=\"utf-8\" /></head>\n",
              "<body>\n",
              "    <div>            <script src=\"https://cdnjs.cloudflare.com/ajax/libs/mathjax/2.7.5/MathJax.js?config=TeX-AMS-MML_SVG\"></script><script type=\"text/javascript\">if (window.MathJax) {MathJax.Hub.Config({SVG: {font: \"STIX-Web\"}});}</script>                <script type=\"text/javascript\">window.PlotlyConfig = {MathJaxConfig: 'local'};</script>\n",
              "        <script src=\"https://cdn.plot.ly/plotly-2.8.3.min.js\"></script>                <div id=\"d6522eed-d13b-4789-806d-55c6c4112ca0\" class=\"plotly-graph-div\" style=\"height:525px; width:100%;\"></div>            <script type=\"text/javascript\">                                    window.PLOTLYENV=window.PLOTLYENV || {};                                    if (document.getElementById(\"d6522eed-d13b-4789-806d-55c6c4112ca0\")) {                    Plotly.newPlot(                        \"d6522eed-d13b-4789-806d-55c6c4112ca0\",                        [{\"domain\":{\"x\":[0.0,1.0],\"y\":[0.0,1.0]},\"hovertemplate\":\"index=%{label}<br>subject=%{value}<extra></extra>\",\"labels\":[\"Web Development\",\"Business Finance\",\"Musical Instruments\",\"Graphic Design\"],\"legendgroup\":\"\",\"name\":\"\",\"showlegend\":true,\"values\":[1200,1195,680,603],\"type\":\"pie\"}],                        {\"template\":{\"data\":{\"bar\":[{\"error_x\":{\"color\":\"#2a3f5f\"},\"error_y\":{\"color\":\"#2a3f5f\"},\"marker\":{\"line\":{\"color\":\"#E5ECF6\",\"width\":0.5},\"pattern\":{\"fillmode\":\"overlay\",\"size\":10,\"solidity\":0.2}},\"type\":\"bar\"}],\"barpolar\":[{\"marker\":{\"line\":{\"color\":\"#E5ECF6\",\"width\":0.5},\"pattern\":{\"fillmode\":\"overlay\",\"size\":10,\"solidity\":0.2}},\"type\":\"barpolar\"}],\"carpet\":[{\"aaxis\":{\"endlinecolor\":\"#2a3f5f\",\"gridcolor\":\"white\",\"linecolor\":\"white\",\"minorgridcolor\":\"white\",\"startlinecolor\":\"#2a3f5f\"},\"baxis\":{\"endlinecolor\":\"#2a3f5f\",\"gridcolor\":\"white\",\"linecolor\":\"white\",\"minorgridcolor\":\"white\",\"startlinecolor\":\"#2a3f5f\"},\"type\":\"carpet\"}],\"choropleth\":[{\"colorbar\":{\"outlinewidth\":0,\"ticks\":\"\"},\"type\":\"choropleth\"}],\"contour\":[{\"colorbar\":{\"outlinewidth\":0,\"ticks\":\"\"},\"colorscale\":[[0.0,\"#0d0887\"],[0.1111111111111111,\"#46039f\"],[0.2222222222222222,\"#7201a8\"],[0.3333333333333333,\"#9c179e\"],[0.4444444444444444,\"#bd3786\"],[0.5555555555555556,\"#d8576b\"],[0.6666666666666666,\"#ed7953\"],[0.7777777777777778,\"#fb9f3a\"],[0.8888888888888888,\"#fdca26\"],[1.0,\"#f0f921\"]],\"type\":\"contour\"}],\"contourcarpet\":[{\"colorbar\":{\"outlinewidth\":0,\"ticks\":\"\"},\"type\":\"contourcarpet\"}],\"heatmap\":[{\"colorbar\":{\"outlinewidth\":0,\"ticks\":\"\"},\"colorscale\":[[0.0,\"#0d0887\"],[0.1111111111111111,\"#46039f\"],[0.2222222222222222,\"#7201a8\"],[0.3333333333333333,\"#9c179e\"],[0.4444444444444444,\"#bd3786\"],[0.5555555555555556,\"#d8576b\"],[0.6666666666666666,\"#ed7953\"],[0.7777777777777778,\"#fb9f3a\"],[0.8888888888888888,\"#fdca26\"],[1.0,\"#f0f921\"]],\"type\":\"heatmap\"}],\"heatmapgl\":[{\"colorbar\":{\"outlinewidth\":0,\"ticks\":\"\"},\"colorscale\":[[0.0,\"#0d0887\"],[0.1111111111111111,\"#46039f\"],[0.2222222222222222,\"#7201a8\"],[0.3333333333333333,\"#9c179e\"],[0.4444444444444444,\"#bd3786\"],[0.5555555555555556,\"#d8576b\"],[0.6666666666666666,\"#ed7953\"],[0.7777777777777778,\"#fb9f3a\"],[0.8888888888888888,\"#fdca26\"],[1.0,\"#f0f921\"]],\"type\":\"heatmapgl\"}],\"histogram\":[{\"marker\":{\"pattern\":{\"fillmode\":\"overlay\",\"size\":10,\"solidity\":0.2}},\"type\":\"histogram\"}],\"histogram2d\":[{\"colorbar\":{\"outlinewidth\":0,\"ticks\":\"\"},\"colorscale\":[[0.0,\"#0d0887\"],[0.1111111111111111,\"#46039f\"],[0.2222222222222222,\"#7201a8\"],[0.3333333333333333,\"#9c179e\"],[0.4444444444444444,\"#bd3786\"],[0.5555555555555556,\"#d8576b\"],[0.6666666666666666,\"#ed7953\"],[0.7777777777777778,\"#fb9f3a\"],[0.8888888888888888,\"#fdca26\"],[1.0,\"#f0f921\"]],\"type\":\"histogram2d\"}],\"histogram2dcontour\":[{\"colorbar\":{\"outlinewidth\":0,\"ticks\":\"\"},\"colorscale\":[[0.0,\"#0d0887\"],[0.1111111111111111,\"#46039f\"],[0.2222222222222222,\"#7201a8\"],[0.3333333333333333,\"#9c179e\"],[0.4444444444444444,\"#bd3786\"],[0.5555555555555556,\"#d8576b\"],[0.6666666666666666,\"#ed7953\"],[0.7777777777777778,\"#fb9f3a\"],[0.8888888888888888,\"#fdca26\"],[1.0,\"#f0f921\"]],\"type\":\"histogram2dcontour\"}],\"mesh3d\":[{\"colorbar\":{\"outlinewidth\":0,\"ticks\":\"\"},\"type\":\"mesh3d\"}],\"parcoords\":[{\"line\":{\"colorbar\":{\"outlinewidth\":0,\"ticks\":\"\"}},\"type\":\"parcoords\"}],\"pie\":[{\"automargin\":true,\"type\":\"pie\"}],\"scatter\":[{\"marker\":{\"colorbar\":{\"outlinewidth\":0,\"ticks\":\"\"}},\"type\":\"scatter\"}],\"scatter3d\":[{\"line\":{\"colorbar\":{\"outlinewidth\":0,\"ticks\":\"\"}},\"marker\":{\"colorbar\":{\"outlinewidth\":0,\"ticks\":\"\"}},\"type\":\"scatter3d\"}],\"scattercarpet\":[{\"marker\":{\"colorbar\":{\"outlinewidth\":0,\"ticks\":\"\"}},\"type\":\"scattercarpet\"}],\"scattergeo\":[{\"marker\":{\"colorbar\":{\"outlinewidth\":0,\"ticks\":\"\"}},\"type\":\"scattergeo\"}],\"scattergl\":[{\"marker\":{\"colorbar\":{\"outlinewidth\":0,\"ticks\":\"\"}},\"type\":\"scattergl\"}],\"scattermapbox\":[{\"marker\":{\"colorbar\":{\"outlinewidth\":0,\"ticks\":\"\"}},\"type\":\"scattermapbox\"}],\"scatterpolar\":[{\"marker\":{\"colorbar\":{\"outlinewidth\":0,\"ticks\":\"\"}},\"type\":\"scatterpolar\"}],\"scatterpolargl\":[{\"marker\":{\"colorbar\":{\"outlinewidth\":0,\"ticks\":\"\"}},\"type\":\"scatterpolargl\"}],\"scatterternary\":[{\"marker\":{\"colorbar\":{\"outlinewidth\":0,\"ticks\":\"\"}},\"type\":\"scatterternary\"}],\"surface\":[{\"colorbar\":{\"outlinewidth\":0,\"ticks\":\"\"},\"colorscale\":[[0.0,\"#0d0887\"],[0.1111111111111111,\"#46039f\"],[0.2222222222222222,\"#7201a8\"],[0.3333333333333333,\"#9c179e\"],[0.4444444444444444,\"#bd3786\"],[0.5555555555555556,\"#d8576b\"],[0.6666666666666666,\"#ed7953\"],[0.7777777777777778,\"#fb9f3a\"],[0.8888888888888888,\"#fdca26\"],[1.0,\"#f0f921\"]],\"type\":\"surface\"}],\"table\":[{\"cells\":{\"fill\":{\"color\":\"#EBF0F8\"},\"line\":{\"color\":\"white\"}},\"header\":{\"fill\":{\"color\":\"#C8D4E3\"},\"line\":{\"color\":\"white\"}},\"type\":\"table\"}]},\"layout\":{\"annotationdefaults\":{\"arrowcolor\":\"#2a3f5f\",\"arrowhead\":0,\"arrowwidth\":1},\"autotypenumbers\":\"strict\",\"coloraxis\":{\"colorbar\":{\"outlinewidth\":0,\"ticks\":\"\"}},\"colorscale\":{\"diverging\":[[0,\"#8e0152\"],[0.1,\"#c51b7d\"],[0.2,\"#de77ae\"],[0.3,\"#f1b6da\"],[0.4,\"#fde0ef\"],[0.5,\"#f7f7f7\"],[0.6,\"#e6f5d0\"],[0.7,\"#b8e186\"],[0.8,\"#7fbc41\"],[0.9,\"#4d9221\"],[1,\"#276419\"]],\"sequential\":[[0.0,\"#0d0887\"],[0.1111111111111111,\"#46039f\"],[0.2222222222222222,\"#7201a8\"],[0.3333333333333333,\"#9c179e\"],[0.4444444444444444,\"#bd3786\"],[0.5555555555555556,\"#d8576b\"],[0.6666666666666666,\"#ed7953\"],[0.7777777777777778,\"#fb9f3a\"],[0.8888888888888888,\"#fdca26\"],[1.0,\"#f0f921\"]],\"sequentialminus\":[[0.0,\"#0d0887\"],[0.1111111111111111,\"#46039f\"],[0.2222222222222222,\"#7201a8\"],[0.3333333333333333,\"#9c179e\"],[0.4444444444444444,\"#bd3786\"],[0.5555555555555556,\"#d8576b\"],[0.6666666666666666,\"#ed7953\"],[0.7777777777777778,\"#fb9f3a\"],[0.8888888888888888,\"#fdca26\"],[1.0,\"#f0f921\"]]},\"colorway\":[\"#636efa\",\"#EF553B\",\"#00cc96\",\"#ab63fa\",\"#FFA15A\",\"#19d3f3\",\"#FF6692\",\"#B6E880\",\"#FF97FF\",\"#FECB52\"],\"font\":{\"color\":\"#2a3f5f\"},\"geo\":{\"bgcolor\":\"white\",\"lakecolor\":\"white\",\"landcolor\":\"#E5ECF6\",\"showlakes\":true,\"showland\":true,\"subunitcolor\":\"white\"},\"hoverlabel\":{\"align\":\"left\"},\"hovermode\":\"closest\",\"mapbox\":{\"style\":\"light\"},\"paper_bgcolor\":\"white\",\"plot_bgcolor\":\"#E5ECF6\",\"polar\":{\"angularaxis\":{\"gridcolor\":\"white\",\"linecolor\":\"white\",\"ticks\":\"\"},\"bgcolor\":\"#E5ECF6\",\"radialaxis\":{\"gridcolor\":\"white\",\"linecolor\":\"white\",\"ticks\":\"\"}},\"scene\":{\"xaxis\":{\"backgroundcolor\":\"#E5ECF6\",\"gridcolor\":\"white\",\"gridwidth\":2,\"linecolor\":\"white\",\"showbackground\":true,\"ticks\":\"\",\"zerolinecolor\":\"white\"},\"yaxis\":{\"backgroundcolor\":\"#E5ECF6\",\"gridcolor\":\"white\",\"gridwidth\":2,\"linecolor\":\"white\",\"showbackground\":true,\"ticks\":\"\",\"zerolinecolor\":\"white\"},\"zaxis\":{\"backgroundcolor\":\"#E5ECF6\",\"gridcolor\":\"white\",\"gridwidth\":2,\"linecolor\":\"white\",\"showbackground\":true,\"ticks\":\"\",\"zerolinecolor\":\"white\"}},\"shapedefaults\":{\"line\":{\"color\":\"#2a3f5f\"}},\"ternary\":{\"aaxis\":{\"gridcolor\":\"white\",\"linecolor\":\"white\",\"ticks\":\"\"},\"baxis\":{\"gridcolor\":\"white\",\"linecolor\":\"white\",\"ticks\":\"\"},\"bgcolor\":\"#E5ECF6\",\"caxis\":{\"gridcolor\":\"white\",\"linecolor\":\"white\",\"ticks\":\"\"}},\"title\":{\"x\":0.05},\"xaxis\":{\"automargin\":true,\"gridcolor\":\"white\",\"linecolor\":\"white\",\"ticks\":\"\",\"title\":{\"standoff\":15},\"zerolinecolor\":\"white\",\"zerolinewidth\":2},\"yaxis\":{\"automargin\":true,\"gridcolor\":\"white\",\"linecolor\":\"white\",\"ticks\":\"\",\"title\":{\"standoff\":15},\"zerolinecolor\":\"white\",\"zerolinewidth\":2}}},\"legend\":{\"tracegroupgap\":0},\"title\":{\"text\":\"Distribution of Various Courses on Udemy!\"}},                        {\"responsive\": true}                    ).then(function(){\n",
              "                            \n",
              "var gd = document.getElementById('d6522eed-d13b-4789-806d-55c6c4112ca0');\n",
              "var x = new MutationObserver(function (mutations, observer) {{\n",
              "        var display = window.getComputedStyle(gd).display;\n",
              "        if (!display || display === 'none') {{\n",
              "            console.log([gd, 'removed!']);\n",
              "            Plotly.purge(gd);\n",
              "            observer.disconnect();\n",
              "        }}\n",
              "}});\n",
              "\n",
              "// Listen for the removal of the full notebook cells\n",
              "var notebookContainer = gd.closest('#notebook-container');\n",
              "if (notebookContainer) {{\n",
              "    x.observe(notebookContainer, {childList: true});\n",
              "}}\n",
              "\n",
              "// Listen for the clearing of the current output cell\n",
              "var outputEl = gd.closest('.output');\n",
              "if (outputEl) {{\n",
              "    x.observe(outputEl, {childList: true});\n",
              "}}\n",
              "\n",
              "                        })                };                            </script>        </div>\n",
              "</body>\n",
              "</html>"
            ]
          },
          "metadata": {}
        }
      ]
    },
    {
      "cell_type": "markdown",
      "source": [
        "\n",
        "\n",
        "*   32.6% courses on the Udemy is for WEB DEVELOPMENT\n",
        "*   32.5% courses on the Udemy is for BUSINESS FINANCE\n",
        "*   18.5% courses on the Udemy is for MUSICAL INSTRUMENT\n",
        "*   16.4% course on the Udemy is for GRAPHIC DESIGN\n",
        "\n",
        "\n",
        "\n"
      ],
      "metadata": {
        "id": "1U3ltoE7Eq1R"
      }
    },
    {
      "cell_type": "markdown",
      "source": [
        "Here we are fetching Duration distribution across type of Course "
      ],
      "metadata": {
        "id": "KJk8ir9BFSR4"
      }
    },
    {
      "cell_type": "code",
      "source": [
        "fig = px.box(data,\n",
        "       x='content_duration',\n",
        "       y='is_paid',\n",
        "       orientation='h',\n",
        "       color='is_paid',\n",
        "       title='Duration Distribution Across Type of Course',\n",
        "       color_discrete_sequence=['#03cffc','#eb03fc']\n",
        "      )\n",
        "\n",
        "fig.update_layout(showlegend=False)\n",
        "fig.update_xaxes(title='Content Duration')\n",
        "fig.update_yaxes(title='Paid Course')\n",
        "fig.show()"
      ],
      "metadata": {
        "colab": {
          "base_uri": "https://localhost:8080/",
          "height": 542
        },
        "id": "qvVYRKLvrjkF",
        "outputId": "baba4dee-e9d4-4681-9df4-b2931dc53405"
      },
      "execution_count": 29,
      "outputs": [
        {
          "output_type": "display_data",
          "data": {
            "text/html": [
              "<html>\n",
              "<head><meta charset=\"utf-8\" /></head>\n",
              "<body>\n",
              "    <div>            <script src=\"https://cdnjs.cloudflare.com/ajax/libs/mathjax/2.7.5/MathJax.js?config=TeX-AMS-MML_SVG\"></script><script type=\"text/javascript\">if (window.MathJax) {MathJax.Hub.Config({SVG: {font: \"STIX-Web\"}});}</script>                <script type=\"text/javascript\">window.PlotlyConfig = {MathJaxConfig: 'local'};</script>\n",
              "        <script src=\"https://cdn.plot.ly/plotly-2.8.3.min.js\"></script>                <div id=\"5cc0a6fa-f279-4304-b4c9-27a32d64e941\" class=\"plotly-graph-div\" style=\"height:525px; width:100%;\"></div>            <script type=\"text/javascript\">                                    window.PLOTLYENV=window.PLOTLYENV || {};                                    if (document.getElementById(\"5cc0a6fa-f279-4304-b4c9-27a32d64e941\")) {                    Plotly.newPlot(                        \"5cc0a6fa-f279-4304-b4c9-27a32d64e941\",                        [{\"alignmentgroup\":\"True\",\"hovertemplate\":\"is_paid=%{y}<br>content_duration=%{x}<extra></extra>\",\"legendgroup\":\"True\",\"marker\":{\"color\":\"#03cffc\"},\"name\":\"True\",\"notched\":false,\"offsetgroup\":\"True\",\"orientation\":\"h\",\"showlegend\":true,\"x\":[\"1.5\",\"39.0\",\"2.5\",\"3.0\",\"2.0\",\"3.0\",\"1.0\",\"2.5\",\"2.5\",\"1.0\",\"5.0\",\"1.0\",\"1.5\",\"2.0\",\"7.0\",\"1.5\",\"1.5\",\"4.0\",\"1.5\",\"0.5833333333333334\",\"2.0\",\"4.0\",\"2.0\",\"1.0\",\"2.0\",\"5.0\",\"4.5\",\"2.0\",\"4.5\",\"3.0\",\"2.5\",\"1.5\",\"6.5\",\"2.0\",\"1.5\",\"10.0\",\"5.5\",\"4.5\",\"7.5\",\"5.5\",\"10.0\",\"6.5\",\"11.5\",\"1.0\",\"16.0\",\"3.0\",\"5.0\",\"5.5\",\"5.0\",\"2.0\",\"2.0\",\"3.0\",\"2.0\",\"1.0\",\"1.5\",\"4.0\",\"5.5\",\"1.0\",\"1.5\",\"1.0\",\"3.5\",\"9.0\",\"4.5\",\"8.5\",\"6.5\",\"5.5\",\"11.0\",\"1.5\",\"3.5\",\"3.0\",\"5.0\",\"2.5\",\"1.0\",\"1.0\",\"3.0\",\"2.0\",\"4.0\",\"1.0\",\"5.0\",\"4.0\",\"1.5\",\"2.0\",\"11.5\",\"1.5\",\"1.0\",\"1.5\",\"1.0\",\"4.5\",\"1.0\",\"1.5\",\"2.5\",\"0.7\",\"9.5\",\"5.0\",\"1.0\",\"3.0\",\"1.5\",\"5.5\",\"2.0\",\"1.5\",\"1.5\",\"1.5\",\"1.5\",\"1.0\",\"1.0\",\"4.5\",\"5.0\",\"1.5\",\"1.0\",\"62.0\",\"1.5\",\"0.13333333333333333\",\"0.6833333333333333\",\"2.5\",\"3.0\",\"4.5\",\"31.5\",\"3.5\",\"2.5\",\"3.0\",\"0.55\",\"1.0\",\"2.0\",\"1.0\",\"2.5\",\"1.0\",\"1.0\",\"1.5\",\"9.5\",\"1.0\",\"20.0\",\"2.5\",\"1.0\",\"6.0\",\"1.5\",\"4.0\",\"5.0\",\"2.5\",\"2.5\",\"3.0\",\"1.5\",\"1.0\",\"1.5\",\"1.5\",\"1.0\",\"3.0\",\"3.0\",\"3.5\",\"1.0\",\"2.0\",\"4.5\",\"1.0\",\"46.5\",\"5.0\",\"4.0\",\"2.5\",\"3.0\",\"1.0\",\"1.5\",\"2.0\",\"1.5\",\"4.5\",\"2.0\",\"1.5\",\"2.0\",\"3.0\",\"1.5\",\"5.5\",\"1.5\",\"5.5\",\"10.0\",\"3.0\",\"0.7\",\"1.0\",\"6.0\",\"1.0\",\"1.5\",\"1.5\",\"2.0\",\"5.0\",\"1.5\",\"4.5\",\"4.5\",\"3.5\",\"1.0\",\"1.5\",\"0.55\",\"9.0\",\"2.0\",\"1.0\",\"1.0\",\"1.5\",\"1.5\",\"5.5\",\"6.0\",\"2.0\",\"7.0\",\"1.0\",\"0.7166666666666667\",\"1.5\",\"10.0\",\"1.0\",\"2.0\",\"1.5\",\"17.5\",\"1.0\",\"1.0\",\"4.5\",\"1.0\",\"2.0\",\"2.0\",\"1.5\",\"12.0\",\"2.0\",\"3.5\",\"1.0\",\"1.5\",\"1.5\",\"1.5\",\"2.0\",\"2.0\",\"0.6833333333333333\",\"3.0\",\"1.5\",\"4.0\",\"2.5\",\"2.0\",\"4.0\",\"2.0\",\"2.5\",\"2.0\",\"2.5\",\"5.0\",\"3.5\",\"1.0\",\"4.0\",\"1.0\",\"1.0\",\"2.5\",\"1.0\",\"2.5\",\"4.5\",\"3.0\",\"2.0\",\"24.0\",\"19.5\",\"3.0\",\"1.5\",\"1.5\",\"2.0\",\"3.5\",\"2.5\",\"4.0\",\"20.5\",\"3.0\",\"1.0\",\"4.0\",\"3.0\",\"3.0\",\"2.0\",\"2.5\",\"3.0\",\"0.5\",\"0.7166666666666667\",\"2.0\",\"10.0\",\"20.5\",\"1.5\",\"10.5\",\"1.0\",\"1.5\",\"5.5\",\"4.5 hours\",\"2.0\",\"5.0\",\"4.5\",\"1.0\",\"6.5\",\"2.5\",\"6.0\",\"1.5\",\"2.0\",\"1.5\",\"1.0\",\"1.0\",\"0.7\",\"1.5\",\"4.0\",\"3.0\",\"5.5\",\"7.0\",\"1.0\",\"2.0\",\"5.5\",\"1.5\",\"2.5\",\"0.6833333333333333\",\"2.0\",\"0.5\",\"2.0\",\"2.0\",\"0.6833333333333333\",\"3.5\",\"5.5\",\"8.0\",\"2.5\",\"2.0\",\"2.0\",\"29.0\",\"4.0\",\"1.5\",\"3.0\",\"8.0\",\"3.0\",\"2.5\",\"1.0\",\"26.0\",\"1.5\",\"2.5\",\"1.5\",\"3.0\",\"0.7\",\"6.0\",\"1.0\",\"10.0\",\"1.0\",\"1.0\",\"11.0\",\"24.5\",\"3.0\",\"1.5\",\"2.0\",\"2.5\",\"2.0\",\"2.5\",\"6.0\",\"0.7166666666666667\",\"6.0\",\"1.0\",\"2.0\",\"2.5\",\"2.5\",\"1.5\",\"8.0\",\"1.0\",\"1.5\",\"1.0\",\"1.5\",\"10.0\",\"1.0\",\"3.0\",\"4.0\",\"1.0\",\"5.5\",\"3.5\",\"5.0\",\"1.5\",\"0.5833333333333334\",\"1.0\",\"13.0\",\"1.0\",\"1.0\",\"2.5\",\"1.5\",\"0.7333333333333333\",\"1.0\",\"3.5\",\"1.0\",\"2.5\",\"1.5\",\"1.5\",\"7.5\",\"6.0\",\"2.0\",\"1.5\",\"2.0\",\"0.6\",\"7.5\",\"1.5\",\"4.0\",\"1.0\",\"1.0\",\"3.5\",\"1.0\",\"0.7166666666666667\",\"0.5666666666666667\",\"2.0\",\"3.5\",\"1.5\",\"1.0\",\"1.5\",\"1.0\",\"1.5\",\"1.5\",\"1.5\",\"2.5\",\"2.0\",\"1.5\",\"3.0\",\"2.0\",\"1.0\",\"1.0\",\"1.5\",\"5.5\",\"12.5\",\"1.0\",\"2.0\",\"1.0\",\"3.5\",\"1.0\",\"12.5\",\"2.0\",\"1.0\",\"5.5\",\"0.31666666666666665\",\"5.5\",\"11.5\",\"8.0\",\"1.0\",\"0.6166666666666667\",\"1.5\",\"2.5\",\"2.0\",\"2.0\",\"2.0\",\"3.5\",\"2.0\",\"1.0\",\"1.0\",\"5.5\",\"2.0\",\"4.0\",\"1.0\",\"2.5\",\"4.5\",\"3.0\",\"4.5\",\"2.0\",\"1.5\",\"1.5\",\"0.6666666666666666\",\"2.0\",\"2.0\",\"6.5\",\"3.5\",\"1.0\",\"2.0\",\"6.0\",\"1.5\",\"1.5\",\"8.0\",\"4.5\",\"0.6\",\"2.0\",\"2.0\",\"3.5\",\"1.5\",\"2.5\",\"18.0\",\"3.5\",\"1.5\",\"19.5\",\"0.5666666666666667\",\"1.0\",\"1.0\",\"1.0\",\"24.5\",\"1.5\",\"1.5\",\"1.0\",\"6.5\",\"5.5\",\"7.5\",\"1.5\",\"1.5\",\"1.0\",\"0.5666666666666667\",\"2.0\",\"2.5\",\"2.5\",\"1.0\",\"1.0\",\"1.5\",\"0.5666666666666667\",\"0.7166666666666667\",\"1.0\",\"2.0\",\"0.5333333333333333\",\"33.0\",\"3.0\",\"24.5\",\"7.5\",\"3.0\",\"1.0\",\"3.5\",\"1.5\",\"5.0\",\"1.0\",\"0.5333333333333333\",\"1.0\",\"5.0\",\"10.5\",\"2.0\",\"7.0\",\"3.5\",\"9.0\",\"2.5\",\"3.0\",\"1.5\",\"2.0\",\"1.0\",\"4.5\",\"1.5\",\"1.0\",\"2.5\",\"2.5\",\"1.5\",\"2.5\",\"1.5\",\"2.5\",\"71.5\",\"7.0\",\"3.5\",\"1.0\",\"6.5\",\"1.0\",\"3.0\",\"2.0\",\"0.5833333333333334\",\"7.0\",\"3.5\",\"1.5\",\"1.0\",\"2.0\",\"1.0\",\"2.0\",\"3.0\",\"0.6166666666666667\",\"1.5\",\"2.5\",\"1.0\",\"3.0\",\"1.5\",\"1.0\",\"0.5166666666666666\",\"1.5\",\"47.0\",\"3.0\",\"2.0\",\"1.0\",\"1.0\",\"4.0\",\"14.5\",\"1.5\",\"1.5\",\"3.5\",\"1.5\",\"2.5\",\"2.0\",\"1.5\",\"5.0\",\"1.5\",\"2.0\",\"0.6166666666666667\",\"3.5\",\"3.0\",\"1.0\",\"1.5\",\"2.0\",\"3.0\",\"3.5\",\"0.5666666666666667\",\"0.6833333333333333\",\"1.0\",\"1.0\",\"0.65\",\"1.0\",\"2.5\",\"4.0\",\"4.0\",\"5.5\",\"6.0\",\"6.0\",\"5.5\",\"1.0\",\"14.5\",\"2.0\",\"1.5\",\"2.0\",\"3.0\",\"1.5\",\"2.5\",\"1.0\",\"0.55\",\"1.5\",\"2.0\",\"1.0\",\"2.0\",\"1.5\",\"2.0\",\"2.5\",\"1.0\",\"1.0\",\"3.5\",\"7.0\",\"18.5\",\"2.0\",\"2.5\",\"43.5\",\"0.6\",\"10.0\",\"2.5\",\"5.5\",\"1.5\",\"0.6333333333333333\",\"1.5\",\"2.0\",\"1.0\",\"4.5\",\"3.5\",\"0.6666666666666666\",\"5.5\",\"5.0\",\"4.0\",\"1.5\",\"1.5\",\"2.0\",\"5.0\",\"1.0\",\"4.0\",\"14.0\",\"5.0\",\"6.5\",\"1.0\",\"1.5\",\"1.0\",\"1.0\",\"1.5\",\"3.5\",\"14.5\",\"1.0\",\"1.5\",\"1.0\",\"7.0\",\"5.0\",\"2.0\",\"3.0\",\"3.0\",\"4.0\",\"2.0\",\"3.0\",\"1.0\",\"0.6333333333333333\",\"3.5\",\"6.0\",\"2.0\",\"1.5\",\"2.5\",\"4.5\",\"5.5\",\"1.0\",\"2.5\",\"2.5\",\"4.0\",\"2.0\",\"4.0\",\"7.5\",\"0.4666666666666667\",\"1.5\",\"10.0\",\"2.0\",\"5.0\",\"24.0\",\"9.0\",\"14.5\",\"1.0\",\"0.6166666666666667\",\"1.5\",\"1.0\",\"1.0\",\"1.0\",\"2.5\",\"0.5333333333333333\",\"1.0\",\"1.0\",\"1.0\",\"1.5\",\"3.5\",\"1.5\",\"0.5166666666666666\",\"1.0\",\"12.5\",\"1.5\",\"0.5833333333333334\",\"4.5\",\"2.0\",\"1.5\",\"3.5\",\"2.0\",\"1.5\",\"0.6833333333333333\",\"2.0\",\"2.0\",\"6.0\",\"5.5\",\"2.5\",\"3.5\",\"2.0\",\"1.0\",\"3.5\",\"1.0\",\"1.5\",\"5.0\",\"1.0\",\"2.5\",\"6.0\",\"0.5166666666666666\",\"1.0\",\"2.0\",\"2.0\",\"0.5333333333333333\",\"0.7333333333333333\",\"2.5\",\"1.0\",\"2.0\",\"2.5\",\"0.6166666666666667\",\"1.5\",\"2.0\",\"4.0\",\"6.0\",\"1.0\",\"1.0\",\"0.6166666666666667\",\"2.5\",\"2.0\",\"1.5\",\"3.0\",\"1.5\",\"1.5\",\"2.5\",\"0.5666666666666667\",\"6.5\",\"1.5\",\"0.7166666666666667\",\"4.5\",\"5.0\",\"3.0\",\"3.0\",\"1.0\",\"1.0\",\"0.5333333333333333\",\"1.5\",\"1.0\",\"1.5\",\"1.0\",\"3.0\",\"4.0\",\"3.5\",\"0.7\",\"3.5\",\"3.5\",\"1.5\",\"4.0\",\"6.0\",\"7.0\",\"2.5\",\"1.0\",\"7.5\",\"7.5\",\"5.5\",\"2.0\",\"2.0\",\"2.0\",\"5.0\",\"3.0\",\"3.0\",\"7.0\",\"1.0\",\"1.0\",\"1.0\",\"4.5\",\"2.5\",\"1.0\",\"3.0\",\"1.0\",\"2.5\",\"5.5\",\"3.0\",\"2.0\",\"3.0\",\"1.0\",\"12.0\",\"7.0\",\"1.0\",\"1.0\",\"0.5333333333333333\",\"1.0\",\"45.0\",\"1.5\",\"1.5\",\"2.5\",\"70.0\",\"4.0\",\"6.0\",\"4.5\",\"0.6\",\"1.0\",\"6.0\",\"8.0\",\"1.0\",\"0.6333333333333333\",\"0.6166666666666667\",\"0.5333333333333333\",\"2.0\",\"1.5\",\"1.0\",\"1.0\",\"0.0\",\"1.0\",\"1.0\",\"1.5\",\"3.0\",\"3.0\",\"2.0\",\"0.7166666666666667\",\"1.5\",\"1.0\",\"2.5\",\"2.0\",\"3.5\",\"2.5\",\"2.5\",\"1.5\",\"4.5\",\"1.0\",\"6.0\",\"2.0\",\"2.5\",\"2.0\",\"1.5\",\"1.5\",\"3.5\",\"3.0\",\"7.5\",\"3.0\",\"1.0\",\"1.0\",\"31.5\",\"0.5333333333333333\",\"1.5\",\"1.5\",\"2.0\",\"3.0\",\"4.5\",\"1.5\",\"1.5\",\"4.0\",\"1.0\",\"10.0\",\"1.5\",\"1.0\",\"2.5\",\"0.6333333333333333\",\"1.5\",\"1.0\",\"0.5166666666666666\",\"3.0\",\"3.0\",\"29.5\",\"2.5\",\"2.0\",\"6.5\",\"1.0\",\"2.0\",\"2.0\",\"2.5\",\"2.0\",\"1.0\",\"3.0\",\"1.0\",\"1.0\",\"1.0\",\"1.0\",\"1.0\",\"6.0\",\"5.0\",\"3.0\",\"13.0\",\"1.5\",\"3.0\",\"2.0\",\"3.5\",\"1.0\",\"4.0\",\"2.5\",\"5.0\",\"13.5\",\"2.5\",\"2.5\",\"0.6833333333333333\",\"3.5\",\"2.5\",\"0.6666666666666666\",\"0.45\",\"3.0\",\"4.5\",\"1.5\",\"1.5\",\"4.0\",\"6.5\",\"5.5\",\"0.5166666666666666\",\"2.5\",\"0.6833333333333333\",\"1.5\",\"1.0\",\"3.0\",\"1.0\",\"0.5666666666666667\",\"1.0\",\"4.5\",\"3.0\",\"2.5\",\"1.5\",\"1.5\",\"5.0\",\"4.0\",\"2.5\",\"2.0\",\"7.0\",\"1.0\",\"1.0\",\"2.5\",\"31.5\",\"5.5\",\"0.5333333333333333\",\"1.0\",\"5.5\",\"2.0\",\"2.5\",\"2.0\",\"3.5\",\"2.0\",\"1.0\",\"1.5\",\"6.5\",\"1.0\",\"1.0\",\"1.0\",\"3.5\",\"2.0\",\"2.0\",\"5.0\",\"1.5\",\"2.5\",\"10.5\",\"6.0\",\"1.0\",\"2.0\",\"8.5\",\"0.7333333333333333\",\"8.5\",\"2.0\",\"3.0\",\"0.65\",\"1.5\",\"3.5\",\"2.0\",\"0.6166666666666667\",\"5.5\",\"4.5\",\"5.5\",\"2.0\",\"1.5\",\"3.0\",\"1.5\",\"1.0\",\"5.0\",\"1.0\",\"2.0\",\"1.0\",\"1.0\",\"7.5\",\"4.5\",\"1.0\",\"11.0\",\"1.0\",\"3.5\",\"1.0\",\"1.5\",\"2.0\",\"4.5\",\"2.0\",\"4.0\",\"1.5\",\"0.6666666666666666\",\"1.0\",\"1.0\",\"1.0\",\"5.0\",\"8.5\",\"1.0\",\"2.0\",\"1.0\",\"4.0\",\"1.5\",\"8.5\",\"3.0\",\"1.5\",\"4.5\",\"5.0\",\"2.0\",\"7.0\",\"3.5\",\"5.5\",\"1.5\",\"2.5\",\"1.5\",\"1.0\",\"3.5\",\"1.0\",\"3.5\",\"2.0\",\"8.5\",\"10.5\",\"2.0\",\"5.5\",\"2.0\",\"2.5\",\"1.5\",\"1.0\",\"12.5\",\"0.6\",\"7.0\",\"14.0\",\"1.0\",\"1.5\",\"1.5\",\"2.0\",\"2.5\",\"1.5\",\"3.0\",\"2.5\",\"5.5\",\"17.5\",\"3.5\",\"2.5\",\"4.5\",\"8.5\",\"1.0\",\"6.5\",\"2.0\",\"8.0\",\"5.0\",\"17.5\",\"1.5\",\"8.5\",\"2.0\",\"1.5\",\"4.0\",\"1.0\",\"4.5\",\"4.0\",\"2.5\",\"2.0\",\"1.0\",\"3.0\",\"3.0\",\"1.5\",\"0.5666666666666667\",\"8.0\",\"4.0\",\"3.0\",\"1.0\",\"3.5\",\"1.5\",\"2.5\",\"2.5\",\"1.5\",\"0.7166666666666667\",\"1.0\",\"2.0\",\"5.5\",\"2.5\",\"2.5\",\"0.65\",\"3.0\",\"3.0\",\"1.5\",\"0.6333333333333333\",\"1.5\",\"13.0\",\"0.6166666666666667\",\"6.0\",\"4.0\",\"1.0\",\"0.5666666666666667\",\"5.0\",\"2.0\",\"21.0\",\"12.0\",\"1.5\",\"1.0\",\"7.5\",\"1.0\",\"2.0\",\"62.0\",\"1.5\",\"3.0\",\"2.5\",\"0.5\",\"8.0\",\"11.0\",\"11.5\",\"5.0\",\"68.5\",\"3.5\",\"2.5\",\"6.5\",\"9.0\",\"3.5\",\"3.5\",\"3.0\",\"1.0\",\"1.0\",\"1.5\",\"3.0\",\"3.5\",\"1.0\",\"1.0\",\"0.6\",\"5.0\",\"7.5\",\"3.5\",\"1.0\",\"0.6166666666666667\",\"1.0\",\"6.0\",\"2.0\",\"1.0\",\"1.0\",\"0.5666666666666667\",\"1.0\",\"1.0\",\"6.5\",\"2.0\",\"2.0\",\"1.0\",\"2.5\",\"2.0\",\"1.5\",\"2.0\",\"1.0\",\"1.0\",\"2.5\",\"1.0\",\"11.0\",\"12.0\",\"17.5\",\"11.0\",\"7.5\",\"3.0\",\"13.0\",\"12.5\",\"2.5\",\"2.5\",\"1.5\",\"5.5\",\"1.5\",\"2.5\",\"1.0\",\"0.6833333333333333\",\"6.0\",\"3.0\",\"1.5\",\"0.7\",\"0.55\",\"2.0\",\"1.5\",\"4.0\",\"5.0\",\"1.5\",\"0.7\",\"10.0\",\"1.0\",\"11.5\",\"2.5\",\"1.0\",\"1.0\",\"1.5\",\"2.0\",\"3.5\",\"0.5666666666666667\",\"0.6333333333333333\",\"0.5166666666666666\",\"0.5333333333333333\",\"0.5666666666666667\",\"1.0\",\"1.5\",\"0.6833333333333333\",\"4.5\",\"1.0\",\"0.6833333333333333\",\"2.0\",\"12.0\",\"3.5\",\"0.6833333333333333\",\"3.0\",\"13.5\",\"5.5\",\"1.0\",\"2.5\",\"1.5\",\"0.6\",\"1.5\",\"1.5\",\"10.5\",\"3.5\",\"1.5\",\"14.0\",\"1.0\",\"3.5\",\"2.5\",\"2.5\",\"6.5\",\"1.0\",\"1.5\",\"4.5\",\"6.5\",\"1.5\",\"9.5\",\"2.0\",\"1.5\",\"12.5\",\"12.5\",\"2.0\",\"9.0\",\"3.0\",\"1.0\",\"2.5\",\"6.5\",\"2.5\",\"3.0\",\"2.0\",\"4.5\",\"0.6666666666666666\",\"7.0\",\"3.0\",\"0.7\",\"2.5\",\"1.0\",\"2.0\",\"8.5\",\"5.5\",\"4.0\",\"1.0\",\"3.0\",\"6.5\",\"4.0\",\"12.0\",\"1.5\",\"2.5\",\"3.5\",\"7.5\",\"1.0\",\"5.5\",\"2.0\",\"5.0\",\"13.0\",\"3.0\",\"12.5\",\"1.5\",\"1.0\",\"1.0\",\"0.5833333333333334\",\"1.0\",\"3.0\",\"3.5\",\"4.5\",\"10.0\",\"1.0\",\"1.5\",\"1.0\",\"0.7333333333333333\",\"6.5\",\"1.5\",\"1.0\",\"3.5\",\"0.5666666666666667\",\"1.5\",\"2.5\",\"2.0\",\"8.0\",\"0.6666666666666666\",\"4.0\",\"1.0\",\"0.6333333333333333\",\"1.0\",\"4.5\",\"1.5\",\"2.0\",\"1.0\",\"1.5\",\"1.0\",\"2.0\",\"2.0\",\"8.0\",\"1.5\",\"3.5\",\"1.5\",\"8.0\",\"0.6166666666666667\",\"2.0\",\"10.5\",\"3.0\",\"1.5\",\"1.5\",\"2.0\",\"0.6833333333333333\",\"5.5\",\"3.0\",\"1.0\",\"2.0\",\"2.0\",\"1.0\",\"5.0\",\"1.0\",\"3.5\",\"2.5\",\"1.5\",\"12.5\",\"0.6333333333333333\",\"1.5\",\"4.5\",\"0.6666666666666666\",\"1.5\",\"1.0\",\"1.0\",\"1.5\",\"3.5\",\"3.5\",\"0.5666666666666667\",\"1.0\",\"2.5\",\"1.0\",\"0.6166666666666667\",\"2.5\",\"9.5\",\"0.6166666666666667\",\"5.5\",\"2.0\",\"7.0\",\"4.0\",\"8.5\",\"4.5\",\"6.5\",\"1.0\",\"8.5\",\"0.7333333333333333\",\"2.0\",\"2.5\",\"2.5\",\"0.6333333333333333\",\"6.0\",\"2.0\",\"2.5\",\"1.0\",\"7.5\",\"5.0\",\"1.0\",\"1.5\",\"1.5\",\"12.0\",\"7.5\",\"2.5\",\"1.0\",\"1.5\",\"4.5\",\"14.5\",\"1.5\",\"1.0\",\"30.0\",\"2.0\",\"1.0\",\"0.6166666666666667\",\"1.0\",\"0.6166666666666667\",\"1.5\",\"1.0\",\"2.0\",\"2.5\",\"1.0\",\"6.5\",\"2.0\",\"5.0\",\"17.0\",\"1.5\",\"3.0\",\"1.5\",\"0.5333333333333333\",\"4.0\",\"0.6\",\"2.0\",\"0.7\",\"1.0\",\"1.0\",\"0.5833333333333334\",\"1.5\",\"4.0\",\"1.0\",\"4.0\",\"0.7333333333333333\",\"5.5\",\"1.5\",\"1.5\",\"1.5\",\"2.5\",\"3.5\",\"1.5\",\"4.0\",\"1.0\",\"4.0\",\"0.5833333333333334\",\"1.0\",\"2.5\",\"1.5\",\"5.0\",\"2.5\",\"1.0\",\"1.0\",\"0.55\",\"2.5\",\"1.0\",\"1.0\",\"1.0\",\"0.6833333333333333\",\"2.0\",\"4.5\",\"0.6333333333333333\",\"3.5\",\"1.0\",\"0.6166666666666667\",\"2.5\",\"2.5\",\"1.0\",\"20.0\",\"1.5\",\"5.0\",\"16.5\",\"2.0\",\"1.0\",\"4.0\",\"3.5\",\"2.5\",\"1.0\",\"2.5\",\"5.5\",\"2.5\",\"0.7\",\"1.0\",\"3.5\",\"2.5\",\"1.5\",\"1.5\",\"1.0\",\"2.0\",\"7.0\",\"4.5\",\"0.5666666666666667\",\"2.0\",\"0.6\",\"0.6833333333333333\",\"2.5\",\"1.5\",\"1.0\",\"0.65\",\"5.0\",\"4.0\",\"2.0\",\"5.0\",\"3.0\",\"7.5\",\"5.0\",\"2.0\",\"0.6333333333333333\",\"10.5\",\"6.0\",\"3.0\",\"5.5\",\"0.7166666666666667\",\"0.5833333333333334\",\"3.5\",\"0.6\",\"0.6166666666666667\",\"1.5\",\"3.5\",\"2.0\",\"1.0\",\"0.7166666666666667\",\"0.6666666666666666\",\"10.0\",\"3.5\",\"2.5\",\"4.0\",\"1.0\",\"1.0\",\"3.0\",\"15.0\",\"0.5\",\"1.0\",\"20.5\",\"1.5\",\"2.0\",\"1.0\",\"4.5\",\"3.0\",\"2.5\",\"2.0\",\"2.0\",\"1.0\",\"4.5\",\"1.5\",\"1.5\",\"3.0\",\"1.0\",\"2.0\",\"6.5\",\"5.0\",\"2.0\",\"2.0\",\"78.5\",\"7.5\",\"1.0\",\"1.0\",\"1.0\",\"8.0\",\"3.5\",\"1.5\",\"6.0\",\"3.0\",\"4.5\",\"12.0\",\"1.0\",\"1.5\",\"16.0\",\"1.0\",\"3.0\",\"2.5\",\"2.0\",\"1.0\",\"2.0\",\"2.0\",\"1.0\",\"2.0\",\"4.0\",\"2.0\",\"4.5\",\"1.0\",\"0.5333333333333333\",\"0.7166666666666667\",\"1.0\",\"1.5\",\"1.0\",\"2.0\",\"0.6166666666666667\",\"1.5\",\"1.5\",\"2.0\",\"3.0\",\"9.0\",\"2.0\",\"2.5\",\"2.5\",\"3.0\",\"1.0\",\"1.0\",\"3.0\",\"1.0\",\"11.0\",\"5.5\",\"2.5\",\"1.0\",\"4.5\",\"4.5\",\"1.5\",\"2.0\",\"4.0\",\"1.0\",\"5.0\",\"0.5\",\"2.5\",\"1.5\",\"6.5\",\"3.0\",\"1.5\",\"1.0\",\"2.0\",\"7.0\",\"4.5\",\"4.0\",\"5.0\",\"8.0\",\"5.5\",\"1.0\",\"2.0\",\"4.0\",\"4.0\",\"8.5\",\"1.0\",\"2.0\",\"1.0\",\"9.5\",\"0.5166666666666666\",\"0.5166666666666666\",\"1.5\",\"5.0\",\"1.0\",\"2.0\",\"1.0\",\"1.0\",\"8.0\",\"6.0\",\"1.0\",\"1.0\",\"1.5\",\"6.0\",\"0.5333333333333333\",\"6.0\",\"9.5\",\"2.5\",\"2.5\",\"2.5\",\"2.0\",\"0.6166666666666667\",\"8.0\",\"1.0\",\"1.5\",\"3.0\",\"24.0\",\"2.0\",\"2.0\",\"2.5\",\"2.0\",\"1.5\",\"2.5\",\"7.5\",\"2.0\",\"1.0\",\"1.0\",\"1.0\",\"1.0\",\"1.0\",\"1.5\",\"0.65\",\"1.0\",\"0.6333333333333333\",\"1.0\",\"3.0\",\"8.0\",\"1.5\",\"2.0\",\"0.5333333333333333\",\"4.5\",\"1.5\",\"2.0\",\"7.5\",\"0.7\",\"0.7\",\"1.5\",\"1.5\",\"1.5\",\"2.0\",\"3.0\",\"2.0\",\"1.5\",\"0.6333333333333333\",\"1.0\",\"1.5\",\"2.5\",\"1.0\",\"3.0\",\"0.5166666666666666\",\"1.0\",\"2.5\",\"3.0\",\"2.5\",\"2.0\",\"2.0\",\"1.0\",\"7.0\",\"3.5\",\"1.0\",\"1.5\",\"3.0\",\"2.0\",\"0.6333333333333333\",\"7.5\",\"1.5\",\"0.7\",\"4.0\",\"7.0\",\"1.5\",\"2.0\",\"7.5\",\"6.0\",\"0.6833333333333333\",\"2.5\",\"3.0\",\"0.5\",\"10.5\",\"2.0\",\"3.0\",\"2.0\",\"3.5\",\"1.5\",\"5.0\",\"2.0\",\"2.5\",\"3.0\",\"0.5\",\"2.0\",\"1.0\",\"2.5\",\"1.0\",\"2.5\",\"2.5\",\"1.0\",\"6.0\",\"5.5\",\"1.5\",\"3.0\",\"1.0\",\"2.0\",\"2.5\",\"1.0\",\"2.0\",\"43 mins\",\"2.0\",\"3.5\",\"2.0\",\"8.0\",\"4.5\",\"3.0\",\"2.5\",\"0.7333333333333333\",\"2.0\",\"1.0\",\"1.5\",\"1.0\",\"3.0\",\"4.5\",\"2.0\",\"3.5\",\"1.0\",\"1.0\",\"1.0\",\"2.5\",\"1.0\",\"4.0\",\"5.5\",\"1.0\",\"2.5\",\"11.5\",\"2.0\",\"4.0\",\"1.5\",\"3.0\",\"5.0\",\"5.0\",\"5.5\",\"7.5\",\"4.0\",\"1.5\",\"1.5\",\"1.0\",\"0.6666666666666666\",\"1.5\",\"4.5\",\"1.5\",\"6.0\",\"1.5\",\"1.5\",\"2.0\",\"2.5\",\"1.0\",\"2.5\",\"4.5\",\"2.5\",\"0.48333333333333334\",\"1.0\",\"1.5\",\"1.5\",\"2.5\",\"0.65\",\"1.0\",\"1.5\",\"1.0\",\"2.0\",\"2.0\",\"1.5\",\"3.5\",\"1.5\",\"1.0\",\"10.0\",\"1.5\",\"1.0\",\"11.5\",\"1.5\",\"18.5\",\"1.5\",\"5.0\",\"4.5\",\"1.0\",\"1.5\",\"1.5\",\"2.0\",\"4.0\",\"1.0\",\"1.5\",\"6.5\",\"8.5\",\"1.0\",\"1.0\",\"30.0\",\"9.5\",\"3.0\",\"34.0\",\"5.0\",\"31.0\",\"1.5\",\"15.5\",\"1.5\",\"11.5\",\"8.5\",\"9.0\",\"1.5\",\"1.5\",\"1.0\",\"1.5\",\"3.5\",\"1.0\",\"6.0\",\"1.5\",\"1.0\",\"1.5\",\"2.0\",\"1.5\",\"0.6333333333333333\",\"1.5\",\"5.0\",\"1.5\",\"1.0\",\"2.5\",\"1.5\",\"1.0\",\"2.5\",\"1.0\",\"2.5\",\"2.0\",\"1.0\",\"14.0\",\"1.0\",\"1.5\",\"1.0\",\"4.0\",\"28.5\",\"1.0\",\"2.0\",\"1.5\",\"2.5\",\"0.6\",\"1.0\",\"1.0\",\"0.6166666666666667\",\"2.5\",\"3.0\",\"1.0\",\"1.5\",\"2 hours\",\"5.0\",\"5.5\",\"10.5\",\"23.0\",\"1.5\",\"3.0\",\"1.5\",\"2.5\",\"1.0\",\"7.0\",\"1.5\",\"1.5\",\"0.7333333333333333\",\"1.0\",\"1.0\",\"8.0\",\"4.0\",\"4.5\",\"0.6666666666666666\",\"1.5\",\"6.0\",\"2.0\",\"2.0\",\"6.0\",\"3.5\",\"6.5\",\"0.6666666666666666\",\"5.0\",\"5.0\",\"12.5\",\"1.0\",\"4.0\",\"3.0\",\"3.0\",\"1.0\",\"1.0\",\"4.0\",\"5.0\",\"2.5\",\"0.5833333333333334\",\"3.0\",\"0.5\",\"1.0\",\"0.5833333333333334\",\"1.0\",\"1.5\",\"1.5\",\"2.0\",\"1.5\",\"1.0\",\"3.0\",\"3.0\",\"1.5\",\"6.5\",\"1.0\",\"7.0\",\"3.5\",\"2.0\",\"3.0\",\"3.0\",\"2.5\",\"8.0\",\"2.5\",\"2.0\",\"4.0\",\"5.5\",\"3.0\",\"2.0\",\"3.0\",\"1.0\",\"1.0\",\"2.0\",\"1.5\",\"1.0\",\"4.0\",\"1.5\",\"1.5\",\"0.7333333333333333\",\"1.0\",\"3.5\",\"2.0\",\"0.6\",\"2.0\",\"1.5\",\"3.0\",\"2.5\",\"4.5\",\"1.5\",\"3.5\",\"1.5\",\"2.5\",\"1.0\",\"2.5\",\"2.5\",\"3.5\",\"2.0\",\"3.0\",\"1.0\",\"1.5\",\"3.5\",\"2.0\",\"3.0\",\"0.55\",\"1.5\",\"1.5\",\"2.0\",\"4.0\",\"1.5\",\"1.0\",\"1.0\",\"3.0\",\"2.0\",\"6.0\",\"5.0\",\"4.0\",\"0.5333333333333333\",\"4.5\",\"9.5\",\"0.5333333333333333\",\"1.0\",\"1.0\",\"3.5\",\"3.0\",\"1.5\",\"6.0\",\"1.5\",\"2.0\",\"2.5 hours\",\"4.0\",\"1.0\",\"38.0\",\"9.0\",\"2.0\",\"1.5\",\"1.5\",\"1.5\",\"3.0\",\"2.0\",\"2.0\",\"2.0\",\"6.0\",\"1.5\",\"4 hours\",\"2.5\",\"7.0\",\"10.5\",\"1.5\",\"1.5\",\"3.5\",\"1.5\",\"2.5\",\"4.0\",\"8.5\",\"3.5\",\"5.0\",\"3.5\",\"8.0\",\"7.0\",\"4.5\",\"0.7166666666666667\",\"1.5\",\"3.0\",\"2.5\",\"2.5\",\"1.0\",\"3.5\",\"3.0\",\"3.0\",\"3.5\",\"6.0\",\"4.0\",\"3.0\",\"2.0\",\"7.0\",\"3.0\",\"0.7333333333333333\",\"2.0\",\"2.0\",\"1.0\",\"1.5\",\"1.0\",\"1.5\",\"1.0\",\"1.0\",\"2.0\",\"1.5\",\"6.5\",\"2.5\",\"2.0\",\"1.5\",\"0.6666666666666666\",\"4.5\",\"5.0\",\"2.0\",\"1.5\",\"3.0\",\"1.0\",\"1.0\",\"2.5\",\"7.5\",\"7.0\",\"1.0\",\"2.5\",\"0.6166666666666667\",\"1.0\",\"3.0\",\"2.0\",\"1.5\",\"4.0\",\"3.0\",\"1.5\",\"3.5\",\"3.0\",\"5.5\",\"3.0\",\"1.5\",\"2.5\",\"1.0\",\"4.5\",\"1.5\",\"2.0\",\"2.0\",\"1.0\",\"2.0\",\"1.0\",\"1.5\",\"6.5\",\"3.0\",\"3.5\",\"1.5\",\"4.0\",\"5.0\",\"2.5\",\"1.5\",\"1.0\",\"1.0\",\"5.5\",\"3.5\",\"1.5\",\"2.5\",\"4.5\",\"5.5\",\"4.0\",\"1.5\",\"3.0\",\"8.0\",\"1.0\",\"1.5\",\"5.5\",\"5.5\",\"1.5\",\"6.0\",\"4.0\",\"1.0\",\"5.5\",\"1.5\",\"2.0\",\"0.7166666666666667\",\"0.6666666666666666\",\"2.0\",\"3.0\",\"2.5\",\"7.0\",\"1.5\",\"0.6333333333333333\",\"2.0\",\"7.5\",\"1.5\",\"2.0\",\"1.5\",\"1.0\",\"1.5\",\"3.5\",\"7.5\",\"4.5\",\"7.5\",\"2.5\",\"3.0\",\"1.5\",\"4.0\",\"1.0\",\"1.5\",\"5.5\",\"1.5\",\"2.0\",\"0.5833333333333334\",\"3.5\",\"0.7166666666666667\",\"2.0\",\"1.0\",\"3.5\",\"1.5\",\"1.0\",\"1.5\",\"1.0\",\"3.0\",\"1.0\",\"1.5\",\"3.5\",\"2.5\",\"4.0\",\"3.0\",\"2.0\",\"2.5\",\"1.0\",\"1.0\",\"4.0\",\"2.0\",\"1.0\",\"0.6333333333333333\",\"2.0\",\"1.0\",\"2.0\",\"1.0\",\"1.0\",\"1.5\",\"2.5\",\"0.5333333333333333\",\"1.5\",\"2.5\",\"1.0\",\"1.0\",\"1.5\",\"1.0\",\"0.5333333333333333\",\"2.0\",\"1.5\",\"4.0\",\"1.0\",\"0.55\",\"2.5\",\"3.0\",\"0.55\",\"1.5\",\"1.0\",\"2.0\",\"2.0\",\"7.0\",\"1.0\",\"3.5\",\"0.6\",\"3.0\",\"1.0\",\"5.5\",\"1.5\",\"0.5666666666666667\",\"2.5\",\"1.5\",\"1.0\",\"0.5\",\"0.5\",\"0.65\",\"2.0\",\"0.5333333333333333\",\"0.5333333333333333\",\"0.6333333333333333\",\"2.5\",\"0.55\",\"0.5833333333333334\",\"0.5166666666666666\",\"0.5166666666666666\",\"1.0\",\"1.5\",\"0.7333333333333333\",\"10.5\",\"1.0\",\"1.5\",\"4.0\",\"1.0\",\"1.5\",\"4.5\",\"0.6166666666666667\",\"1.5\",\"2.0\",\"4.5\",\"5.0\",\"4.0\",\"1.0\",\"1.5\",\"2.5\",\"1.5\",\"0.65\",\"2.5\",\"1.5\",\"4.0\",\"4.5\",\"3.5\",\"0.5333333333333333\",\"0.6166666666666667\",\"3.0\",\"2.5\",\"1.5\",\"0.7333333333333333\",\"1.5\",\"1.5\",\"2.0\",\"0.7\",\"2.0\",\"2.0\",\"1.0\",\"1.5\",\"4.5\",\"3.0\",\"2.5\",\"1.0\",\"2.0\",\"1.0\",\"6.0\",\"0.5666666666666667\",\"4.5\",\"6.0\",\"2.0\",\"3.0\",\"2.0\",\"1.0\",\"4.0\",\"3.5\",\"3.0\",\"3.5\",\"0.7\",\"3.0\",\"1.0\",\"3.0\",\"1.0\",\"3.0\",\"3.0\",\"4.0\",\"12.5\",\"4.5\",\"15.5\",\"5.5\",\"4.0\",\"5.5\",\"5.0\",\"19.5\",\"5.5\",\"7.0\",\"6.0\",\"1.5\",\"4.0\",\"3.5\",\"12.0\",\"3.0\",\"1.5\",\"3.0\",\"4.0\",\"5.0\",\"6.0\",\"32.5\",\"1.0\",\"9.5\",\"9.0\",\"7.5\",\"18.5\",\"5.0\",\"19.0\",\"15.0\",\"20.5\",\"3.0\",\"13.5\",\"3.5\",\"37.5\",\"3.5\",\"4.0\",\"1.0\",\"14.5\",\"2.0\",\"2.5\",\"1.5\",\"3.0\",\"1.5\",\"1.0\",\"4.0\",\"1.0\",\"7.0\",\"5.5\",\"3.5\",\"1.5\",\"17.5\",\"1.0\",\"2.5\",\"1.0\",\"10.0\",\"1.0\",\"8.5\",\"2.5\",\"6.5\",\"3.5\",\"8.0\",\"10.5\",\"2.5\",\"1.0\",\"1.5\",\"2.5\",\"10.5\",\"2.0\",\"3.0\",\"1.5\",\"8.0\",\"12.0\",\"25.0\",\"11.0\",\"4.5\",\"4.5\",\"8.5\",\"9.0\",\"20.0\",\"1.5\",\"7.0\",\"4.0\",\"5.0\",\"19.5\",\"7.5\",\"25.5\",\"12.0\",\"20.5\",\"3.0\",\"7.5\",\"45.0\",\"11.0\",\"33.0\",\"16.0\",\"11.0\",\"3.5\",\"2.5\",\"12.5\",\"4.0\",\"3.5\",\"11.5\",\"2.0\",\"1.5\",\"1.0\",\"3.0\",\"1.0\",\"4.0\",\"2.0\",\"2.0\",\"15.0\",\"4.0\",\"2.5\",\"3.5\",\"2.0\",\"2.5\",\"2.0\",\"3.5\",\"4.5\",\"4.5\",\"1.0\",\"3.0\",\"19.5\",\"6.5\",\"60.0\",\"11.5\",\"5.5\",\"10.0\",\"7.0\",\"16.5\",\"2.0\",\"1.5\",\"22.5\",\"13.5\",\"2.0\",\"7.0\",\"4.0\",\"5.5\",\"3.5\",\"2.0\",\"1.0\",\"1.5\",\"2.0\",\"3.0\",\"1.0\",\"10.0\",\"23.0\",\"18.0\",\"6.5\",\"18.5\",\"20.5\",\"6.5\",\"6.0\",\"14.5\",\"13.0\",\"8.5\",\"8.5\",\"5.0\",\"1.0\",\"4.5\",\"3.0\",\"6.0\",\"10.0\",\"3.5\",\"2.5\",\"1.5\",\"2.0\",\"2.0\",\"3.0\",\"7.5\",\"1.5\",\"5.5\",\"3.5\",\"1.0\",\"2.0\",\"1.5\",\"6.5\",\"3.0\",\"2.0\",\"2.5\",\"4.5\",\"4.5\",\"2.5\",\"6.0\",\"1.5\",\"3.0\",\"14.0\",\"2.0\",\"5.0\",\"1.0\",\"1.0\",\"3.5\",\"1.0\",\"1.0\",\"2.5\",\"16.5\",\"4.0\",\"2.0\",\"6.5\",\"1.0\",\"29.5\",\"3.0\",\"21.5\",\"31.5\",\"15.5\",\"4.0\",\"12.0\",\"27.5\",\"5.5\",\"9.0\",\"5.0\",\"20.5\",\"14.5\",\"44.5\",\"9.0\",\"14.0\",\"15.5\",\"5.5\",\"22.5\",\"9.0\",\"12.0\",\"12.5\",\"3.5\",\"16.0\",\"13.0\",\"3.0\",\"4.0\",\"0.6\",\"1.0\",\"6.0\",\"1.0\",\"4.0\",\"1.0\",\"19.0\",\"1.5\",\"3.5\",\"18.0\",\"11.5\",\"24.5\",\"4.0\",\"2.0\",\"7.5\",\"1.5\",\"7.0\",\"2.5\",\"2.5\",\"2.0\",\"1.0\",\"25.0\",\"1.0\",\"15.5\",\"6.0\",\"6.0\",\"5.0\",\"4.5\",\"2.5\",\"2.5\",\"3.0\",\"8.5\",\"5.0\",\"5.0\",\"5.0\",\"1.0\",\"0.6666666666666666\",\"11.0\",\"4.0\",\"1.5\",\"1.0\",\"1.5\",\"1.0\",\"2.5\",\"4.0\",\"6.0\",\"4.5\",\"4.5\",\"4.0\",\"7.0\",\"18.5\",\"1.5\",\"6.5\",\"0.6666666666666666\",\"2.5\",\"1.5\",\"3.5\",\"1.5\",\"3.5\",\"1.5\",\"1.0\",\"4.0\",\"4.5\",\"13.0\",\"11.0\",\"8.5\",\"9.0\",\"4.5\",\"3.5\",\"3.0\",\"1.5\",\"2.0\",\"9.0\",\"14.5\",\"3.0\",\"5.5\",\"51.0\",\"2.0\",\"32.5\",\"10.5\",\"12.0\",\"9.5\",\"3.0\",\"13.0\",\"4.0\",\"1.0\",\"1.5\",\"2.0\",\"12.5\",\"1.5\",\"9.5\",\"2.0\",\"4.5\",\"1.5\",\"2.5\",\"1.0\",\"1.0\",\"1.5\",\"3.0\",\"4.5\",\"1.0\",\"11.0\",\"13.5\",\"8.0\",\"2.0\",\"3.0\",\"1.5\",\"2.5\",\"6.5\",\"1.5\",\"0.7166666666666667\",\"1.0\",\"2.5\",\"4.0\",\"3.5\",\"7.5\",\"4.0\",\"3.5\",\"2.0\",\"0.7\",\"3.0\",\"3.5\",\"13.5\",\"2.5\",\"1.0\",\"0.6166666666666667\",\"3.0\",\"4.0\",\"2.0\",\"1.0\",\"9.0\",\"2.0\",\"1.0\",\"3.0\",\"1.5\",\"1.5\",\"1.0\",\"1.5\",\"2.0\",\"2.5\",\"1.0\",\"2.0\",\"13.0\",\"1.5\",\"2.0\",\"4.0\",\"8.0\",\"6.0\",\"2.0\",\"2.0\",\"3.5\",\"0.5333333333333333\",\"2.0\",\"9.0\",\"10.5\",\"3.5\",\"2.0\",\"4.0\",\"4.0\",\"1.5\",\"1.5\",\"1.0\",\"12.5\",\"1.0\",\"1.0\",\"1.0\",\"1.5\",\"1.5\",\"2.0\",\"1.0\",\"2.5\",\"12.5\",\"2.0\",\"1.5\",\"1.0\",\"1.0\",\"1.0\",\"3.5\",\"3.5\",\"2.5\",\"6.0\",\"3.5\",\"6.5\",\"4.0\",\"6.0\",\"1.5\",\"3.0\",\"4.0\",\"19.0\",\"0.5666666666666667\",\"2.0\",\"17.0\",\"7.5\",\"3.0\",\"4.0\",\"1.5\",\"3.5\",\"1.5\",\"3.0\",\"2.0\",\"2.0\",\"3.0\",\"1.5\",\"9.0\",\"2.5\",\"9.0\",\"4.0\",\"11.0\",\"8.0\",\"7.0\",\"0.6833333333333333\",\"3.5\",\"3.5\",\"1.5\",\"1.5\",\"17.5\",\"3.0\",\"2.0\",\"6.5\",\"7.0\",\"1.0\",\"5.5\",\"1.0\",\"1.5\",\"0.7\",\"1.0\",\"1.0\",\"7.0\",\"6.0\",\"5.5\",\"1.0\",\"1.5\",\"3.0\",\"8.0\",\"1.0\",\"1.0\",\"0.55\",\"44.5\",\"16.5\",\"5.0\",\"3.0\",\"3.0\",\"3.0\",\"2.0\",\"1.5\",\"4.0\",\"2.0\",\"0.5833333333333334\",\"5.0\",\"2.0\",\"2.0\",\"1.5\",\"3.0\",\"2.5\",\"14.0\",\"9.0\",\"3.5\",\"2.0\",\"57.0\",\"7.5\",\"4.0\",\"5.0\",\"1.0\",\"1.5\",\"1.5\",\"4.0\",\"2.5\",\"3.0\",\"8.0\",\"9.5\",\"8.0\",\"3.0\",\"1.5\",\"2.0\",\"14.0\",\"2.0\",\"2.5\",\"1.0\",\"2.5\",\"6.5\",\"6.0\",\"3.0\",\"3.0\",\"2.0\",\"3.5\",\"1.0\",\"13.0\",\"4.5\",\"13.0\",\"5.0\",\"3.5\",\"1.0\",\"3.5\",\"9.5\",\"4.0\",\"0.55\",\"0.6333333333333333\",\"3.5\",\"5.5\",\"4.5\",\"9.0\",\"11.0\",\"10.5\",\"0.5333333333333333\",\"2.5\",\"0.6333333333333333\",\"2.5\",\"1.5\",\"3.5\",\"2.0\",\"8.0\",\"4.5\",\"7.0\",\"1.5\",\"1.5\",\"13.5\",\"4.0\",\"2.0\",\"4.0\",\"3.0\",\"1.5\",\"12.0\",\"2.5\",\"1.5\",\"3.5\",\"5.0\",\"0.65\",\"8.0\",\"2.0\",\"0.65\",\"2.0\",\"6.0\",\"5.5\",\"4.5\",\"4.5\",\"2.5\",\"15.5\",\"5.5\",\"1.5\",\"2.0\",\"1.0\",\"18.5\",\"7.5\",\"7.0\",\"1.5\",\"16.5\",\"3.0\",\"5.0\",\"0.6666666666666666\",\"4.0\",\"1.0\",\"1.5\",\"1.5\",\"3.5\",\"6.5\",\"7.0\",\"0.6666666666666666\",\"6.0\",\"0.6\",\"2.0\",\"2.5\",\"10.0\",\"1.0\",\"1.0\",\"14.5\",\"7.5\",\"10.5\",\"3.5\",\"2.0\",\"1.5\",\"5.5\",\"7.5\",\"7.0\",\"2.0\",\"2.5\",\"2.5\",\"0.6666666666666666\",\"3.0\",\"0.5666666666666667\",\"4.5\",\"2.0\",\"4.0\",\"5.5\",\"5.0\",\"16.0\",\"9.0\",\"3.5\",\"76.5\",\"9.0\",\"11.5\",\"1.5\",\"11.5\",\"19.5\",\"9.0\",\"11.0\",\"5.0\",\"1.5\",\"3.5\",\"1.0\",\"2.0\",\"2.0\",\"2.0\",\"11.0\",\"1.5\",\"13.0\",\"7.0\",\"14.5\",\"2.0\",\"2.5\",\"10.5\",\"3.5\",\"1.0\",\"5.0\",\"1.0\",\"2.0\",\"1.5\",\"7.0\",\"2.5\",\"3.0\",\"20.0\",\"16.5\",\"12.5\",\"4.5\",\"4.0\",\"8.5\",\"5.5\",\"6.0\",\"3.0\",\"10.0\",\"4.0\",\"4.0\",\"5.0\",\"15.5\",\"3.5\",\"1.5\",\"9.0\",\"4.5\",\"5.0\",\"2.0\",\"3.0\",\"0.6333333333333333\",\"20.0\",\"6.0\",\"8.0\",\"31.5\",\"14.5\",\"10.5\",\"12.5\",\"22.0\",\"8.0\",\"30.5\",\"17.0\",\"31.5\",\"3.0\",\"5.0\",\"3.5\",\"2.0\",\"3.5\",\"4.5\",\"2.5\",\"6.5\",\"5.5\",\"6.5\",\"2.0\",\"1.0\",\"13.5\",\"8.0\",\"18.0\",\"8.0\",\"17.5\",\"8.5\",\"9.5\",\"9.0\",\"43.0\",\"10.0\",\"30.5\",\"32.5\",\"5.0\",\"3.5\",\"3.5\",\"5.5\",\"18.5\",\"1.0\",\"42.0\",\"7.0\",\"11.5\",\"5.5\",\"12.0\",\"6.5\",\"13.0\",\"7.0\",\"12.0\",\"26.5\",\"6.0\",\"7.5\",\"13.0\",\"1.0\",\"7.5\",\"1.0\",\"0.6166666666666667\",\"3.5\",\"9.5\",\"2.0\",\"7.5\",\"3.5\",\"0.6333333333333333\",\"3.0\",\"3.0\",\"1.5\",\"2.0\",\"0.6166666666666667\",\"6.5\",\"5.5\",\"0.5833333333333334\",\"1.0\",\"4.5\",\"7.5\",\"5.5\",\"14.0\",\"0.5833333333333334\",\"5.5\",\"1.5\",\"1.0\",\"10.5\",\"2.0\",\"6.5\",\"1.0\",\"1.5\",\"1.0\",\"1.0\",\"3.0\",\"4.0\",\"4.0\",\"1.0\",\"7.5\",\"16.0\",\"2.5\",\"3.0\",\"5.5\",\"26.0\",\"6.0\",\"4.0\",\"4.0\",\"3.5\",\"3.0\",\"2.0\",\"5.5\",\"0.55\",\"0.5\",\"2.0\",\"6.0\",\"5.0\",\"3.5\",\"2.0\",\"3.0\",\"1.0\",\"5.0\",\"18.5\",\"7.0\",\"1.5\",\"1.0\",\"1.0\",\"8.0\",\"1.5\",\"0.6333333333333333\",\"5.0\",\"2.5\",\"4.5\",\"1.5\",\"3.0\",\"1.0\",\"1.5\",\"22.0\",\"3.0\",\"4.5\",\"1.0\",\"1.0\",\"6.5\",\"17.5\",\"2.0\",\"4.0\",\"13.0\",\"3.5\",\"5.5\",\"1.5\",\"3.5\",\"26.0\",\"1.0\",\"4.5\",\"2.5\",\"1.5\",\"3.0\",\"1.5\",\"7.0\",\"2.5\",\"7.0\",\"8.5\",\"7.5\",\"1.0\",\"13.5\",\"1.5\",\"3.5\",\"3.0\",\"4.0\",\"12.5\",\"2.0\",\"7.5\",\"3.5\",\"2.5\",\"1.5\",\"2.0\",\"0.6166666666666667\",\"4.5\",\"8.5\",\"2.0\",\"0.6333333333333333\",\"1.0\",\"6.0\",\"2.0\",\"1.0\",\"2.0\",\"1.5\",\"4.5\",\"5.5\",\"5.5\",\"3.0\",\"3.0\",\"1.5\",\"14.0\",\"0.5666666666666667\",\"2.5\",\"4.0\",\"1.0\",\"2.0\",\"0.5666666666666667\",\"0.5666666666666667\",\"5.0\",\"2.5\",\"2.0\",\"6.5\",\"1.0\",\"4.5\",\"48.5\",\"2.5\",\"6.0\",\"1.5\",\"2.0\",\"1.5\",\"1.5\",\"7.5\",\"1.5\",\"3.0\",\"8.0\",\"25.5\",\"0.5833333333333334\",\"2.5\",\"6.0\",\"3.0\",\"2.0\",\"0.5166666666666666\",\"5.5\",\"1.5\",\"1.0\",\"1.0\",\"1.0\",\"1.0\",\"4.0\",\"4.0\",\"2.0\",\"1.5\",\"2.5\",\"1.5\",\"1.0\",\"15.0\",\"1.5\",\"6.0\",\"5.0\",\"3.0\",\"1.5\",\"5.5\",\"0.5666666666666667\",\"2.5\",\"22.5\",\"0.7166666666666667\",\"0.65\",\"1.0\",\"7.0\",\"10.0\",\"5.0\",\"1.0\",\"3.0\",\"8.0\",\"1.0\",\"3.0\",\"3.5\",\"3.5\",\"2.5\",\"16.0\",\"2.5\",\"3.5\",\"4.0\",\"1.0\",\"5.0\",\"3.5\",\"0.5666666666666667\",\"4.5\",\"3.0\",\"7.0\",\"2.0\",\"6.5\",\"1.5\",\"5.0\",\"3.0\",\"1.0\",\"2.5\",\"22.5\",\"0.65\",\"2.0\",\"3.5\",\"25.5\",\"2.5\",\"7.0\",\"0.6\",\"3.0\",\"2.0\",\"2.5\",\"2.0\",\"1.5\",\"5.0\",\"2.0\",\"4.0\",\"9.5\",\"3.0\",\"3.5\",\"1.5\",\"1.5\",\"2.5\",\"2.0\",\"16.5\",\"3.0\",\"3.5\",\"2.5\",\"3.0\",\"1.5\",\"2.0\",\"12.5\",\"1.0\",\"8.0\",\"3.5\",\"0.7\",\"6.5\",\"1.0\",\"1.5\",\"2.0\",\"1.5\",\"2.0\",\"3.5\",\"7.5\",\"4.0\",\"6.5\",\"11.0\",\"23.5\",\"7.0\",\"1.5\",\"2.5\",\"1.5\",\"2.0\",\"2.0\",\"2.0\",\"3.5\",\"6.5\",\"2.0\",\"2.5\",\"6.5\",\"0.5166666666666666\",\"5.0\",\"2.0\",\"2.5\",\"6.5\",\"3.5\",\"66.5\",\"1.0\",\"1.0\",\"11.5\",\"8.5\",\"12.5\",\"2.0\",\"5.0\",\"10.0\",\"4.5\",\"2.0\",\"6.5\",\"0.6333333333333333\",\"0.6333333333333333\",\"1.5\",\"1.0\",\"1.0\",\"1.0\",\"1.0\",\"5.0\",\"0.5333333333333333\",\"19.5\",\"1.0\",\"6.5\",\"1.5\",\"0.55\",\"5.0\",\"6.5\",\"3.0\",\"2.5\",\"0.6\",\"9.5\",\"2.0\",\"0.5166666666666666\",\"14.0\",\"10.0\",\"1.5\",\"5.5\",\"0.6166666666666667\",\"1.0\",\"2.5\",\"15.5\",\"2.0\",\"1.5\",\"3.5\",\"3.5\",\"8.5\",\"1.0\",\"0.6166666666666667\",\"0.5\",\"2.5\",\"1.0\",\"1.5\",\"15.5\",\"2.0\",\"3.5\",\"3.5\",\"3.0\",\"2.0\"],\"x0\":\" \",\"xaxis\":\"x\",\"y\":[true,true,true,true,true,true,true,true,true,true,true,true,true,true,true,true,true,true,true,true,true,true,true,true,true,true,true,true,true,true,true,true,true,true,true,true,true,true,true,true,true,true,true,true,true,true,true,true,true,true,true,true,true,true,true,true,true,true,true,true,true,true,true,true,true,true,true,true,true,true,true,true,true,true,true,true,true,true,true,true,true,true,true,true,true,true,true,true,true,true,true,true,true,true,true,true,true,true,true,true,true,true,true,true,true,true,true,true,true,true,true,true,true,true,true,true,true,true,true,true,true,true,true,true,true,true,true,true,true,true,true,true,true,true,true,true,true,true,true,true,true,true,true,true,true,true,true,true,true,true,true,true,true,true,true,true,true,true,true,true,true,true,true,true,true,true,true,true,true,true,true,true,true,true,true,true,true,true,true,true,true,true,true,true,true,true,true,true,true,true,true,true,true,true,true,true,true,true,true,true,true,true,true,true,true,true,true,true,true,true,true,true,true,true,true,true,true,true,true,true,true,true,true,true,true,true,true,true,true,true,true,true,true,true,true,true,true,true,true,true,true,true,true,true,true,true,true,true,true,true,true,true,true,true,true,true,true,true,true,true,true,true,true,true,true,true,true,true,true,true,true,true,true,true,true,true,true,true,true,true,true,true,true,true,true,true,true,true,true,true,true,true,true,true,true,true,true,true,true,true,true,true,true,true,true,true,true,true,true,true,true,true,true,true,true,true,true,true,true,true,true,true,true,true,true,true,true,true,true,true,true,true,true,true,true,true,true,true,true,true,true,true,true,true,true,true,true,true,true,true,true,true,true,true,true,true,true,true,true,true,true,true,true,true,true,true,true,true,true,true,true,true,true,true,true,true,true,true,true,true,true,true,true,true,true,true,true,true,true,true,true,true,true,true,true,true,true,true,true,true,true,true,true,true,true,true,true,true,true,true,true,true,true,true,true,true,true,true,true,true,true,true,true,true,true,true,true,true,true,true,true,true,true,true,true,true,true,true,true,true,true,true,true,true,true,true,true,true,true,true,true,true,true,true,true,true,true,true,true,true,true,true,true,true,true,true,true,true,true,true,true,true,true,true,true,true,true,true,true,true,true,true,true,true,true,true,true,true,true,true,true,true,true,true,true,true,true,true,true,true,true,true,true,true,true,true,true,true,true,true,true,true,true,true,true,true,true,true,true,true,true,true,true,true,true,true,true,true,true,true,true,true,true,true,true,true,true,true,true,true,true,true,true,true,true,true,true,true,true,true,true,true,true,true,true,true,true,true,true,true,true,true,true,true,true,true,true,true,true,true,true,true,true,true,true,true,true,true,true,true,true,true,true,true,true,true,true,true,true,true,true,true,true,true,true,true,true,true,true,true,true,true,true,true,true,true,true,true,true,true,true,true,true,true,true,true,true,true,true,true,true,true,true,true,true,true,true,true,true,true,true,true,true,true,true,true,true,true,true,true,true,true,true,true,true,true,true,true,true,true,true,true,true,true,true,true,true,true,true,true,true,true,true,true,true,true,true,true,true,true,true,true,true,true,true,true,true,true,true,true,true,true,true,true,true,true,true,true,true,true,true,true,true,true,true,true,true,true,true,true,true,true,true,true,true,true,true,true,true,true,true,true,true,true,true,true,true,true,true,true,true,true,true,true,true,true,true,true,true,true,true,true,true,true,true,true,true,true,true,true,true,true,true,true,true,true,true,true,true,true,true,true,true,true,true,true,true,true,true,true,true,true,true,true,true,true,true,true,true,true,true,true,true,true,true,true,true,true,true,true,true,true,true,true,true,true,true,true,true,true,true,true,true,true,true,true,true,true,true,true,true,true,true,true,true,true,true,true,true,true,true,true,true,true,true,true,true,true,true,true,true,true,true,true,true,true,true,true,true,true,true,true,true,true,true,true,true,true,true,true,true,true,true,true,true,true,true,true,true,true,true,true,true,true,true,true,true,true,true,true,true,true,true,true,true,true,true,true,true,true,true,true,true,true,true,true,true,true,true,true,true,true,true,true,true,true,true,true,true,true,true,true,true,true,true,true,true,true,true,true,true,true,true,true,true,true,true,true,true,true,true,true,true,true,true,true,true,true,true,true,true,true,true,true,true,true,true,true,true,true,true,true,true,true,true,true,true,true,true,true,true,true,true,true,true,true,true,true,true,true,true,true,true,true,true,true,true,true,true,true,true,true,true,true,true,true,true,true,true,true,true,true,true,true,true,true,true,true,true,true,true,true,true,true,true,true,true,true,true,true,true,true,true,true,true,true,true,true,true,true,true,true,true,true,true,true,true,true,true,true,true,true,true,true,true,true,true,true,true,true,true,true,true,true,true,true,true,true,true,true,true,true,true,true,true,true,true,true,true,true,true,true,true,true,true,true,true,true,true,true,true,true,true,true,true,true,true,true,true,true,true,true,true,true,true,true,true,true,true,true,true,true,true,true,true,true,true,true,true,true,true,true,true,true,true,true,true,true,true,true,true,true,true,true,true,true,true,true,true,true,true,true,true,true,true,true,true,true,true,true,true,true,true,true,true,true,true,true,true,true,true,true,true,true,true,true,true,true,true,true,true,true,true,true,true,true,true,true,true,true,true,true,true,true,true,true,true,true,true,true,true,true,true,true,true,true,true,true,true,true,true,true,true,true,true,true,true,true,true,true,true,true,true,true,true,true,true,true,true,true,true,true,true,true,true,true,true,true,true,true,true,true,true,true,true,true,true,true,true,true,true,true,true,true,true,true,true,true,true,true,true,true,true,true,true,true,true,true,true,true,true,true,true,true,true,true,true,true,true,true,true,true,true,true,true,true,true,true,true,true,true,true,true,true,true,true,true,true,true,true,true,true,true,true,true,true,true,true,true,true,true,true,true,true,true,true,true,true,true,true,true,true,true,true,true,true,true,true,true,true,true,true,true,true,true,true,true,true,true,true,true,true,true,true,true,true,true,true,true,true,true,true,true,true,true,true,true,true,true,true,true,true,true,true,true,true,true,true,true,true,true,true,true,true,true,true,true,true,true,true,true,true,true,true,true,true,true,true,true,true,true,true,true,true,true,true,true,true,true,true,true,true,true,true,true,true,true,true,true,true,true,true,true,true,true,true,true,true,true,true,true,true,true,true,true,true,true,true,true,true,true,true,true,true,true,true,true,true,true,true,true,true,true,true,true,true,true,true,true,true,true,true,true,true,true,true,true,true,true,true,true,true,true,true,true,true,true,true,true,true,true,true,true,true,true,true,true,true,true,true,true,true,true,true,true,true,true,true,true,true,true,true,true,true,true,true,true,true,true,true,true,true,true,true,true,true,true,true,true,true,true,true,true,true,true,true,true,true,true,true,true,true,true,true,true,true,true,true,true,true,true,true,true,true,true,true,true,true,true,true,true,true,true,true,true,true,true,true,true,true,true,true,true,true,true,true,true,true,true,true,true,true,true,true,true,true,true,true,true,true,true,true,true,true,true,true,true,true,true,true,true,true,true,true,true,true,true,true,true,true,true,true,true,true,true,true,true,true,true,true,true,true,true,true,true,true,true,true,true,true,true,true,true,true,true,true,true,true,true,true,true,true,true,true,true,true,true,true,true,true,true,true,true,true,true,true,true,true,true,true,true,true,true,true,true,true,true,true,true,true,true,true,true,true,true,true,true,true,true,true,true,true,true,true,true,true,true,true,true,true,true,true,true,true,true,true,true,true,true,true,true,true,true,true,true,true,true,true,true,true,true,true,true,true,true,true,true,true,true,true,true,true,true,true,true,true,true,true,true,true,true,true,true,true,true,true,true,true,true,true,true,true,true,true,true,true,true,true,true,true,true,true,true,true,true,true,true,true,true,true,true,true,true,true,true,true,true,true,true,true,true,true,true,true,true,true,true,true,true,true,true,true,true,true,true,true,true,true,true,true,true,true,true,true,true,true,true,true,true,true,true,true,true,true,true,true,true,true,true,true,true,true,true,true,true,true,true,true,true,true,true,true,true,true,true,true,true,true,true,true,true,true,true,true,true,true,true,true,true,true,true,true,true,true,true,true,true,true,true,true,true,true,true,true,true,true,true,true,true,true,true,true,true,true,true,true,true,true,true,true,true,true,true,true,true,true,true,true,true,true,true,true,true,true,true,true,true,true,true,true,true,true,true,true,true,true,true,true,true,true,true,true,true,true,true,true,true,true,true,true,true,true,true,true,true,true,true,true,true,true,true,true,true,true,true,true,true,true,true,true,true,true,true,true,true,true,true,true,true,true,true,true,true,true,true,true,true,true,true,true,true,true,true,true,true,true,true,true,true,true,true,true,true,true,true,true,true,true,true,true,true,true,true,true,true,true,true,true,true,true,true,true,true,true,true,true,true,true,true,true,true,true,true,true,true,true,true,true,true,true,true,true,true,true,true,true,true,true,true,true,true,true,true,true,true,true,true,true,true,true,true,true,true,true,true,true,true,true,true,true,true,true,true,true,true,true,true,true,true,true,true,true,true,true,true,true,true,true,true,true,true,true,true,true,true,true,true,true,true,true,true,true,true,true,true,true,true,true,true,true,true,true,true,true,true,true,true,true,true,true,true,true,true,true,true,true,true,true,true,true,true,true,true,true,true,true,true,true,true,true,true,true,true,true,true,true,true,true,true,true,true,true,true,true,true,true,true,true,true,true,true,true,true,true,true,true,true,true,true,true,true,true,true,true,true,true,true,true,true,true,true,true,true,true,true,true,true,true,true,true,true,true,true,true,true,true,true,true,true,true,true,true,true,true,true,true,true,true,true,true,true,true,true,true,true,true,true,true,true,true,true,true,true,true,true,true,true,true,true,true,true,true,true,true,true,true,true,true,true,true,true,true,true,true,true,true,true,true,true,true,true,true,true,true,true,true,true,true,true,true,true,true,true,true,true,true,true,true,true,true,true,true,true,true,true,true,true,true,true,true,true,true,true,true,true,true,true,true,true,true,true,true,true,true,true,true,true,true,true,true,true,true,true,true,true,true,true,true,true,true,true,true,true,true,true,true,true,true,true,true,true,true,true,true,true,true,true,true,true,true,true,true,true,true,true,true,true,true,true,true,true,true,true,true,true,true,true,true,true,true,true,true,true,true,true,true,true,true,true,true,true,true,true,true,true,true,true,true,true,true,true,true,true,true,true,true,true,true,true,true,true,true,true,true,true,true,true,true,true,true,true,true,true,true,true,true,true,true,true,true,true,true,true,true,true,true,true,true,true,true,true,true,true,true,true,true,true,true,true,true,true,true,true,true,true,true,true,true,true,true,true,true,true,true,true,true,true,true,true,true,true,true,true,true,true,true,true,true,true,true,true,true,true,true,true,true,true,true,true,true,true,true,true,true,true,true,true,true,true,true,true,true,true,true,true,true,true,true,true,true,true,true,true,true,true,true,true,true,true,true,true,true,true,true,true,true,true,true,true,true,true,true,true,true,true,true,true,true,true,true,true,true,true,true,true,true,true,true,true,true,true,true,true,true,true,true,true,true,true,true,true,true,true,true,true,true,true,true,true,true,true,true,true,true,true,true,true,true,true,true,true,true,true,true,true,true,true,true,true,true,true,true,true,true,true,true,true,true,true,true,true,true,true,true,true,true,true,true,true,true,true,true,true,true,true,true,true,true,true,true,true,true,true,true,true,true,true,true,true,true,true,true,true,true,true,true,true,true,true,true,true,true,true,true,true,true,true,true,true,true,true,true,true,true,true,true,true,true,true,true,true,true,true,true,true,true,true,true,true,true,true,true,true,true,true,true,true,true,true,true,true,true,true,true,true,true,true,true,true,true,true,true,true,true,true,true,true,true,true,true,true,true,true,true,true,true,true,true,true,true,true,true,true,true,true,true,true,true,true,true,true,true,true,true,true,true,true,true,true,true,true,true,true,true,true,true,true,true,true,true,true,true,true,true,true,true,true,true,true,true,true,true,true,true,true,true,true,true,true,true,true,true,true,true,true,true,true,true,true,true,true,true,true,true,true,true,true,true,true,true,true,true,true,true,true,true,true,true,true,true,true,true,true,true,true,true,true,true,true,true,true,true,true,true,true,true,true,true,true,true,true,true,true,true,true,true,true,true,true,true,true,true,true,true,true,true,true,true,true,true,true,true,true,true,true,true,true,true,true,true,true,true,true,true,true,true,true,true,true,true,true,true,true,true,true,true,true,true,true,true,true,true,true,true,true,true,true,true,true,true,true,true,true,true,true,true,true,true,true,true,true,true,true,true,true,true,true,true,true,true,true,true,true,true,true,true,true,true,true,true,true,true,true,true,true,true,true,true,true,true,true,true,true,true,true,true,true,true,true,true,true,true,true,true,true,true,true,true,true,true,true,true,true,true,true,true,true,true,true,true,true,true,true,true,true,true,true,true,true,true,true,true,true,true,true,true,true,true,true,true,true,true,true,true,true,true,true,true,true,true,true,true,true,true,true,true,true,true,true,true,true,true,true,true,true,true,true,true,true,true,true,true,true,true,true,true,true,true,true,true,true,true,true,true,true,true,true,true,true,true,true,true,true,true,true,true,true,true,true,true,true,true,true,true,true,true,true,true,true,true,true,true,true,true,true,true,true,true,true,true,true,true,true,true,true,true,true,true,true,true,true,true,true,true,true,true,true,true,true,true,true,true,true,true,true,true,true,true,true,true,true,true,true,true,true,true,true,true,true,true,true,true,true,true,true,true,true,true,true,true,true,true,true,true,true,true,true,true,true,true,true,true,true,true,true,true,true,true,true,true,true,true,true,true,true,true,true,true,true,true,true,true,true,true,true,true,true,true,true,true,true,true,true,true,true,true,true,true,true,true,true,true,true,true,true,true,true,true,true,true,true,true,true,true,true,true,true,true,true,true,true,true,true,true,true,true,true,true,true,true,true,true,true,true,true,true,true,true,true,true,true,true,true,true,true,true,true,true,true,true,true,true,true,true,true,true,true,true,true,true,true,true,true,true,true,true,true,true,true,true,true,true,true,true,true,true,true,true,true,true,true,true,true,true,true,true,true,true,true,true,true,true,true,true,true,true,true,true,true,true,true,true,true,true,true,true,true,true,true,true,true,true,true,true,true,true,true,true,true,true,true,true,true,true,true,true,true,true,true,true,true,true,true,true,true,true,true,true,true,true,true,true,true,true,true,true,true,true,true,true,true,true,true,true,true,true,true,true,true,true,true,true,true,true,true,true,true,true,true,true,true,true,true,true,true,true,true,true,true,true,true,true,true,true,true,true,true,true,true,true,true,true,true,true,true,true,true,true,true,true,true,true,true,true,true,true,true,true,true,true,true,true,true,true,true,true,true,true,true,true,true,true,true,true,true,true,true,true,true,true,true,true,true,true,true,true,true,true,true,true,true,true,true,true,true,true,true,true,true,true,true,true,true,true,true,true,true,true,true,true,true,true,true,true,true,true,true,true,true,true,true,true,true,true,true,true,true,true,true,true,true,true,true,true,true,true,true,true,true,true,true,true,true,true,true,true,true,true,true,true,true,true,true,true,true,true,true,true,true,true,true,true,true,true,true,true,true,true,true,true,true,true,true,true,true,true,true,true,true,true,true,true,true,true,true,true,true,true,true,true,true,true,true,true,true,true,true,true,true,true,true,true,true,true,true,true,true,true,true,true,true,true,true,true,true,true,true,true,true,true,true,true,true],\"y0\":\" \",\"yaxis\":\"y\",\"type\":\"box\"},{\"alignmentgroup\":\"True\",\"hovertemplate\":\"is_paid=%{y}<br>content_duration=%{x}<extra></extra>\",\"legendgroup\":\"False\",\"marker\":{\"color\":\"#eb03fc\"},\"name\":\"False\",\"notched\":false,\"offsetgroup\":\"False\",\"orientation\":\"h\",\"showlegend\":true,\"x\":[\"0.55\",\"1.5\",\"1.0\",\"2.0\",\"2.0\",\"1.5\",\"1.5\",\"1.5\",\"2.0\",\"1.5\",\"2.0\",\"2.0\",\"1.5\",\"1.0\",\"0.5333333333333333\",\"4.5\",\"2.0\",\"3.0\",\"0.5166666666666666\",\"1.5\",\"1.5\",\"2.0\",\"0.6\",\"1.5\",\"1.0\",\"2.5\",\"1.0\",\"3.5\",\"0.5333333333333333\",\"1.0\",\"1.0\",\"1.0\",\"2.0\",\"4.5\",\"6.5\",\"0.6666666666666666\",\"4.0\",\"1.5\",\"8.0\",\"3.5\",\"0.6166666666666667\",\"1.0\",\"1.0\",\"1.5\",\"20.5\",\"2.0\",\"1.0\",\"1.5\",\"2.0\",\"1.0\",\"1.0\",\"1.0\",\"2.5\",\"1.0\",\"1.0\",\"0.7333333333333333\",\"1.0\",\"1.5\",\"9.0\",\"4.0\",\"2.0\",\"8.5\",\"3.0\",\"0.6166666666666667\",\"1.0\",\"3.0\",\"1.0\",\"2.0\",\"5.0\",\"2.5\",\"1.0\",\"2.0\",\"1.0\",\"1.5\",\"2.0\",\"2.0\",\"1.0\",\"2.0\",\"1.0\",\"2.0\",\"1.0\",\"0.6\",\"4.5\",\"1.5\",\"2.0\",\"1.5\",\"3.0\",\"1.0\",\"3.0\",\"1.0\",\"0.6666666666666666\",\"1.5\",\"1.0\",\"1.5\",\"0.6333333333333333\",\"1.5\",\"0.6\",\"3.5\",\"1.0\",\"3.0\",\"1.0\",\"5.0\",\"2.5\",\"3.5\",\"2.5\",\"0.65\",\"2.5\",\"1.0\",\"1.0\",\"2.5\",\"0.5666666666666667\",\"1.0\",\"0.6666666666666666\",\"0.6666666666666666\",\"1.5\",\"0.5166666666666666\",\"0.65\",\"0.7333333333333333\",\"0.5\",\"1.5\",\"2.5\",\"7.5\",\"6.5\",\"1.0\",\"0.5666666666666667\",\"1.0\",\"1.0\",\"4.5\",\"1.0\",\"1.0\",\"2.0\",\"0.6\",\"1.0\",\"1.0\",\"2.0\",\"1.0\",\"0.5166666666666666\",\"0.6833333333333333\",\"2.0\",\"1.5\",\"1.5\",\"4.5\",\"2.0\",\"2.0\",\"1.5\",\"0.5\",\"0.6666666666666666\",\"1.5\",\"1.0\",\"4.0\",\"0.5666666666666667\",\"2.0\",\"1.0\",\"1.0\",\"0.6166666666666667\",\"3.0\",\"3.5\",\"4.0\",\"2.0\",\"1.0\",\"1.0\",\"3.0\",\"3.5\",\"0.7333333333333333\",\"1.5\",\"0.6166666666666667\",\"1.0\",\"0.55\",\"0.6166666666666667\",\"1.0\",\"1.0\",\"1.0\",\"1.0\",\"1.5\",\"1.5\",\"2.5\",\"1.0\",\"1.0\",\"2.0\",\"1.5\",\"3.0\",\"1.0\",\"3.0\",\"1.5\",\"1.5\",\"1.0\",\"1.0\",\"17.5\",\"1.5\",\"0.55\",\"1.5\",\"5.0\",\"2.5\",\"4.5\",\"2.5\",\"1.0\",\"2.0\",\"1.0\",\"1.5\",\"1.0\",\"3.0\",\"10.5\",\"2.5\",\"3.5\",\"2.0\",\"3.0\",\"1.0\",\"3.0\",\"0.5333333333333333\",\"1.0\",\"2.0\",\"0.5666666666666667\",\"0.5333333333333333\",\"2.0\",\"0.7\",\"0.6166666666666667\",\"0.7333333333333333\",\"3.5\",\"0.5333333333333333\",\"1.5\",\"1.0\",\"2.0\",\"3.0\",\"2.5\",\"1.0\",\"1.5\",\"0.6166666666666667\",\"4.5\",\"1.0\",\"0.6833333333333333\",\"4.5\",\"3.5\",\"1.5\",\"0.7333333333333333\",\"1.0\",\"5.0\",\"0.5666666666666667\",\"1.5\",\"6.5\",\"3.0\",\"2.0\",\"2.0\",\"1.0\",\"2.0\",\"2.5\",\"3.0\",\"2.0\",\"1.5\",\"2.0\",\"4.5\",\"3.5\",\"1.0\",\"1.0\",\"1.0\",\"1.5\",\"2.0\",\"0.7\",\"6.0\",\"3.0\",\"2.0\",\"1.0\",\"21.0\",\"2.5\",\"1.0\",\"2.0\",\"2.0\",\"5.0\",\"1.5\",\"4.0\",\"3.0\",\"1.5\",\"2.0\",\"1.0\",\"8.5\",\"1.0\",\"2.0\",\"3.5\",\"1.0\",\"2.0\",\"6.5\",\"3.0\",\"5.5\",\"4.0\",\"1.0\",\"1.5\",\"1.5\",\"1.0\",\"0.5\",\"2.0\",\"1.5\",\"5.0\",\"0.5166666666666666\",\"2.0\",\"1.0\",\"20.5\",\"0.6166666666666667\",\"0.7333333333333333\",\"0.6833333333333333\",\"5.5\",\"1.5\",\"1.5\",\"0.5833333333333334\",\"3.0\",\"1.0\",\"1.0\",\"2.5\",\"1.5\",\"4.5\",\"2.0\",\"0.5833333333333334\"],\"x0\":\" \",\"xaxis\":\"x\",\"y\":[false,false,false,false,false,false,false,false,false,false,false,false,false,false,false,false,false,false,false,false,false,false,false,false,false,false,false,false,false,false,false,false,false,false,false,false,false,false,false,false,false,false,false,false,false,false,false,false,false,false,false,false,false,false,false,false,false,false,false,false,false,false,false,false,false,false,false,false,false,false,false,false,false,false,false,false,false,false,false,false,false,false,false,false,false,false,false,false,false,false,false,false,false,false,false,false,false,false,false,false,false,false,false,false,false,false,false,false,false,false,false,false,false,false,false,false,false,false,false,false,false,false,false,false,false,false,false,false,false,false,false,false,false,false,false,false,false,false,false,false,false,false,false,false,false,false,false,false,false,false,false,false,false,false,false,false,false,false,false,false,false,false,false,false,false,false,false,false,false,false,false,false,false,false,false,false,false,false,false,false,false,false,false,false,false,false,false,false,false,false,false,false,false,false,false,false,false,false,false,false,false,false,false,false,false,false,false,false,false,false,false,false,false,false,false,false,false,false,false,false,false,false,false,false,false,false,false,false,false,false,false,false,false,false,false,false,false,false,false,false,false,false,false,false,false,false,false,false,false,false,false,false,false,false,false,false,false,false,false,false,false,false,false,false,false,false,false,false,false,false,false,false,false,false,false,false,false,false,false,false,false,false,false,false,false,false,false,false,false,false,false,false,false,false,false,false,false,false,false,false,false,false,false,false,false,false,false,false,false,false],\"y0\":\" \",\"yaxis\":\"y\",\"type\":\"box\"}],                        {\"template\":{\"data\":{\"bar\":[{\"error_x\":{\"color\":\"#2a3f5f\"},\"error_y\":{\"color\":\"#2a3f5f\"},\"marker\":{\"line\":{\"color\":\"#E5ECF6\",\"width\":0.5},\"pattern\":{\"fillmode\":\"overlay\",\"size\":10,\"solidity\":0.2}},\"type\":\"bar\"}],\"barpolar\":[{\"marker\":{\"line\":{\"color\":\"#E5ECF6\",\"width\":0.5},\"pattern\":{\"fillmode\":\"overlay\",\"size\":10,\"solidity\":0.2}},\"type\":\"barpolar\"}],\"carpet\":[{\"aaxis\":{\"endlinecolor\":\"#2a3f5f\",\"gridcolor\":\"white\",\"linecolor\":\"white\",\"minorgridcolor\":\"white\",\"startlinecolor\":\"#2a3f5f\"},\"baxis\":{\"endlinecolor\":\"#2a3f5f\",\"gridcolor\":\"white\",\"linecolor\":\"white\",\"minorgridcolor\":\"white\",\"startlinecolor\":\"#2a3f5f\"},\"type\":\"carpet\"}],\"choropleth\":[{\"colorbar\":{\"outlinewidth\":0,\"ticks\":\"\"},\"type\":\"choropleth\"}],\"contour\":[{\"colorbar\":{\"outlinewidth\":0,\"ticks\":\"\"},\"colorscale\":[[0.0,\"#0d0887\"],[0.1111111111111111,\"#46039f\"],[0.2222222222222222,\"#7201a8\"],[0.3333333333333333,\"#9c179e\"],[0.4444444444444444,\"#bd3786\"],[0.5555555555555556,\"#d8576b\"],[0.6666666666666666,\"#ed7953\"],[0.7777777777777778,\"#fb9f3a\"],[0.8888888888888888,\"#fdca26\"],[1.0,\"#f0f921\"]],\"type\":\"contour\"}],\"contourcarpet\":[{\"colorbar\":{\"outlinewidth\":0,\"ticks\":\"\"},\"type\":\"contourcarpet\"}],\"heatmap\":[{\"colorbar\":{\"outlinewidth\":0,\"ticks\":\"\"},\"colorscale\":[[0.0,\"#0d0887\"],[0.1111111111111111,\"#46039f\"],[0.2222222222222222,\"#7201a8\"],[0.3333333333333333,\"#9c179e\"],[0.4444444444444444,\"#bd3786\"],[0.5555555555555556,\"#d8576b\"],[0.6666666666666666,\"#ed7953\"],[0.7777777777777778,\"#fb9f3a\"],[0.8888888888888888,\"#fdca26\"],[1.0,\"#f0f921\"]],\"type\":\"heatmap\"}],\"heatmapgl\":[{\"colorbar\":{\"outlinewidth\":0,\"ticks\":\"\"},\"colorscale\":[[0.0,\"#0d0887\"],[0.1111111111111111,\"#46039f\"],[0.2222222222222222,\"#7201a8\"],[0.3333333333333333,\"#9c179e\"],[0.4444444444444444,\"#bd3786\"],[0.5555555555555556,\"#d8576b\"],[0.6666666666666666,\"#ed7953\"],[0.7777777777777778,\"#fb9f3a\"],[0.8888888888888888,\"#fdca26\"],[1.0,\"#f0f921\"]],\"type\":\"heatmapgl\"}],\"histogram\":[{\"marker\":{\"pattern\":{\"fillmode\":\"overlay\",\"size\":10,\"solidity\":0.2}},\"type\":\"histogram\"}],\"histogram2d\":[{\"colorbar\":{\"outlinewidth\":0,\"ticks\":\"\"},\"colorscale\":[[0.0,\"#0d0887\"],[0.1111111111111111,\"#46039f\"],[0.2222222222222222,\"#7201a8\"],[0.3333333333333333,\"#9c179e\"],[0.4444444444444444,\"#bd3786\"],[0.5555555555555556,\"#d8576b\"],[0.6666666666666666,\"#ed7953\"],[0.7777777777777778,\"#fb9f3a\"],[0.8888888888888888,\"#fdca26\"],[1.0,\"#f0f921\"]],\"type\":\"histogram2d\"}],\"histogram2dcontour\":[{\"colorbar\":{\"outlinewidth\":0,\"ticks\":\"\"},\"colorscale\":[[0.0,\"#0d0887\"],[0.1111111111111111,\"#46039f\"],[0.2222222222222222,\"#7201a8\"],[0.3333333333333333,\"#9c179e\"],[0.4444444444444444,\"#bd3786\"],[0.5555555555555556,\"#d8576b\"],[0.6666666666666666,\"#ed7953\"],[0.7777777777777778,\"#fb9f3a\"],[0.8888888888888888,\"#fdca26\"],[1.0,\"#f0f921\"]],\"type\":\"histogram2dcontour\"}],\"mesh3d\":[{\"colorbar\":{\"outlinewidth\":0,\"ticks\":\"\"},\"type\":\"mesh3d\"}],\"parcoords\":[{\"line\":{\"colorbar\":{\"outlinewidth\":0,\"ticks\":\"\"}},\"type\":\"parcoords\"}],\"pie\":[{\"automargin\":true,\"type\":\"pie\"}],\"scatter\":[{\"marker\":{\"colorbar\":{\"outlinewidth\":0,\"ticks\":\"\"}},\"type\":\"scatter\"}],\"scatter3d\":[{\"line\":{\"colorbar\":{\"outlinewidth\":0,\"ticks\":\"\"}},\"marker\":{\"colorbar\":{\"outlinewidth\":0,\"ticks\":\"\"}},\"type\":\"scatter3d\"}],\"scattercarpet\":[{\"marker\":{\"colorbar\":{\"outlinewidth\":0,\"ticks\":\"\"}},\"type\":\"scattercarpet\"}],\"scattergeo\":[{\"marker\":{\"colorbar\":{\"outlinewidth\":0,\"ticks\":\"\"}},\"type\":\"scattergeo\"}],\"scattergl\":[{\"marker\":{\"colorbar\":{\"outlinewidth\":0,\"ticks\":\"\"}},\"type\":\"scattergl\"}],\"scattermapbox\":[{\"marker\":{\"colorbar\":{\"outlinewidth\":0,\"ticks\":\"\"}},\"type\":\"scattermapbox\"}],\"scatterpolar\":[{\"marker\":{\"colorbar\":{\"outlinewidth\":0,\"ticks\":\"\"}},\"type\":\"scatterpolar\"}],\"scatterpolargl\":[{\"marker\":{\"colorbar\":{\"outlinewidth\":0,\"ticks\":\"\"}},\"type\":\"scatterpolargl\"}],\"scatterternary\":[{\"marker\":{\"colorbar\":{\"outlinewidth\":0,\"ticks\":\"\"}},\"type\":\"scatterternary\"}],\"surface\":[{\"colorbar\":{\"outlinewidth\":0,\"ticks\":\"\"},\"colorscale\":[[0.0,\"#0d0887\"],[0.1111111111111111,\"#46039f\"],[0.2222222222222222,\"#7201a8\"],[0.3333333333333333,\"#9c179e\"],[0.4444444444444444,\"#bd3786\"],[0.5555555555555556,\"#d8576b\"],[0.6666666666666666,\"#ed7953\"],[0.7777777777777778,\"#fb9f3a\"],[0.8888888888888888,\"#fdca26\"],[1.0,\"#f0f921\"]],\"type\":\"surface\"}],\"table\":[{\"cells\":{\"fill\":{\"color\":\"#EBF0F8\"},\"line\":{\"color\":\"white\"}},\"header\":{\"fill\":{\"color\":\"#C8D4E3\"},\"line\":{\"color\":\"white\"}},\"type\":\"table\"}]},\"layout\":{\"annotationdefaults\":{\"arrowcolor\":\"#2a3f5f\",\"arrowhead\":0,\"arrowwidth\":1},\"autotypenumbers\":\"strict\",\"coloraxis\":{\"colorbar\":{\"outlinewidth\":0,\"ticks\":\"\"}},\"colorscale\":{\"diverging\":[[0,\"#8e0152\"],[0.1,\"#c51b7d\"],[0.2,\"#de77ae\"],[0.3,\"#f1b6da\"],[0.4,\"#fde0ef\"],[0.5,\"#f7f7f7\"],[0.6,\"#e6f5d0\"],[0.7,\"#b8e186\"],[0.8,\"#7fbc41\"],[0.9,\"#4d9221\"],[1,\"#276419\"]],\"sequential\":[[0.0,\"#0d0887\"],[0.1111111111111111,\"#46039f\"],[0.2222222222222222,\"#7201a8\"],[0.3333333333333333,\"#9c179e\"],[0.4444444444444444,\"#bd3786\"],[0.5555555555555556,\"#d8576b\"],[0.6666666666666666,\"#ed7953\"],[0.7777777777777778,\"#fb9f3a\"],[0.8888888888888888,\"#fdca26\"],[1.0,\"#f0f921\"]],\"sequentialminus\":[[0.0,\"#0d0887\"],[0.1111111111111111,\"#46039f\"],[0.2222222222222222,\"#7201a8\"],[0.3333333333333333,\"#9c179e\"],[0.4444444444444444,\"#bd3786\"],[0.5555555555555556,\"#d8576b\"],[0.6666666666666666,\"#ed7953\"],[0.7777777777777778,\"#fb9f3a\"],[0.8888888888888888,\"#fdca26\"],[1.0,\"#f0f921\"]]},\"colorway\":[\"#636efa\",\"#EF553B\",\"#00cc96\",\"#ab63fa\",\"#FFA15A\",\"#19d3f3\",\"#FF6692\",\"#B6E880\",\"#FF97FF\",\"#FECB52\"],\"font\":{\"color\":\"#2a3f5f\"},\"geo\":{\"bgcolor\":\"white\",\"lakecolor\":\"white\",\"landcolor\":\"#E5ECF6\",\"showlakes\":true,\"showland\":true,\"subunitcolor\":\"white\"},\"hoverlabel\":{\"align\":\"left\"},\"hovermode\":\"closest\",\"mapbox\":{\"style\":\"light\"},\"paper_bgcolor\":\"white\",\"plot_bgcolor\":\"#E5ECF6\",\"polar\":{\"angularaxis\":{\"gridcolor\":\"white\",\"linecolor\":\"white\",\"ticks\":\"\"},\"bgcolor\":\"#E5ECF6\",\"radialaxis\":{\"gridcolor\":\"white\",\"linecolor\":\"white\",\"ticks\":\"\"}},\"scene\":{\"xaxis\":{\"backgroundcolor\":\"#E5ECF6\",\"gridcolor\":\"white\",\"gridwidth\":2,\"linecolor\":\"white\",\"showbackground\":true,\"ticks\":\"\",\"zerolinecolor\":\"white\"},\"yaxis\":{\"backgroundcolor\":\"#E5ECF6\",\"gridcolor\":\"white\",\"gridwidth\":2,\"linecolor\":\"white\",\"showbackground\":true,\"ticks\":\"\",\"zerolinecolor\":\"white\"},\"zaxis\":{\"backgroundcolor\":\"#E5ECF6\",\"gridcolor\":\"white\",\"gridwidth\":2,\"linecolor\":\"white\",\"showbackground\":true,\"ticks\":\"\",\"zerolinecolor\":\"white\"}},\"shapedefaults\":{\"line\":{\"color\":\"#2a3f5f\"}},\"ternary\":{\"aaxis\":{\"gridcolor\":\"white\",\"linecolor\":\"white\",\"ticks\":\"\"},\"baxis\":{\"gridcolor\":\"white\",\"linecolor\":\"white\",\"ticks\":\"\"},\"bgcolor\":\"#E5ECF6\",\"caxis\":{\"gridcolor\":\"white\",\"linecolor\":\"white\",\"ticks\":\"\"}},\"title\":{\"x\":0.05},\"xaxis\":{\"automargin\":true,\"gridcolor\":\"white\",\"linecolor\":\"white\",\"ticks\":\"\",\"title\":{\"standoff\":15},\"zerolinecolor\":\"white\",\"zerolinewidth\":2},\"yaxis\":{\"automargin\":true,\"gridcolor\":\"white\",\"linecolor\":\"white\",\"ticks\":\"\",\"title\":{\"standoff\":15},\"zerolinecolor\":\"white\",\"zerolinewidth\":2}}},\"xaxis\":{\"anchor\":\"y\",\"domain\":[0.0,1.0],\"title\":{\"text\":\"Content Duration\"}},\"yaxis\":{\"anchor\":\"x\",\"domain\":[0.0,1.0],\"title\":{\"text\":\"Paid Course\"},\"categoryorder\":\"array\",\"categoryarray\":[false,true]},\"legend\":{\"title\":{\"text\":\"is_paid\"},\"tracegroupgap\":0},\"title\":{\"text\":\"Duration Distribution Across Type of Course\"},\"boxmode\":\"overlay\",\"showlegend\":false},                        {\"responsive\": true}                    ).then(function(){\n",
              "                            \n",
              "var gd = document.getElementById('5cc0a6fa-f279-4304-b4c9-27a32d64e941');\n",
              "var x = new MutationObserver(function (mutations, observer) {{\n",
              "        var display = window.getComputedStyle(gd).display;\n",
              "        if (!display || display === 'none') {{\n",
              "            console.log([gd, 'removed!']);\n",
              "            Plotly.purge(gd);\n",
              "            observer.disconnect();\n",
              "        }}\n",
              "}});\n",
              "\n",
              "// Listen for the removal of the full notebook cells\n",
              "var notebookContainer = gd.closest('#notebook-container');\n",
              "if (notebookContainer) {{\n",
              "    x.observe(notebookContainer, {childList: true});\n",
              "}}\n",
              "\n",
              "// Listen for the clearing of the current output cell\n",
              "var outputEl = gd.closest('.output');\n",
              "if (outputEl) {{\n",
              "    x.observe(outputEl, {childList: true});\n",
              "}}\n",
              "\n",
              "                        })                };                            </script>        </div>\n",
              "</body>\n",
              "</html>"
            ]
          },
          "metadata": {}
        }
      ]
    },
    {
      "cell_type": "markdown",
      "source": [
        "**We can see that paid courses have a higher duration. It is also worth noting that duration varies considerabily more on paid courses as well.**"
      ],
      "metadata": {
        "id": "qAaPR0yKGblm"
      }
    },
    {
      "cell_type": "markdown",
      "source": [
        "Here we are fetching the number of subscribers and then sorting the value. Through this we will be able to get Top 25 most Famous Courses with Price on the basis of number of subscribers by slicing 0 to 24."
      ],
      "metadata": {
        "id": "sRRyvjUWHCgB"
      }
    },
    {
      "cell_type": "code",
      "source": [
        "top25_paid = data.sort_values(\"num_subscribers\", ascending=False)[0:25].sort_values(\"num_subscribers\", ascending=True).reset_index(drop=True).reset_index(drop =True)\n",
        "fig = px.bar(top25_paid,\n",
        "       y = 'course_title',\n",
        "       x= 'num_subscribers',\n",
        "       orientation = 'h',\n",
        "       color='num_subscribers',\n",
        "      hover_data=['is_paid','num_reviews','num_lectures'])\n",
        "\n",
        "\n",
        "fig.update_layout(showlegend=False)\n",
        "fig.update_xaxes(title='Number of Subscribers')\n",
        "fig.update_yaxes(title='Course Title',showticklabels=False)\n",
        "fig.show()"
      ],
      "metadata": {
        "colab": {
          "base_uri": "https://localhost:8080/",
          "height": 542
        },
        "id": "U4Gj1WRArjmU",
        "outputId": "07ac992c-aa5f-4047-b735-94db07e9a07a"
      },
      "execution_count": 30,
      "outputs": [
        {
          "output_type": "display_data",
          "data": {
            "text/html": [
              "<html>\n",
              "<head><meta charset=\"utf-8\" /></head>\n",
              "<body>\n",
              "    <div>            <script src=\"https://cdnjs.cloudflare.com/ajax/libs/mathjax/2.7.5/MathJax.js?config=TeX-AMS-MML_SVG\"></script><script type=\"text/javascript\">if (window.MathJax) {MathJax.Hub.Config({SVG: {font: \"STIX-Web\"}});}</script>                <script type=\"text/javascript\">window.PlotlyConfig = {MathJaxConfig: 'local'};</script>\n",
              "        <script src=\"https://cdn.plot.ly/plotly-2.8.3.min.js\"></script>                <div id=\"b66ae0a7-89d7-45a7-bb55-c9f3d05f0972\" class=\"plotly-graph-div\" style=\"height:525px; width:100%;\"></div>            <script type=\"text/javascript\">                                    window.PLOTLYENV=window.PLOTLYENV || {};                                    if (document.getElementById(\"b66ae0a7-89d7-45a7-bb55-c9f3d05f0972\")) {                    Plotly.newPlot(                        \"b66ae0a7-89d7-45a7-bb55-c9f3d05f0972\",                        [{\"alignmentgroup\":\"True\",\"customdata\":[[false,1779,45],[true,1225,144],[false,4397,16],[true,874,84],[true,11123,98],[true,11580,55],[false,2692,24],[false,4047,17],[false,936,24],[true,2408,197],[false,5660,50],[false,2575,21],[false,1716,22],[true,19649,329],[true,7676,362],[true,16976,85],[false,4598,45],[true,2685,10],[false,6512,20],[false,1042,95],[true,22412,304],[false,5924,30],[true,27445,342],[false,279,27],[false,8629,45]],\"hovertemplate\":\"num_subscribers=%{marker.color}<br>course_title=%{y}<br>is_paid=%{customdata[0]}<br>num_reviews=%{customdata[1]}<br>num_lectures=%{customdata[2]}<extra></extra>\",\"legendgroup\":\"\",\"marker\":{\"color\":[53851,55332,56659,57422,58208,59361,59639,64128,65576,69186,70773,72932,73110,73783,75499,79612,83737,84897,98867,101154,114512,120291,121584,161029,268923],\"coloraxis\":\"coloraxis\",\"pattern\":{\"shape\":\"\"}},\"name\":\"\",\"offsetgroup\":\"\",\"orientation\":\"h\",\"showlegend\":false,\"textposition\":\"auto\",\"x\":[53851,55332,56659,57422,58208,59361,59639,64128,65576,69186,70773,72932,73110,73783,75499,79612,83737,84897,98867,101154,114512,120291,121584,161029,268923],\"xaxis\":\"x\",\"y\":[\"Photoshop In-Depth: Master all of Photoshop's Tools Easily\",\"Complete PHP Course With Bootstrap3 CMS System & Admin Panel\",\"Accounting in 60 Minutes - A Brief Introduction\",\"The Complete HTML & CSS Course - From Novice To Professional\",\"Learn and Understand NodeJS\",\"Learn and Understand AngularJS\",\"Learn Responsive Web Development from Scratch\",\"Quickstart AngularJS\",\"Bitcoin or How I Learned to Stop Worrying and Love Crypto\",\"Become a Web Developer from Scratch\",\"HTML and CSS for Beginners - Build a Website & Launch ONLINE\",\"Web Development By Doing: HTML / CSS From Scratch\",\"Beginner Photoshop to HTML5 and CSS3\",\"Angular 4 (formerly Angular 2) - The Complete Guide\",\"Pianoforall - Incredible New Way To Learn Piano & Keyboard\",\"JavaScript: Understanding the Weird Parts\",\"Practical PHP: Master the Basics and Code Dynamic Websites\",\"Learn Javascript & JQuery From Scratch\",\"Web Design for Web Developers: Build Beautiful Websites!\",\"Free Beginner Electric Guitar Lessons\",\"The Complete Web Developer Course 2.0\",\"Build Your First Website in 1 Week with HTML5 and CSS3\",\"The Web Developer Bootcamp\",\"Coding for Entrepreneurs Basic\",\"Learn HTML5 Programming From Scratch\"],\"yaxis\":\"y\",\"type\":\"bar\"}],                        {\"template\":{\"data\":{\"bar\":[{\"error_x\":{\"color\":\"#2a3f5f\"},\"error_y\":{\"color\":\"#2a3f5f\"},\"marker\":{\"line\":{\"color\":\"#E5ECF6\",\"width\":0.5},\"pattern\":{\"fillmode\":\"overlay\",\"size\":10,\"solidity\":0.2}},\"type\":\"bar\"}],\"barpolar\":[{\"marker\":{\"line\":{\"color\":\"#E5ECF6\",\"width\":0.5},\"pattern\":{\"fillmode\":\"overlay\",\"size\":10,\"solidity\":0.2}},\"type\":\"barpolar\"}],\"carpet\":[{\"aaxis\":{\"endlinecolor\":\"#2a3f5f\",\"gridcolor\":\"white\",\"linecolor\":\"white\",\"minorgridcolor\":\"white\",\"startlinecolor\":\"#2a3f5f\"},\"baxis\":{\"endlinecolor\":\"#2a3f5f\",\"gridcolor\":\"white\",\"linecolor\":\"white\",\"minorgridcolor\":\"white\",\"startlinecolor\":\"#2a3f5f\"},\"type\":\"carpet\"}],\"choropleth\":[{\"colorbar\":{\"outlinewidth\":0,\"ticks\":\"\"},\"type\":\"choropleth\"}],\"contour\":[{\"colorbar\":{\"outlinewidth\":0,\"ticks\":\"\"},\"colorscale\":[[0.0,\"#0d0887\"],[0.1111111111111111,\"#46039f\"],[0.2222222222222222,\"#7201a8\"],[0.3333333333333333,\"#9c179e\"],[0.4444444444444444,\"#bd3786\"],[0.5555555555555556,\"#d8576b\"],[0.6666666666666666,\"#ed7953\"],[0.7777777777777778,\"#fb9f3a\"],[0.8888888888888888,\"#fdca26\"],[1.0,\"#f0f921\"]],\"type\":\"contour\"}],\"contourcarpet\":[{\"colorbar\":{\"outlinewidth\":0,\"ticks\":\"\"},\"type\":\"contourcarpet\"}],\"heatmap\":[{\"colorbar\":{\"outlinewidth\":0,\"ticks\":\"\"},\"colorscale\":[[0.0,\"#0d0887\"],[0.1111111111111111,\"#46039f\"],[0.2222222222222222,\"#7201a8\"],[0.3333333333333333,\"#9c179e\"],[0.4444444444444444,\"#bd3786\"],[0.5555555555555556,\"#d8576b\"],[0.6666666666666666,\"#ed7953\"],[0.7777777777777778,\"#fb9f3a\"],[0.8888888888888888,\"#fdca26\"],[1.0,\"#f0f921\"]],\"type\":\"heatmap\"}],\"heatmapgl\":[{\"colorbar\":{\"outlinewidth\":0,\"ticks\":\"\"},\"colorscale\":[[0.0,\"#0d0887\"],[0.1111111111111111,\"#46039f\"],[0.2222222222222222,\"#7201a8\"],[0.3333333333333333,\"#9c179e\"],[0.4444444444444444,\"#bd3786\"],[0.5555555555555556,\"#d8576b\"],[0.6666666666666666,\"#ed7953\"],[0.7777777777777778,\"#fb9f3a\"],[0.8888888888888888,\"#fdca26\"],[1.0,\"#f0f921\"]],\"type\":\"heatmapgl\"}],\"histogram\":[{\"marker\":{\"pattern\":{\"fillmode\":\"overlay\",\"size\":10,\"solidity\":0.2}},\"type\":\"histogram\"}],\"histogram2d\":[{\"colorbar\":{\"outlinewidth\":0,\"ticks\":\"\"},\"colorscale\":[[0.0,\"#0d0887\"],[0.1111111111111111,\"#46039f\"],[0.2222222222222222,\"#7201a8\"],[0.3333333333333333,\"#9c179e\"],[0.4444444444444444,\"#bd3786\"],[0.5555555555555556,\"#d8576b\"],[0.6666666666666666,\"#ed7953\"],[0.7777777777777778,\"#fb9f3a\"],[0.8888888888888888,\"#fdca26\"],[1.0,\"#f0f921\"]],\"type\":\"histogram2d\"}],\"histogram2dcontour\":[{\"colorbar\":{\"outlinewidth\":0,\"ticks\":\"\"},\"colorscale\":[[0.0,\"#0d0887\"],[0.1111111111111111,\"#46039f\"],[0.2222222222222222,\"#7201a8\"],[0.3333333333333333,\"#9c179e\"],[0.4444444444444444,\"#bd3786\"],[0.5555555555555556,\"#d8576b\"],[0.6666666666666666,\"#ed7953\"],[0.7777777777777778,\"#fb9f3a\"],[0.8888888888888888,\"#fdca26\"],[1.0,\"#f0f921\"]],\"type\":\"histogram2dcontour\"}],\"mesh3d\":[{\"colorbar\":{\"outlinewidth\":0,\"ticks\":\"\"},\"type\":\"mesh3d\"}],\"parcoords\":[{\"line\":{\"colorbar\":{\"outlinewidth\":0,\"ticks\":\"\"}},\"type\":\"parcoords\"}],\"pie\":[{\"automargin\":true,\"type\":\"pie\"}],\"scatter\":[{\"marker\":{\"colorbar\":{\"outlinewidth\":0,\"ticks\":\"\"}},\"type\":\"scatter\"}],\"scatter3d\":[{\"line\":{\"colorbar\":{\"outlinewidth\":0,\"ticks\":\"\"}},\"marker\":{\"colorbar\":{\"outlinewidth\":0,\"ticks\":\"\"}},\"type\":\"scatter3d\"}],\"scattercarpet\":[{\"marker\":{\"colorbar\":{\"outlinewidth\":0,\"ticks\":\"\"}},\"type\":\"scattercarpet\"}],\"scattergeo\":[{\"marker\":{\"colorbar\":{\"outlinewidth\":0,\"ticks\":\"\"}},\"type\":\"scattergeo\"}],\"scattergl\":[{\"marker\":{\"colorbar\":{\"outlinewidth\":0,\"ticks\":\"\"}},\"type\":\"scattergl\"}],\"scattermapbox\":[{\"marker\":{\"colorbar\":{\"outlinewidth\":0,\"ticks\":\"\"}},\"type\":\"scattermapbox\"}],\"scatterpolar\":[{\"marker\":{\"colorbar\":{\"outlinewidth\":0,\"ticks\":\"\"}},\"type\":\"scatterpolar\"}],\"scatterpolargl\":[{\"marker\":{\"colorbar\":{\"outlinewidth\":0,\"ticks\":\"\"}},\"type\":\"scatterpolargl\"}],\"scatterternary\":[{\"marker\":{\"colorbar\":{\"outlinewidth\":0,\"ticks\":\"\"}},\"type\":\"scatterternary\"}],\"surface\":[{\"colorbar\":{\"outlinewidth\":0,\"ticks\":\"\"},\"colorscale\":[[0.0,\"#0d0887\"],[0.1111111111111111,\"#46039f\"],[0.2222222222222222,\"#7201a8\"],[0.3333333333333333,\"#9c179e\"],[0.4444444444444444,\"#bd3786\"],[0.5555555555555556,\"#d8576b\"],[0.6666666666666666,\"#ed7953\"],[0.7777777777777778,\"#fb9f3a\"],[0.8888888888888888,\"#fdca26\"],[1.0,\"#f0f921\"]],\"type\":\"surface\"}],\"table\":[{\"cells\":{\"fill\":{\"color\":\"#EBF0F8\"},\"line\":{\"color\":\"white\"}},\"header\":{\"fill\":{\"color\":\"#C8D4E3\"},\"line\":{\"color\":\"white\"}},\"type\":\"table\"}]},\"layout\":{\"annotationdefaults\":{\"arrowcolor\":\"#2a3f5f\",\"arrowhead\":0,\"arrowwidth\":1},\"autotypenumbers\":\"strict\",\"coloraxis\":{\"colorbar\":{\"outlinewidth\":0,\"ticks\":\"\"}},\"colorscale\":{\"diverging\":[[0,\"#8e0152\"],[0.1,\"#c51b7d\"],[0.2,\"#de77ae\"],[0.3,\"#f1b6da\"],[0.4,\"#fde0ef\"],[0.5,\"#f7f7f7\"],[0.6,\"#e6f5d0\"],[0.7,\"#b8e186\"],[0.8,\"#7fbc41\"],[0.9,\"#4d9221\"],[1,\"#276419\"]],\"sequential\":[[0.0,\"#0d0887\"],[0.1111111111111111,\"#46039f\"],[0.2222222222222222,\"#7201a8\"],[0.3333333333333333,\"#9c179e\"],[0.4444444444444444,\"#bd3786\"],[0.5555555555555556,\"#d8576b\"],[0.6666666666666666,\"#ed7953\"],[0.7777777777777778,\"#fb9f3a\"],[0.8888888888888888,\"#fdca26\"],[1.0,\"#f0f921\"]],\"sequentialminus\":[[0.0,\"#0d0887\"],[0.1111111111111111,\"#46039f\"],[0.2222222222222222,\"#7201a8\"],[0.3333333333333333,\"#9c179e\"],[0.4444444444444444,\"#bd3786\"],[0.5555555555555556,\"#d8576b\"],[0.6666666666666666,\"#ed7953\"],[0.7777777777777778,\"#fb9f3a\"],[0.8888888888888888,\"#fdca26\"],[1.0,\"#f0f921\"]]},\"colorway\":[\"#636efa\",\"#EF553B\",\"#00cc96\",\"#ab63fa\",\"#FFA15A\",\"#19d3f3\",\"#FF6692\",\"#B6E880\",\"#FF97FF\",\"#FECB52\"],\"font\":{\"color\":\"#2a3f5f\"},\"geo\":{\"bgcolor\":\"white\",\"lakecolor\":\"white\",\"landcolor\":\"#E5ECF6\",\"showlakes\":true,\"showland\":true,\"subunitcolor\":\"white\"},\"hoverlabel\":{\"align\":\"left\"},\"hovermode\":\"closest\",\"mapbox\":{\"style\":\"light\"},\"paper_bgcolor\":\"white\",\"plot_bgcolor\":\"#E5ECF6\",\"polar\":{\"angularaxis\":{\"gridcolor\":\"white\",\"linecolor\":\"white\",\"ticks\":\"\"},\"bgcolor\":\"#E5ECF6\",\"radialaxis\":{\"gridcolor\":\"white\",\"linecolor\":\"white\",\"ticks\":\"\"}},\"scene\":{\"xaxis\":{\"backgroundcolor\":\"#E5ECF6\",\"gridcolor\":\"white\",\"gridwidth\":2,\"linecolor\":\"white\",\"showbackground\":true,\"ticks\":\"\",\"zerolinecolor\":\"white\"},\"yaxis\":{\"backgroundcolor\":\"#E5ECF6\",\"gridcolor\":\"white\",\"gridwidth\":2,\"linecolor\":\"white\",\"showbackground\":true,\"ticks\":\"\",\"zerolinecolor\":\"white\"},\"zaxis\":{\"backgroundcolor\":\"#E5ECF6\",\"gridcolor\":\"white\",\"gridwidth\":2,\"linecolor\":\"white\",\"showbackground\":true,\"ticks\":\"\",\"zerolinecolor\":\"white\"}},\"shapedefaults\":{\"line\":{\"color\":\"#2a3f5f\"}},\"ternary\":{\"aaxis\":{\"gridcolor\":\"white\",\"linecolor\":\"white\",\"ticks\":\"\"},\"baxis\":{\"gridcolor\":\"white\",\"linecolor\":\"white\",\"ticks\":\"\"},\"bgcolor\":\"#E5ECF6\",\"caxis\":{\"gridcolor\":\"white\",\"linecolor\":\"white\",\"ticks\":\"\"}},\"title\":{\"x\":0.05},\"xaxis\":{\"automargin\":true,\"gridcolor\":\"white\",\"linecolor\":\"white\",\"ticks\":\"\",\"title\":{\"standoff\":15},\"zerolinecolor\":\"white\",\"zerolinewidth\":2},\"yaxis\":{\"automargin\":true,\"gridcolor\":\"white\",\"linecolor\":\"white\",\"ticks\":\"\",\"title\":{\"standoff\":15},\"zerolinecolor\":\"white\",\"zerolinewidth\":2}}},\"xaxis\":{\"anchor\":\"y\",\"domain\":[0.0,1.0],\"title\":{\"text\":\"Number of Subscribers\"}},\"yaxis\":{\"anchor\":\"x\",\"domain\":[0.0,1.0],\"title\":{\"text\":\"Course Title\"},\"showticklabels\":false},\"coloraxis\":{\"colorbar\":{\"title\":{\"text\":\"num_subscribers\"}},\"colorscale\":[[0.0,\"#0d0887\"],[0.1111111111111111,\"#46039f\"],[0.2222222222222222,\"#7201a8\"],[0.3333333333333333,\"#9c179e\"],[0.4444444444444444,\"#bd3786\"],[0.5555555555555556,\"#d8576b\"],[0.6666666666666666,\"#ed7953\"],[0.7777777777777778,\"#fb9f3a\"],[0.8888888888888888,\"#fdca26\"],[1.0,\"#f0f921\"]]},\"legend\":{\"tracegroupgap\":0},\"margin\":{\"t\":60},\"barmode\":\"relative\",\"showlegend\":false},                        {\"responsive\": true}                    ).then(function(){\n",
              "                            \n",
              "var gd = document.getElementById('b66ae0a7-89d7-45a7-bb55-c9f3d05f0972');\n",
              "var x = new MutationObserver(function (mutations, observer) {{\n",
              "        var display = window.getComputedStyle(gd).display;\n",
              "        if (!display || display === 'none') {{\n",
              "            console.log([gd, 'removed!']);\n",
              "            Plotly.purge(gd);\n",
              "            observer.disconnect();\n",
              "        }}\n",
              "}});\n",
              "\n",
              "// Listen for the removal of the full notebook cells\n",
              "var notebookContainer = gd.closest('#notebook-container');\n",
              "if (notebookContainer) {{\n",
              "    x.observe(notebookContainer, {childList: true});\n",
              "}}\n",
              "\n",
              "// Listen for the clearing of the current output cell\n",
              "var outputEl = gd.closest('.output');\n",
              "if (outputEl) {{\n",
              "    x.observe(outputEl, {childList: true});\n",
              "}}\n",
              "\n",
              "                        })                };                            </script>        </div>\n",
              "</body>\n",
              "</html>"
            ]
          },
          "metadata": {}
        }
      ]
    },
    {
      "cell_type": "markdown",
      "source": [
        "**Being a coding enthusiastic person. It makes me happy to see that around 20 course out of top 25 are realated to coding.** 🙂"
      ],
      "metadata": {
        "id": "KyCzuY_fIGk0"
      }
    },
    {
      "cell_type": "code",
      "source": [
        ""
      ],
      "metadata": {
        "id": "W_XnwZAwIs4c"
      },
      "execution_count": 30,
      "outputs": []
    },
    {
      "cell_type": "markdown",
      "source": [
        "same as above only but it is for free and not paid"
      ],
      "metadata": {
        "id": "4Qh8VrtHIvyB"
      }
    },
    {
      "cell_type": "code",
      "source": [
        "Unpaid = data[data['is_paid']==False]\n",
        "\n",
        "top25_free = Unpaid.sort_values(\"num_subscribers\", \n",
        "                                ascending=False)[0:25].sort_values(\"num_subscribers\", ascending=True).reset_index(drop=True).reset_index()\n",
        "fig = px.bar(top25_free,\n",
        "       y = 'course_title',\n",
        "       x= 'num_subscribers',\n",
        "       orientation = 'h',\n",
        "       color='num_subscribers',\n",
        "      hover_data=['num_reviews','num_lectures','year'])\n",
        "\n",
        "\n",
        "fig.update_layout(showlegend=False)\n",
        "fig.update_xaxes(title='Number of Subscribers')\n",
        "fig.update_yaxes(title='Course Title',showticklabels=False)\n",
        "fig.show()"
      ],
      "metadata": {
        "colab": {
          "base_uri": "https://localhost:8080/",
          "height": 542
        },
        "id": "1VoBD6kbyy_H",
        "outputId": "5efa649f-6549-4501-be5f-c5e2fd9c11cc"
      },
      "execution_count": 31,
      "outputs": [
        {
          "output_type": "display_data",
          "data": {
            "text/html": [
              "<html>\n",
              "<head><meta charset=\"utf-8\" /></head>\n",
              "<body>\n",
              "    <div>            <script src=\"https://cdnjs.cloudflare.com/ajax/libs/mathjax/2.7.5/MathJax.js?config=TeX-AMS-MML_SVG\"></script><script type=\"text/javascript\">if (window.MathJax) {MathJax.Hub.Config({SVG: {font: \"STIX-Web\"}});}</script>                <script type=\"text/javascript\">window.PlotlyConfig = {MathJaxConfig: 'local'};</script>\n",
              "        <script src=\"https://cdn.plot.ly/plotly-2.8.3.min.js\"></script>                <div id=\"843f8886-0f0a-4ded-9d7c-449820bb6068\" class=\"plotly-graph-div\" style=\"height:525px; width:100%;\"></div>            <script type=\"text/javascript\">                                    window.PLOTLYENV=window.PLOTLYENV || {};                                    if (document.getElementById(\"843f8886-0f0a-4ded-9d7c-449820bb6068\")) {                    Plotly.newPlot(                        \"843f8886-0f0a-4ded-9d7c-449820bb6068\",                        [{\"alignmentgroup\":\"True\",\"customdata\":[[1342,87,2014],[1948,53,2015],[1005,12,2014],[2618,32,2016],[2104,13,2015],[1563,45,2015],[5590,41,2016],[1141,26,2013],[1041,22,2012],[1236,9,2013],[2698,15,2013],[1779,45,2014],[4397,16,2013],[2692,24,2013],[4047,17,2014],[936,24,2013],[5660,50,2015],[2575,21,2013],[1716,22,2012],[4598,45,2014],[6512,20,2015],[1042,95,2012],[5924,30,2014],[279,27,2013],[8629,45,2013]],\"hovertemplate\":\"num_subscribers=%{marker.color}<br>course_title=%{y}<br>num_reviews=%{customdata[0]}<br>num_lectures=%{customdata[1]}<br>year=%{customdata[2]}<extra></extra>\",\"legendgroup\":\"\",\"marker\":{\"color\":[29990,30531,32260,36322,41478,44044,47062,47652,47811,48650,50855,53851,56659,59639,64128,65576,70773,72932,73110,83737,98867,101154,120291,161029,268923],\"coloraxis\":\"coloraxis\",\"pattern\":{\"shape\":\"\"}},\"name\":\"\",\"offsetgroup\":\"\",\"orientation\":\"h\",\"showlegend\":false,\"textposition\":\"auto\",\"x\":[29990,30531,32260,36322,41478,44044,47062,47652,47811,48650,50855,53851,56659,59639,64128,65576,70773,72932,73110,83737,98867,101154,120291,161029,268923],\"xaxis\":\"x\",\"y\":[\"Learn E-Commerce Website in PHP & MySQL From Scratch!\",\"AngularJS For Beginners\",\"Create An HTML5 Video Player From Scratch\",\"Learn Object Oriented PHP By Building a Complete Website\",\"Bootstrap 4 Quick Start: Code Modern Responsive Websites\",\"Professional Logo Design in Adobe Illustrator\",\"Javascript Essentials\",\"Getting Started with Playing Guitar\",\"Figure Drawing From Life Using The Reilly Technique.\",\"Learn PHP Fundamentals From Scratch\",\"Stock Market Investing for Beginners\",\"Photoshop In-Depth: Master all of Photoshop's Tools Easily\",\"Accounting in 60 Minutes - A Brief Introduction\",\"Learn Responsive Web Development from Scratch\",\"Quickstart AngularJS\",\"Bitcoin or How I Learned to Stop Worrying and Love Crypto\",\"HTML and CSS for Beginners - Build a Website & Launch ONLINE\",\"Web Development By Doing: HTML / CSS From Scratch\",\"Beginner Photoshop to HTML5 and CSS3\",\"Practical PHP: Master the Basics and Code Dynamic Websites\",\"Web Design for Web Developers: Build Beautiful Websites!\",\"Free Beginner Electric Guitar Lessons\",\"Build Your First Website in 1 Week with HTML5 and CSS3\",\"Coding for Entrepreneurs Basic\",\"Learn HTML5 Programming From Scratch\"],\"yaxis\":\"y\",\"type\":\"bar\"}],                        {\"template\":{\"data\":{\"bar\":[{\"error_x\":{\"color\":\"#2a3f5f\"},\"error_y\":{\"color\":\"#2a3f5f\"},\"marker\":{\"line\":{\"color\":\"#E5ECF6\",\"width\":0.5},\"pattern\":{\"fillmode\":\"overlay\",\"size\":10,\"solidity\":0.2}},\"type\":\"bar\"}],\"barpolar\":[{\"marker\":{\"line\":{\"color\":\"#E5ECF6\",\"width\":0.5},\"pattern\":{\"fillmode\":\"overlay\",\"size\":10,\"solidity\":0.2}},\"type\":\"barpolar\"}],\"carpet\":[{\"aaxis\":{\"endlinecolor\":\"#2a3f5f\",\"gridcolor\":\"white\",\"linecolor\":\"white\",\"minorgridcolor\":\"white\",\"startlinecolor\":\"#2a3f5f\"},\"baxis\":{\"endlinecolor\":\"#2a3f5f\",\"gridcolor\":\"white\",\"linecolor\":\"white\",\"minorgridcolor\":\"white\",\"startlinecolor\":\"#2a3f5f\"},\"type\":\"carpet\"}],\"choropleth\":[{\"colorbar\":{\"outlinewidth\":0,\"ticks\":\"\"},\"type\":\"choropleth\"}],\"contour\":[{\"colorbar\":{\"outlinewidth\":0,\"ticks\":\"\"},\"colorscale\":[[0.0,\"#0d0887\"],[0.1111111111111111,\"#46039f\"],[0.2222222222222222,\"#7201a8\"],[0.3333333333333333,\"#9c179e\"],[0.4444444444444444,\"#bd3786\"],[0.5555555555555556,\"#d8576b\"],[0.6666666666666666,\"#ed7953\"],[0.7777777777777778,\"#fb9f3a\"],[0.8888888888888888,\"#fdca26\"],[1.0,\"#f0f921\"]],\"type\":\"contour\"}],\"contourcarpet\":[{\"colorbar\":{\"outlinewidth\":0,\"ticks\":\"\"},\"type\":\"contourcarpet\"}],\"heatmap\":[{\"colorbar\":{\"outlinewidth\":0,\"ticks\":\"\"},\"colorscale\":[[0.0,\"#0d0887\"],[0.1111111111111111,\"#46039f\"],[0.2222222222222222,\"#7201a8\"],[0.3333333333333333,\"#9c179e\"],[0.4444444444444444,\"#bd3786\"],[0.5555555555555556,\"#d8576b\"],[0.6666666666666666,\"#ed7953\"],[0.7777777777777778,\"#fb9f3a\"],[0.8888888888888888,\"#fdca26\"],[1.0,\"#f0f921\"]],\"type\":\"heatmap\"}],\"heatmapgl\":[{\"colorbar\":{\"outlinewidth\":0,\"ticks\":\"\"},\"colorscale\":[[0.0,\"#0d0887\"],[0.1111111111111111,\"#46039f\"],[0.2222222222222222,\"#7201a8\"],[0.3333333333333333,\"#9c179e\"],[0.4444444444444444,\"#bd3786\"],[0.5555555555555556,\"#d8576b\"],[0.6666666666666666,\"#ed7953\"],[0.7777777777777778,\"#fb9f3a\"],[0.8888888888888888,\"#fdca26\"],[1.0,\"#f0f921\"]],\"type\":\"heatmapgl\"}],\"histogram\":[{\"marker\":{\"pattern\":{\"fillmode\":\"overlay\",\"size\":10,\"solidity\":0.2}},\"type\":\"histogram\"}],\"histogram2d\":[{\"colorbar\":{\"outlinewidth\":0,\"ticks\":\"\"},\"colorscale\":[[0.0,\"#0d0887\"],[0.1111111111111111,\"#46039f\"],[0.2222222222222222,\"#7201a8\"],[0.3333333333333333,\"#9c179e\"],[0.4444444444444444,\"#bd3786\"],[0.5555555555555556,\"#d8576b\"],[0.6666666666666666,\"#ed7953\"],[0.7777777777777778,\"#fb9f3a\"],[0.8888888888888888,\"#fdca26\"],[1.0,\"#f0f921\"]],\"type\":\"histogram2d\"}],\"histogram2dcontour\":[{\"colorbar\":{\"outlinewidth\":0,\"ticks\":\"\"},\"colorscale\":[[0.0,\"#0d0887\"],[0.1111111111111111,\"#46039f\"],[0.2222222222222222,\"#7201a8\"],[0.3333333333333333,\"#9c179e\"],[0.4444444444444444,\"#bd3786\"],[0.5555555555555556,\"#d8576b\"],[0.6666666666666666,\"#ed7953\"],[0.7777777777777778,\"#fb9f3a\"],[0.8888888888888888,\"#fdca26\"],[1.0,\"#f0f921\"]],\"type\":\"histogram2dcontour\"}],\"mesh3d\":[{\"colorbar\":{\"outlinewidth\":0,\"ticks\":\"\"},\"type\":\"mesh3d\"}],\"parcoords\":[{\"line\":{\"colorbar\":{\"outlinewidth\":0,\"ticks\":\"\"}},\"type\":\"parcoords\"}],\"pie\":[{\"automargin\":true,\"type\":\"pie\"}],\"scatter\":[{\"marker\":{\"colorbar\":{\"outlinewidth\":0,\"ticks\":\"\"}},\"type\":\"scatter\"}],\"scatter3d\":[{\"line\":{\"colorbar\":{\"outlinewidth\":0,\"ticks\":\"\"}},\"marker\":{\"colorbar\":{\"outlinewidth\":0,\"ticks\":\"\"}},\"type\":\"scatter3d\"}],\"scattercarpet\":[{\"marker\":{\"colorbar\":{\"outlinewidth\":0,\"ticks\":\"\"}},\"type\":\"scattercarpet\"}],\"scattergeo\":[{\"marker\":{\"colorbar\":{\"outlinewidth\":0,\"ticks\":\"\"}},\"type\":\"scattergeo\"}],\"scattergl\":[{\"marker\":{\"colorbar\":{\"outlinewidth\":0,\"ticks\":\"\"}},\"type\":\"scattergl\"}],\"scattermapbox\":[{\"marker\":{\"colorbar\":{\"outlinewidth\":0,\"ticks\":\"\"}},\"type\":\"scattermapbox\"}],\"scatterpolar\":[{\"marker\":{\"colorbar\":{\"outlinewidth\":0,\"ticks\":\"\"}},\"type\":\"scatterpolar\"}],\"scatterpolargl\":[{\"marker\":{\"colorbar\":{\"outlinewidth\":0,\"ticks\":\"\"}},\"type\":\"scatterpolargl\"}],\"scatterternary\":[{\"marker\":{\"colorbar\":{\"outlinewidth\":0,\"ticks\":\"\"}},\"type\":\"scatterternary\"}],\"surface\":[{\"colorbar\":{\"outlinewidth\":0,\"ticks\":\"\"},\"colorscale\":[[0.0,\"#0d0887\"],[0.1111111111111111,\"#46039f\"],[0.2222222222222222,\"#7201a8\"],[0.3333333333333333,\"#9c179e\"],[0.4444444444444444,\"#bd3786\"],[0.5555555555555556,\"#d8576b\"],[0.6666666666666666,\"#ed7953\"],[0.7777777777777778,\"#fb9f3a\"],[0.8888888888888888,\"#fdca26\"],[1.0,\"#f0f921\"]],\"type\":\"surface\"}],\"table\":[{\"cells\":{\"fill\":{\"color\":\"#EBF0F8\"},\"line\":{\"color\":\"white\"}},\"header\":{\"fill\":{\"color\":\"#C8D4E3\"},\"line\":{\"color\":\"white\"}},\"type\":\"table\"}]},\"layout\":{\"annotationdefaults\":{\"arrowcolor\":\"#2a3f5f\",\"arrowhead\":0,\"arrowwidth\":1},\"autotypenumbers\":\"strict\",\"coloraxis\":{\"colorbar\":{\"outlinewidth\":0,\"ticks\":\"\"}},\"colorscale\":{\"diverging\":[[0,\"#8e0152\"],[0.1,\"#c51b7d\"],[0.2,\"#de77ae\"],[0.3,\"#f1b6da\"],[0.4,\"#fde0ef\"],[0.5,\"#f7f7f7\"],[0.6,\"#e6f5d0\"],[0.7,\"#b8e186\"],[0.8,\"#7fbc41\"],[0.9,\"#4d9221\"],[1,\"#276419\"]],\"sequential\":[[0.0,\"#0d0887\"],[0.1111111111111111,\"#46039f\"],[0.2222222222222222,\"#7201a8\"],[0.3333333333333333,\"#9c179e\"],[0.4444444444444444,\"#bd3786\"],[0.5555555555555556,\"#d8576b\"],[0.6666666666666666,\"#ed7953\"],[0.7777777777777778,\"#fb9f3a\"],[0.8888888888888888,\"#fdca26\"],[1.0,\"#f0f921\"]],\"sequentialminus\":[[0.0,\"#0d0887\"],[0.1111111111111111,\"#46039f\"],[0.2222222222222222,\"#7201a8\"],[0.3333333333333333,\"#9c179e\"],[0.4444444444444444,\"#bd3786\"],[0.5555555555555556,\"#d8576b\"],[0.6666666666666666,\"#ed7953\"],[0.7777777777777778,\"#fb9f3a\"],[0.8888888888888888,\"#fdca26\"],[1.0,\"#f0f921\"]]},\"colorway\":[\"#636efa\",\"#EF553B\",\"#00cc96\",\"#ab63fa\",\"#FFA15A\",\"#19d3f3\",\"#FF6692\",\"#B6E880\",\"#FF97FF\",\"#FECB52\"],\"font\":{\"color\":\"#2a3f5f\"},\"geo\":{\"bgcolor\":\"white\",\"lakecolor\":\"white\",\"landcolor\":\"#E5ECF6\",\"showlakes\":true,\"showland\":true,\"subunitcolor\":\"white\"},\"hoverlabel\":{\"align\":\"left\"},\"hovermode\":\"closest\",\"mapbox\":{\"style\":\"light\"},\"paper_bgcolor\":\"white\",\"plot_bgcolor\":\"#E5ECF6\",\"polar\":{\"angularaxis\":{\"gridcolor\":\"white\",\"linecolor\":\"white\",\"ticks\":\"\"},\"bgcolor\":\"#E5ECF6\",\"radialaxis\":{\"gridcolor\":\"white\",\"linecolor\":\"white\",\"ticks\":\"\"}},\"scene\":{\"xaxis\":{\"backgroundcolor\":\"#E5ECF6\",\"gridcolor\":\"white\",\"gridwidth\":2,\"linecolor\":\"white\",\"showbackground\":true,\"ticks\":\"\",\"zerolinecolor\":\"white\"},\"yaxis\":{\"backgroundcolor\":\"#E5ECF6\",\"gridcolor\":\"white\",\"gridwidth\":2,\"linecolor\":\"white\",\"showbackground\":true,\"ticks\":\"\",\"zerolinecolor\":\"white\"},\"zaxis\":{\"backgroundcolor\":\"#E5ECF6\",\"gridcolor\":\"white\",\"gridwidth\":2,\"linecolor\":\"white\",\"showbackground\":true,\"ticks\":\"\",\"zerolinecolor\":\"white\"}},\"shapedefaults\":{\"line\":{\"color\":\"#2a3f5f\"}},\"ternary\":{\"aaxis\":{\"gridcolor\":\"white\",\"linecolor\":\"white\",\"ticks\":\"\"},\"baxis\":{\"gridcolor\":\"white\",\"linecolor\":\"white\",\"ticks\":\"\"},\"bgcolor\":\"#E5ECF6\",\"caxis\":{\"gridcolor\":\"white\",\"linecolor\":\"white\",\"ticks\":\"\"}},\"title\":{\"x\":0.05},\"xaxis\":{\"automargin\":true,\"gridcolor\":\"white\",\"linecolor\":\"white\",\"ticks\":\"\",\"title\":{\"standoff\":15},\"zerolinecolor\":\"white\",\"zerolinewidth\":2},\"yaxis\":{\"automargin\":true,\"gridcolor\":\"white\",\"linecolor\":\"white\",\"ticks\":\"\",\"title\":{\"standoff\":15},\"zerolinecolor\":\"white\",\"zerolinewidth\":2}}},\"xaxis\":{\"anchor\":\"y\",\"domain\":[0.0,1.0],\"title\":{\"text\":\"Number of Subscribers\"}},\"yaxis\":{\"anchor\":\"x\",\"domain\":[0.0,1.0],\"title\":{\"text\":\"Course Title\"},\"showticklabels\":false},\"coloraxis\":{\"colorbar\":{\"title\":{\"text\":\"num_subscribers\"}},\"colorscale\":[[0.0,\"#0d0887\"],[0.1111111111111111,\"#46039f\"],[0.2222222222222222,\"#7201a8\"],[0.3333333333333333,\"#9c179e\"],[0.4444444444444444,\"#bd3786\"],[0.5555555555555556,\"#d8576b\"],[0.6666666666666666,\"#ed7953\"],[0.7777777777777778,\"#fb9f3a\"],[0.8888888888888888,\"#fdca26\"],[1.0,\"#f0f921\"]]},\"legend\":{\"tracegroupgap\":0},\"margin\":{\"t\":60},\"barmode\":\"relative\",\"showlegend\":false},                        {\"responsive\": true}                    ).then(function(){\n",
              "                            \n",
              "var gd = document.getElementById('843f8886-0f0a-4ded-9d7c-449820bb6068');\n",
              "var x = new MutationObserver(function (mutations, observer) {{\n",
              "        var display = window.getComputedStyle(gd).display;\n",
              "        if (!display || display === 'none') {{\n",
              "            console.log([gd, 'removed!']);\n",
              "            Plotly.purge(gd);\n",
              "            observer.disconnect();\n",
              "        }}\n",
              "}});\n",
              "\n",
              "// Listen for the removal of the full notebook cells\n",
              "var notebookContainer = gd.closest('#notebook-container');\n",
              "if (notebookContainer) {{\n",
              "    x.observe(notebookContainer, {childList: true});\n",
              "}}\n",
              "\n",
              "// Listen for the clearing of the current output cell\n",
              "var outputEl = gd.closest('.output');\n",
              "if (outputEl) {{\n",
              "    x.observe(outputEl, {childList: true});\n",
              "}}\n",
              "\n",
              "                        })                };                            </script>        </div>\n",
              "</body>\n",
              "</html>"
            ]
          },
          "metadata": {}
        }
      ]
    },
    {
      "cell_type": "markdown",
      "source": [
        "**And same as that of paid is also seen here and more love for coding course has been showered**"
      ],
      "metadata": {
        "id": "B4AxrkEhJCXC"
      }
    },
    {
      "cell_type": "code",
      "source": [
        "import matplotlib.pyplot as plt\n",
        "%matplotlib inline\n",
        "import seaborn as sns"
      ],
      "metadata": {
        "id": "ZVK3RtFjzSUP"
      },
      "execution_count": 32,
      "outputs": []
    },
    {
      "cell_type": "code",
      "source": [
        "plt.figure(figsize = (10,7))\n",
        "f = data[['num_reviews','price','num_subscribers','content_duration']].corr()\n",
        "sns.heatmap(f, annot=True)"
      ],
      "metadata": {
        "colab": {
          "base_uri": "https://localhost:8080/",
          "height": 452
        },
        "id": "KMieg0oIy3WA",
        "outputId": "7e7a369b-ec9f-4b37-89fc-6b61d2cd455a"
      },
      "execution_count": 33,
      "outputs": [
        {
          "output_type": "execute_result",
          "data": {
            "text/plain": [
              "<matplotlib.axes._subplots.AxesSubplot at 0x7fc0de5ebc90>"
            ]
          },
          "metadata": {},
          "execution_count": 33
        },
        {
          "output_type": "display_data",
          "data": {
            "image/png": "[encoded data removed]",
            "text/plain": [
              "<Figure size 720x504 with 2 Axes>"
            ]
          },
          "metadata": {
            "needs_background": "light"
          }
        }
      ]
    },
    {
      "cell_type": "markdown",
      "source": [
        "**Correlation is a statistical term describing the degree to which two variables move in coordination with one another.**"
      ],
      "metadata": {
        "id": "ic9JSWgVJcpW"
      }
    },
    {
      "cell_type": "markdown",
      "source": [
        "**We dont see much high correlation among the variables**"
      ],
      "metadata": {
        "id": "aYinbsyRJela"
      }
    },
    {
      "cell_type": "markdown",
      "source": [
        ""
      ],
      "metadata": {
        "id": "ncRrQaHYJNwx"
      }
    },
    {
      "cell_type": "code",
      "source": [
        ""
      ],
      "metadata": {
        "id": "JrVQFHWtrjp6"
      },
      "execution_count": 33,
      "outputs": []
    },
    {
      "cell_type": "code",
      "source": [
        ""
      ],
      "metadata": {
        "id": "UqxMfMXp0AsH"
      },
      "execution_count": 33,
      "outputs": []
    },
    {
      "cell_type": "code",
      "source": [
        ""
      ],
      "metadata": {
        "id": "nUFf827Iru5l"
      },
      "execution_count": 33,
      "outputs": []
    },
    {
      "cell_type": "markdown",
      "source": [
        "#WordCloud"
      ],
      "metadata": {
        "id": "T8r76dXj1NNm"
      }
    },
    {
      "cell_type": "markdown",
      "source": [
        "Importing few librariries like re for regular expression related task, and different Text Analytics realed package"
      ],
      "metadata": {
        "id": "8FhIZLjBJ_n-"
      }
    },
    {
      "cell_type": "markdown",
      "source": [
        "**TfidfVectorizer:-Convert a collection of raw documents to a matrix of TF-IDF feature**s"
      ],
      "metadata": {
        "id": "DFqZb3RxKWQa"
      }
    },
    {
      "cell_type": "markdown",
      "source": [
        "**CountVectorizer:Convert a collection of text documents to a matrix of token counts.**\n",
        "**This implementation produces a sparse representation of the counts using scipy.sparse.csr_matrix.**"
      ],
      "metadata": {
        "id": "4NCGAxkfKWSZ"
      }
    },
    {
      "cell_type": "markdown",
      "source": [
        "**Word Clouds are a powerful way to visualise what your audience really thinks about a topic.**"
      ],
      "metadata": {
        "id": "TnaSD5dWLD04"
      }
    },
    {
      "cell_type": "code",
      "source": [
        "import os, re\n",
        "from sklearn.feature_extraction.text import CountVectorizer, TfidfVectorizer\n",
        "from wordcloud import WordCloud, STOPWORDS"
      ],
      "metadata": {
        "id": "8zrIfx8t2cmu"
      },
      "execution_count": 34,
      "outputs": []
    },
    {
      "cell_type": "markdown",
      "source": [
        "Targeting only course title, so as to know which type/ word of course hihly popular"
      ],
      "metadata": {
        "id": "Lh2IECgoLRJl"
      }
    },
    {
      "cell_type": "code",
      "source": [
        "udemy_title = data['course_title']"
      ],
      "metadata": {
        "id": "hT8lJHPY1TZn"
      },
      "execution_count": 35,
      "outputs": []
    },
    {
      "cell_type": "markdown",
      "source": [
        "we are making use of regex, so as to filter out all letter other than capital and small ato z and after that making it to lowercase and storing in corpus."
      ],
      "metadata": {
        "id": "5LyMuqlwLcm2"
      }
    },
    {
      "cell_type": "code",
      "source": [
        "corpus = [re.sub(\"[^a-zA-Z ]+\",'', x) for x in udemy_title]\n",
        "corpus = [x.lower() for x in corpus]\n",
        "corpus"
      ],
      "metadata": {
        "colab": {
          "base_uri": "https://localhost:8080/"
        },
        "id": "ogVw4cgR18VV",
        "outputId": "58d9b65d-56b2-4334-c104-dc9e390faa60"
      },
      "execution_count": 36,
      "outputs": [
        {
          "output_type": "execute_result",
          "data": {
            "text/plain": [
              "['ultimate investment banking course',\n",
              " 'complete gst course  certification  grow your ca practice',\n",
              " 'financial modeling for business analysts and consultants',\n",
              " 'beginner to pro  financial analysis in excel ',\n",
              " 'how to maximize your profits trading options',\n",
              " 'trading penny stocks a guide for all levels in ',\n",
              " 'investing and trading for beginners mastering price charts',\n",
              " 'trading stock chart patterns for immediate explosive gains',\n",
              " 'options trading   advanced stock profit and success method',\n",
              " 'the only investment strategy you need for your retirement',\n",
              " 'forex trading secrets of the pros with amazons aws',\n",
              " 'trading options with money flow',\n",
              " 'financial management risk and return for securities',\n",
              " 'forex trading course work smarter not harder proven results',\n",
              " 'python algo trading sentiment trading with news',\n",
              " 'short selling learn to sell stocks before the fall',\n",
              " 'basic technical analysis learn the structure of the market',\n",
              " 'the complete chart pattern trading course a proven approach',\n",
              " ' deadly mistakes of investing that will slash your profits',\n",
              " 'financial statements made easy',\n",
              " 'winning forex trading with live forex trading examples',\n",
              " 'forex traders  create your first trading robot no coding',\n",
              " 'create a business from home trading stocks today in ',\n",
              " 'introduction to accounting  mastering financial statements',\n",
              " 'the complete ethereum course get  ether in your wallet',\n",
              " 'beginner to pro in powerpoint complete powerpoint training',\n",
              " 'investing  the complete online investing course',\n",
              " 'create your own hedge fund trade stocks like a fund manager',\n",
              " 'learn mql build an currency hedging robot metatrader ',\n",
              " 'forex trading your complete guide to get started like a pro',\n",
              " 'python algo stock trading automate your trading',\n",
              " 'the forex robot incredible roi robot included',\n",
              " 'the complete bitcoin course get  bitcoin in your wallet',\n",
              " 'mastering high probability iron condor options trading',\n",
              " 'the complete short course on ethereum',\n",
              " 'options trading stocks proven toolbox for financial success',\n",
              " 'forex trading az  with live examples of forex trading',\n",
              " 'introduction to finance accounting modeling and valuation',\n",
              " 'beginner to pro in excel financial modeling and valuation',\n",
              " 'the complete investment banking course ',\n",
              " 'the complete financial analyst course ',\n",
              " 'python for finance investment fundamentals  data analytics',\n",
              " 'financial modeling for startups  small businesses',\n",
              " 'options trading  how to win with weekly options',\n",
              " 'black algo trading build your trading robot',\n",
              " 'accounting  financial statement analysis complete training',\n",
              " 'cryptocurrency trading complete guide to trading altcoins',\n",
              " 'forex robots expect to earn  pa forex robot included',\n",
              " 'three steps trading  live trading  real account',\n",
              " 'option trading for rookies  understand options completely',\n",
              " 'how i learned stock trading and how you can too',\n",
              " 'learn to trade for profit find and trade winning stocks',\n",
              " 'trading inside bars  master  easy pattern to be successful',\n",
              " 'four fundamentals of financial planning',\n",
              " 'options trading  calendar spread course for every trader',\n",
              " 'dividend investing build your portfolio for a better future',\n",
              " 'learn accounting understand business',\n",
              " 'how to consistently win trading stocks in  days or less',\n",
              " 'a beginners guide to quantopian futures api',\n",
              " 'how to buy cheap options  options trading pricing model',\n",
              " 'excel crash course master excel for financial analysis',\n",
              " 'comprehensive guide to financial markets investing trading',\n",
              " 'stock trading ninja complete system for trading success',\n",
              " 'hedge and mutual fund careers the complete guide',\n",
              " 'algorithmic trading in forex create your first forex robot',\n",
              " 'the power modeling bootcamp advanced excel in  days',\n",
              " 'options trading basics course bundle',\n",
              " 'how to win  of your options trades',\n",
              " 'how i make consistent returns trading options',\n",
              " 'forex strategies kelly criterion larry williams and more',\n",
              " 'elite trend trader learn to trade stocks options  forex',\n",
              " 'options trading introduction day trade stock options',\n",
              " 'the almost perfect options trading strategy system  unique',\n",
              " 'forex trading   learn to trade forex like the banks',\n",
              " 'learn to trade for profittrading with japanese candlesticks',\n",
              " 'the most powerful options spread trading front ratio spread',\n",
              " 'what finance job is for you explanation of  finance roles',\n",
              " 'the blueprint for successful stock trading',\n",
              " 'trading for beginners  intermediate level',\n",
              " 'start trading stocks using technical analysis',\n",
              " 'learn how to set up an incubator hedge fund  stepbystep',\n",
              " 'vps for forex trading  protect your forex robots',\n",
              " 'introduction to accounting the language of business',\n",
              " 'basic excel for basic bookkeeping and accounting',\n",
              " 'using the greeks to understand options',\n",
              " 'trading options for consistent returns calendar spreads',\n",
              " 'how to create your personal budget',\n",
              " 'the complete value investing course a proven approach',\n",
              " 'forex trading with price action',\n",
              " 'emini es futures  advanced non directional options trading',\n",
              " 'forex trading  advanced fundamental analysis',\n",
              " 'how to invest with tiny capital in stocks ',\n",
              " 'learn how to successfully trade stocks in  simple steps',\n",
              " 'forex metatrader  master mt like a pro forex trader',\n",
              " 'intermediate options trading concepts for stocks and options',\n",
              " 'options trading  the basics',\n",
              " 'practical accounts app overview',\n",
              " 'bitcoin profits for beginners',\n",
              " 'trend traders club how to find and trade fast moving trends',\n",
              " 'financial statements basics',\n",
              " 'high performance stock trading using key options techniques',\n",
              " 'introduction to financial statement analysis',\n",
              " 'basics of economics college level',\n",
              " 'stock market investing for beginners',\n",
              " 'accounting for beginners  learn basics in under  hour',\n",
              " 'straddle options trading  profit in any market direction',\n",
              " 'fundamentals of forex trading',\n",
              " 'binary options trading strategies  accuracy and signals',\n",
              " 'website investing   buying  selling online businesses',\n",
              " 'practical accounts  bookkeeping automated overview ',\n",
              " 'live account  etf trading system  hacking the stock market',\n",
              " 'stock market leverage how to start trading options wisely',\n",
              " 'stock market foundations',\n",
              " 'crash course on working capital management',\n",
              " 'advanced accounting a complete study for ca  cma  cfa  cs',\n",
              " ' profit in  month  crush your forex trading paradigm',\n",
              " 'how to create a routine trading',\n",
              " 'forex trading secrets mt robot ea inside no coding',\n",
              " 'forex sos course trading tweaks and working forex strategy',\n",
              " 'introduction to financial modeling',\n",
              " 'quantitative aptitude for banking  competitive examinations',\n",
              " 'option spreads and credit spreads bundle',\n",
              " 'b com accountancy i paper eco  ignou',\n",
              " 'forex trading  learn in a quick  profitable way  support',\n",
              " 'auditing basics professional course level',\n",
              " 'stock market investing encyclopedia how to invest in stocks',\n",
              " 'learn the basics of preparing accounting statements',\n",
              " 'elliott wave forex trading with the elliott wave theory',\n",
              " 'corporate finance  a brief introduction',\n",
              " 'excel functions to analyze and visualize data',\n",
              " 'building financial statements in excel',\n",
              " 'transfer pricing a complete analysis',\n",
              " 'accounting get hired without work experience',\n",
              " 'forex trading for beginners  basics',\n",
              " 'basic bookkeeping hacks',\n",
              " 'complete trading plan course for stocks  forex  hours',\n",
              " 'forex trading with fixed risk through options trading',\n",
              " 'intro to investment banking ma ipo modeling  free book',\n",
              " 'how to pick the right penny stocks to invest in ',\n",
              " 'top  trading ideas in the equities market',\n",
              " 'intro to financial modeling',\n",
              " 'shark accounting  building a business by the numbers',\n",
              " 'forex trading make your first trade today',\n",
              " 'accounting in  minutes  a brief introduction',\n",
              " 'sap fico for beginners  a guide to sap financial accounts',\n",
              " 'learn how to double your forex trading account in one trade',\n",
              " 'accounting superpowers learn accounts understand business',\n",
              " 'python algo trading fx trading with oanda',\n",
              " 'save on your taxes',\n",
              " 'financial model basics build a model from start to finish',\n",
              " 'option trading for rookies the covered call option strategy',\n",
              " 'eft for stock options trading success  making better trades',\n",
              " 'learn to trade the stock market without blowing your profits',\n",
              " 'get a credit repair publication on amazon and live life',\n",
              " 'fundamentals of accounting',\n",
              " 'rsi options trading  technical analysis  course bundle',\n",
              " 'basics of mutual funds for ca  cma  cs  cfa exams',\n",
              " 'accounting  how to read an accounting balance sheet',\n",
              " 'stock options day trading mindset for success',\n",
              " 'introduction to bookkeeping and accounting',\n",
              " 'learn to trade the news',\n",
              " 'value investing taught by six superinvestors',\n",
              " 'trading for everyone  the independent investor course i',\n",
              " 'get acquired learn from the head of acquisitions for ebay',\n",
              " 'stock market investment practical accounting',\n",
              " 'how to remove risk from penny stocks  options trading',\n",
              " 'accounting basics in  minutes absolutely for beginners',\n",
              " 'tax accounting difficult topic made easy to understand',\n",
              " 'analysis of company financial statements',\n",
              " 'forex trading like banks  step by step with live examples',\n",
              " 'fundamentals of investing',\n",
              " 'bank financial management a comprehensive study',\n",
              " 'learn to trade forex and stocks from beginner to advanced',\n",
              " 'master technical analysis and chart reading skills bundle',\n",
              " 'naked put options trade covered call  poor man covered call',\n",
              " 'the ultimate guide to dividend  dividend growth investing',\n",
              " 'charting for beginners  technical analysis demystified',\n",
              " 'build a dcf valuation model',\n",
              " 'introductory financial accounting',\n",
              " 'introduction to cryptocurrencies and blockchain',\n",
              " 'trade pullback candlestick strategy  make consistent pips',\n",
              " 'accounting standards basics professional course level',\n",
              " 'use the magic multiple moving average forex trading system',\n",
              " 'quickbooks  training for newbies',\n",
              " 'trading psychology trading mindset mastery',\n",
              " 'option trading how to adjust deltaneutral strangles',\n",
              " 'profitable binary option trading strategy',\n",
              " 'tax strategy financial planning for beginners',\n",
              " 'accounting  simplified for you',\n",
              " 'project funding modelling for professionals',\n",
              " 'investing how i consistently beat the stock market',\n",
              " 'bookkeeping basics  understand the fundamentals',\n",
              " 'leasing  a comprehensive study professional course level',\n",
              " 'trading options for consistent returns options basics',\n",
              " 'technitrader leading hybrid indicator trading',\n",
              " 'financial modeling build a dcf equity valuation model',\n",
              " 'cryptoarbitrager bitcoin trading robot no mining',\n",
              " 'accounting is easy for beginners',\n",
              " 'non directional weekly options trading system  etf  emini',\n",
              " 'the complete position trading course position trading stock',\n",
              " 'master iron condors  double the credit for half the risk',\n",
              " 'basics of investing in mutual funds',\n",
              " 'a value investing approach to the stock market',\n",
              " 'learn how to invest for huge profits or make it big trading',\n",
              " 'how to fund your million dollar idea equity debt unfund',\n",
              " 'mastering candlestick charting  high probability trading',\n",
              " 'binary options course  level ',\n",
              " 'stock technical analysis with r',\n",
              " 'get to know the vix index aka the fear index',\n",
              " 'apply finance concepts for smart project management',\n",
              " 'introduction to futures trading and live trade demonstration',\n",
              " 'crowdfunding to win',\n",
              " 'comprehensive forex mastery program',\n",
              " 'preparation of consolidated financial statements basic',\n",
              " 'succeed in bonds even if you dont know where to start',\n",
              " 'learn to trade for profit ten most profitable trading rules',\n",
              " 'succeed in lotto even if you dont know where to start',\n",
              " 'cfa corporate finance level ',\n",
              " 'pin bars the most powerful forex trading signal',\n",
              " 'stock options trades using interactive brokers',\n",
              " 'introduction to options  strategies for consistent profits',\n",
              " 'risk in forex transactions  for ca  cs  cfa exams',\n",
              " 'basics of business statistics college level',\n",
              " 'trading seasonal price patterns in stocks futures  forex',\n",
              " 'interpreting financial statements',\n",
              " 'introduction to bookkeeping accounting',\n",
              " 'credit spread surgery  bear call and bull put mastery ',\n",
              " 'investment banking how to land a job on wall street',\n",
              " 'learn to invest in index funds and etfs in  easy steps',\n",
              " 'financial modeling build a multiples valuation model',\n",
              " 'trade recap i  a real look at futures options markets',\n",
              " 'advanced stock options for serious equity investors',\n",
              " 'trading binary options for fun and profit',\n",
              " 'cfa fast track your career in finance',\n",
              " 'how to be a profitable forex trader',\n",
              " 'excel dashboard  interactive excel dashboard and charts',\n",
              " 'accounting  learn business finance forecasting in mins',\n",
              " 'the securities trade lifecycle',\n",
              " 'double your forex account using the magic ma trading robot',\n",
              " 'technical analysis  how to profit during market crashes',\n",
              " 'advanced accounting for investment banking',\n",
              " 'investing in stocks with  simple rules',\n",
              " 'venture capital what is it and why it matters to you',\n",
              " 'cash flow valuation develop your financial literacy',\n",
              " 'directionindepend trading  elite forex traders  strategy',\n",
              " 'how to become a financial analyst from scratch',\n",
              " 'first steps to trading the forexmarkets  technical analysis',\n",
              " 'financial analysis compare performance of companies',\n",
              " 'forex for beginners easy forex trading for beginners',\n",
              " 'investment crowdfunding  aka equity crowdfunding',\n",
              " 'read financial statements like a pro',\n",
              " ' numbers every business owner should know',\n",
              " 'learn how to trade gold in ',\n",
              " 'ias   revenue',\n",
              " 'forex trading the high roi forex trading end of day course',\n",
              " 'fundraise the simplified way a crowdfunding blueprint',\n",
              " 'fundamentals of accounting for business owners',\n",
              " 'practical financial statement analysis',\n",
              " 'forex management  detailed study for ca  cs  cfa exams',\n",
              " 'financial statement review   how to find errors',\n",
              " 'professional risk manager prm certification level ',\n",
              " 'international tax   tax beyond boundaries',\n",
              " 'the complete financial statement analysis course',\n",
              " 'advanced excel functions',\n",
              " 'penny stocks value  chart pattern trading  course bundle',\n",
              " 'candlestick analysis for professional traders',\n",
              " 'build a career in forex trading learn fundamental analysis',\n",
              " 'financial modeling build a complete dcf valuation model',\n",
              " 'handson financial modeling with  excel templates',\n",
              " 'caiib advanced bank management part i',\n",
              " 'stock market investmentnon financial fundamental analysis',\n",
              " 'learn how to play cashflow game',\n",
              " 'basics of business finance',\n",
              " 'accounting made easy ',\n",
              " 'bitcoin el futuro del dinero hoy',\n",
              " 'aprende a invertir practicando',\n",
              " 'trading con retrocesos de fibonacci',\n",
              " 'mit finanzwissen zu besserem unternehmertum',\n",
              " 'como hacer empresa en  sesiones prcticas',\n",
              " '    ',\n",
              " '',\n",
              " 'curso de trading prctico basado en casos reales',\n",
              " 'curso avanzado de trading',\n",
              " ' ',\n",
              " 'mql tutorial golden goose',\n",
              " 'anlise de concesso de crdito',\n",
              " 'technical analysis using elliott wave theory',\n",
              " 'the basics of volume analysis',\n",
              " 'crash course on cost of capital and capital structuring',\n",
              " 'business accounting made easy',\n",
              " 'build a dcf model from scratch',\n",
              " 'multiply your returns using value investing',\n",
              " 'weekly forex analysis by baraq fx',\n",
              " 'technical analysis  a practical approach for trade entry',\n",
              " 'mastering technical analysis  maximizing trading profits',\n",
              " 'the complete guide to professional trading with elliott wave',\n",
              " 'a complete guide to becoming a trader on the forex market',\n",
              " 'stock market for beginners  complete starter toolkit',\n",
              " 'beginners binary options course',\n",
              " 'technical analysis  secrets of trading revealed',\n",
              " 'forex whats a trend and when it is strong and reliable',\n",
              " 'volatility trading analysis with r',\n",
              " 'how to profit from stock market volatility',\n",
              " 'awaken the accountant in you  master the accounting basics',\n",
              " 'we will pay you to trade with us',\n",
              " 'situational trading proven option strategy for any scenario',\n",
              " 'portfolio management for ca  cs  cfa exams',\n",
              " 'algorithmic trading in matlab wfatoolbox app gui finance',\n",
              " 'finding an unlimited amount of investors',\n",
              " 'bookkeeping made easy',\n",
              " 'bitcoin visually part i',\n",
              " 'learn and master the basics of finance',\n",
              " 'forex  learnto trade the improved  advanced  patterns',\n",
              " 'mastering the market  technical analysis  candlestick',\n",
              " 'mastering countertrend trading  high profit trading pattern',\n",
              " 'exam  review  managerial accounting u of h',\n",
              " ' an integrated approach to the fundamentals of accounting',\n",
              " 'get to grips with the cfa calculator',\n",
              " 'financial model fundamentalslearn the essential skills',\n",
              " 'forex economic news trading',\n",
              " 'analyze real estate investments  financial modeling',\n",
              " 'forex for beginners  a guide to currency trading',\n",
              " 'raise your credit score to  or more',\n",
              " 'financial management budgeting techniques',\n",
              " 'forex killing divergence  how to trade with precision',\n",
              " 'working capital management for ca  cfa  cpa exams',\n",
              " 'risk analysis  capital budgeting for ca  cs  cfa exams',\n",
              " 'corporate finance  financial statement analysis  ratios',\n",
              " 'mastering futures options for beginners  your top  plays',\n",
              " 'professional options trading simplified',\n",
              " 'advanced options concepts  probability greeks simulation',\n",
              " 'accounting basics  a complete study',\n",
              " 'case studies in macro economics',\n",
              " 'my forex strategy that win consistently over and over',\n",
              " 'understand banks  financial markets ',\n",
              " 'stock technical analysis with python',\n",
              " 'how to become an accountant from scratch',\n",
              " 'how to invest in gold',\n",
              " 'automate your finances',\n",
              " 'mba accounting and finance for managerspaper ms of ignou',\n",
              " 'accounting made easy a quick guide to financial accounting',\n",
              " 'futurescommodity training basics',\n",
              " 'cost accounting marginal costing theory and practice',\n",
              " 'the big volatility short the best trade on wall street',\n",
              " 'master finance in three hours',\n",
              " 'learn options on futures for hedging options and stocks',\n",
              " 'option selling trading as income source beginners friendly',\n",
              " 'introduction to value growth investing',\n",
              " 'become a forex trader  forex trading like a professional',\n",
              " 'hedge fund trading system',\n",
              " 'bulletproof personal finance expert asset allocation',\n",
              " 'financial accounting the complete introductory crash course',\n",
              " 'learn about trading options from a real wallstreet trader',\n",
              " 'forex rate why it fluctuates for ca  cma  cs  cfa exams',\n",
              " 'how to build a massive stock portfolio from zero',\n",
              " 'introductory forex trading course',\n",
              " 'budgeting hacks to build wealth',\n",
              " 'accounting and finance for bankers  a comprehensive study',\n",
              " 'forex prep academy for beginnersreal trades',\n",
              " 'accounting for deferred taxes professional course level',\n",
              " 'trading truths',\n",
              " 'the binary institute  introductory course in binary options',\n",
              " 'forex trading vs option trading',\n",
              " 'how to invest in stocks  billionaire investing tips',\n",
              " 'value investing for beginners',\n",
              " 'trading tactics',\n",
              " 'mql tutorial bootcamp  trading robot coding in metatrader',\n",
              " 'ultimate retirement build your own dynamic retirement plan',\n",
              " 'build a solid foundation for trading options',\n",
              " 'forex scam avoid the scam today',\n",
              " 'cost accounting crash course',\n",
              " 'option trading for rookies basic option strategies',\n",
              " 'business analysis  working with use cases',\n",
              " 'learn to raise the funds you need via crowdfunding',\n",
              " 'business finances',\n",
              " 'financial accounting  a brief introduction',\n",
              " 'trading economic indicators  complete trading system',\n",
              " 'foundation of options trading and investing',\n",
              " 'option trading  how to earn if you cant predict the market',\n",
              " 'the financial analyst skills training fast course ',\n",
              " 'covered calls  powerful income strategy for stock traders',\n",
              " 'accounting  simplified for you',\n",
              " 'value investing where white people keep their money',\n",
              " 'how to start investing made simple and easy',\n",
              " 'basics of commerce a complete study',\n",
              " 'the passive investing blueprint  build wealth passively',\n",
              " ' steps your introduction to trading',\n",
              " 'forex  elliott wave theory with fibonacci ',\n",
              " 'the actuarial profession basic sciences and principles',\n",
              " 'investing in stocks avoid stock market loss',\n",
              " 'quickbooks online complete guide  certification tips',\n",
              " 'build financial models  value companies the easy way',\n",
              " 'adventure capital how to pay off debt ',\n",
              " 'chart patterns trading demystified',\n",
              " 'financial planning  analysis building a companys budget',\n",
              " 'simple things you must know before start forex offer',\n",
              " 'practical finance',\n",
              " 'forex trading comprehensive  concise forex trading course',\n",
              " 'leaps options trading system  diagonal leaps options spread',\n",
              " 'finance  ratios analysis  interpretations',\n",
              " 'forex trading   learn to trade from scratch',\n",
              " 'technical analysis tools for stocks and options trading',\n",
              " 'quantitative trading analysis with r',\n",
              " 'penny stocks king how  really trade penny stocks  hours',\n",
              " 'get started with penny stocks step by step guide to trading',\n",
              " 'cpa  how to master affiliate marketing in no time',\n",
              " 'corporate internal controls and fraud controls',\n",
              " 'forex trading tactics that work',\n",
              " 'professional risk manager prm certification level ',\n",
              " 'trading options basics',\n",
              " 'practical trading on financial futures  options markets',\n",
              " 'bookkeeping made simple',\n",
              " 'the visual learning basic accounting course',\n",
              " 'chalktalk financial accounting',\n",
              " 'the  fundamentals to successful cashflow management',\n",
              " 'how to trade options',\n",
              " 'coaching courseinvestment analysis for your clients',\n",
              " 'harnessing the power of growth stocks',\n",
              " 'the investment banking recruitment series',\n",
              " 'business banking ',\n",
              " 'cfa level i workshop  financial reporting  analysis i ',\n",
              " 'breakout patterns workshop by pattern trader',\n",
              " 'asset protection using offshore companies',\n",
              " 'get credit for your ein thats not linked to your ssn',\n",
              " 'financial translation',\n",
              " 'how to pick stocks',\n",
              " 'binary beginners mastery strategy',\n",
              " 'accounting master class for understanding business',\n",
              " 'highfrequency trading  dark pools',\n",
              " 'how to crowdfund',\n",
              " 'financial statement fundamentals for small biz  investors',\n",
              " 'master the stock market with practice',\n",
              " 'introduction to trade theory technical analysis for stocks',\n",
              " 'forex trading for beginners technical trading',\n",
              " 'ias   accounting for income taxes basics',\n",
              " 'surpassing your kickstarter goals',\n",
              " 'simple linear regression analysis  a complete course ',\n",
              " 'forex learn to trade forex and fx consistently',\n",
              " 'trading highroi trading',\n",
              " 'fundraising ',\n",
              " 'professional bookkeeping  accounting   bank daybook',\n",
              " 'filing with companies house uk',\n",
              " 'build grow and protect your assets a stepbystep guide',\n",
              " 'the advantages of etf options and index options trading',\n",
              " 'learn to trade forex  from beginner to professional',\n",
              " 'investing in stocks for big gains fundamental investing',\n",
              " 'introduction to equity markets',\n",
              " 'beginners guide to ichimoku trading',\n",
              " 'financial management  ratio analysis',\n",
              " 'algotech hedge fund method for stock market trading',\n",
              " 'futurescommodity trading',\n",
              " 'complete claritas investment certificate',\n",
              " 'introduction to the economics of public services regulation',\n",
              " 'accounting standard   an analysis',\n",
              " 'essentials of money value get a financial life ',\n",
              " 'introduction to forex trading business for beginners',\n",
              " 'cryptocurrency btc  eth investment  trading course ',\n",
              " 'introduction to project management for finance and acctg',\n",
              " 'best practices in corporate budgeting',\n",
              " 'financial statement auditing cycles',\n",
              " 'case studies on credit appraisal for bankers',\n",
              " 'building a balanced scorecard',\n",
              " 'options trading foundation your journey to competency',\n",
              " 'forex how traders beat the markest with little experience',\n",
              " 'cfa level  quantitative methods',\n",
              " 'foundations of investing',\n",
              " 'capital market road map',\n",
              " 'trading k challenge',\n",
              " 'currencyfair  avoid bank charges when converting currencies',\n",
              " 'bitcoin  a comprehensive guide',\n",
              " 'forex trading',\n",
              " 'the true  secret sauce  for stock market success',\n",
              " 'bookkeeping to command senior bookkeeping wages',\n",
              " 'take your career to the next level with mba finance',\n",
              " 'how to read financial statements  build financial literacy',\n",
              " 'accounting books of accounts college level',\n",
              " 'forex trading profitably',\n",
              " 'learn how to trade pump and dumps  setups well explained',\n",
              " 'bitcoin trading ',\n",
              " 'visualizing data',\n",
              " 'ifrs financial reporting',\n",
              " 'forex trading system correlation eurgbp vs gbpusd',\n",
              " 'sap crystal reportsmasterdetailcrosstabsubreports',\n",
              " 'learn financial accounting different',\n",
              " 'cfa level i workshop  fixed income and equity',\n",
              " 'ias  provisions contingents liabilities  assets',\n",
              " 'what you should know to become a trader',\n",
              " 'financial reporting a comprehensive study',\n",
              " 'an abundance mindset how to craft yours',\n",
              " 'forex trading profit pa  trend is our friendalgotrend',\n",
              " 'how to build a massive retirement plan from scratch',\n",
              " 'financial modeling build a forward looking financial model',\n",
              " 'trading for beginners  entry level',\n",
              " 'bitcoin or how i learned to stop worrying and love crypto',\n",
              " 'trend following stocks a complete trading system',\n",
              " 'forex basics',\n",
              " 'accounting bank reconciliation statement college level',\n",
              " 'bitcoin  ethereum trading watch me manage my own account',\n",
              " 'forex  learn technical analysis',\n",
              " 'fasttrack to stock trading strategies',\n",
              " 'algorithmic futures trading  investing with no experience',\n",
              " 'succeed in forex even if you dont know where to start',\n",
              " 'hedge fund accounting and valuation',\n",
              " 'binary forex stock and bitcoin trading strategy',\n",
              " ' easy steps to investment and avoiding traps',\n",
              " 'ethereum course for investors',\n",
              " 'using xero for your bookkeeping needs  do beautiful business',\n",
              " 'capital market immersion',\n",
              " 'forex trading rsi indicatora secret weapon',\n",
              " 'trading mindset and three steps to profitable trading',\n",
              " 'professional bookkeeping  accounting trial balance  more',\n",
              " 'internal controls  design implementation and monitoring',\n",
              " 'forex online live trading system special offer',\n",
              " 'winning options trading system',\n",
              " 'learn the abcs of investing and understanding true financial value',\n",
              " 'how to invest in russian equity market',\n",
              " 'handle difficult questions the bank manager will ask you',\n",
              " 'credit control procedures',\n",
              " 'fmt forex market trader certificate',\n",
              " 'six stage negotiation',\n",
              " 'financial reporting  fundamentalsbasics',\n",
              " 'decide whether to invest in a business ',\n",
              " 'uk tax returns with hmrc',\n",
              " 'financial market environment  investment strategies',\n",
              " 'how to obtain a business loan',\n",
              " 'evolution and features of etfs',\n",
              " 'cost accounting operating costingprofessional course level',\n",
              " 'trade rsi breakout strategy great riskreward ratio forex',\n",
              " 'day trading strategy for all level with  success rate',\n",
              " 'accounting finance and banking  a comprehensive study',\n",
              " 'advanced technical analysis part',\n",
              " 'advanced financial management for ca  cs  cfa cpa exams',\n",
              " 'learn the foundations of stocks and options',\n",
              " 'forex trading masterclass  learn to trade better',\n",
              " 'introduction to accounting  analyzing financial statements',\n",
              " 'credit risk analysis',\n",
              " 'fund flow analysis for ca  cfa  cpa exams',\n",
              " 'python for trading  investing',\n",
              " 'stocks for beginners  a guide to investing',\n",
              " 'intro to impact investing',\n",
              " 'stock market  swing trading strategies for wall street',\n",
              " 'essential options strategies for mastering the stock market',\n",
              " 'the day trader learn to trade the stock market and forex',\n",
              " 'introduction to the world of equity finance',\n",
              " 'stock technical analysis with excel',\n",
              " 'beginners forex strategy',\n",
              " 'mortgage backed securities',\n",
              " 'the complete financial model builder coursebuild  models',\n",
              " 'fundamental financial math',\n",
              " 'equity swaps',\n",
              " 'proven methods in trading candlestick patterns',\n",
              " 'read financial statements as a stock investor',\n",
              " 'investing how to fix hidden flaws inside your portfolio',\n",
              " 'certificate program in financial accounting',\n",
              " 'trading biotech stocks  understanding the healthcare sector',\n",
              " 'indian contract act  must for all finance professionals',\n",
              " 'fundraising success the art  science of major gifts',\n",
              " 'smart trading techniques for safe  consistent weekly result',\n",
              " 'technical trading and investing made easy',\n",
              " 'budgeting for business',\n",
              " 'complete guide to business loans',\n",
              " 'hot trading investing strategy etf and futures',\n",
              " 'financial management  a complete study',\n",
              " 'mql programming for traders build robust trading robots',\n",
              " 'ultimate stock market investing learn how to value stocks',\n",
              " 'collection of advanced options concepts for options traders',\n",
              " 'no bull investing investing  for financial freedom',\n",
              " 'financial modeling  build your own  statement projection',\n",
              " 'small business owners drive a productive business and grow',\n",
              " 'successful day trading with fibonacci',\n",
              " 'short straddles  exploit earnings option volatility crush',\n",
              " 'bitcoin for beginners your quick start guide to bitcoin',\n",
              " 'technical analysis  ten primary candlestick reversals',\n",
              " 'financial analysis  a recipe for success',\n",
              " 'basics of fixed income valuation cfa level i  prep',\n",
              " 'intro to financial statement audits',\n",
              " 'how to get growing passive income from the fortune ',\n",
              " 'managing budgets in the public and non profit sector',\n",
              " 'system of asset management for professionals samp',\n",
              " 'how to invest in forex trading  add an additional income',\n",
              " 'tax made simple for limited company owners and contractors',\n",
              " 'introduction to the  pillars for accountants',\n",
              " 'fx trading for beginners',\n",
              " 'write a successful business grant proposal',\n",
              " 'a guide to trade binary options like an expert',\n",
              " 'ratio analysis for bankers and credit analysts',\n",
              " 'numbers for the  business plan',\n",
              " 'dash crypto currency technical and trading overview bootcamp',\n",
              " '  concepts of statistics for beginners step by step',\n",
              " ' ordinary simple annuities the basics',\n",
              " '      ',\n",
              " 'financial risk manager frm certification level ii',\n",
              " 'level   cfa program  corporate finance',\n",
              " ' compound interest ',\n",
              " ' amortization schedules',\n",
              " 'finance fundamentals for non finance leaders',\n",
              " 'strategy layout and backtesting',\n",
              " 'easy forex and futures trading',\n",
              " 'finanzas y anlisis financiero manejo seguro de negocios',\n",
              " 'aprende a hacer paper trading simulacin con ninja trader',\n",
              " 'trading mit kleinen konten  grundlagen die du kennen musst',\n",
              " 'entiende la contabilidad y consigue un aumento de salario',\n",
              " 'trade for profit findtrade stocks successfully arabic ',\n",
              " 'trading forex   lanalyse des volumes',\n",
              " 'disminuye deudas en tu hogar en menos de  das',\n",
              " 'cpa  completo',\n",
              " 'trading intradiario basado en precio y volumen',\n",
              " 'aprenda clculo financeiro de forma simples',\n",
              " 'wie funktionieren bitcoin ein einfhrungskurs',\n",
              " 'estruturao financeira',\n",
              " 'five steps to becoming a winner in stock investing',\n",
              " 'financial accounting plus excel and sap crash course',\n",
              " 'introduction to financial consolidation under ifrs',\n",
              " 'how to read a profit  loss account and balance sheet',\n",
              " 'learn bookkeeping from scratch',\n",
              " 'acca ma management information',\n",
              " 'introduction to bitcoin for beginners',\n",
              " 'stock tradingultimate guide to swing trading stocks',\n",
              " 'bookkeeping systems',\n",
              " 'precious metal equities',\n",
              " 'start now a rescue plan for retirement late savers',\n",
              " 'eu funding module   introduction to horizon ',\n",
              " 'how i make money writing about stocks online',\n",
              " 'tradeonomics  four steps to mastering economic indicators',\n",
              " 'improve your financial literacy',\n",
              " 'forex trading  power of moving averages',\n",
              " 'demystifying your personal tax return',\n",
              " 'samuel and co trading  stock  forex trading',\n",
              " 'accounting departments tips  tricks  beginner to advanced',\n",
              " 'certificate program in management accounting',\n",
              " 'how i trade forex successfully',\n",
              " 'professional trading with institutional supply  demand',\n",
              " 'master calendar spreads with this live trade on gold gld',\n",
              " 'accounting  guide to business accounting',\n",
              " 'an introduction to financial markets on wall street',\n",
              " 'win  of trades quantitative investments models in excel',\n",
              " 'the forex pivot points trading strategy',\n",
              " 'your business by the numbers',\n",
              " 'forex  trade gartley with precision  complete strategy',\n",
              " 'bitcoin  ethereum course  course bundle',\n",
              " 'create trading robot without coding skills',\n",
              " 'accounting and the triple bottom line',\n",
              " 'mql  beginner to expert',\n",
              " 'how to be a high performance insurance broker part ',\n",
              " 'cfa level i workshop  corp finance quants ii  derivative',\n",
              " 'xero bookkeeping course  certification by accounting firm',\n",
              " 'trading news using binary options',\n",
              " 'trading trends in any market',\n",
              " 'financial statements analysis learn to invest like a pro',\n",
              " 'contango vxx  etf options trading  double your investment',\n",
              " 'mergers and acquisitions ma essentials you need to know',\n",
              " 'trading market map',\n",
              " 'how to confidently join the bitcoin revolution',\n",
              " 'high probability trading across any market stocks  forex',\n",
              " 'option trading for rookies make  manage profitable trades',\n",
              " 'your first successful forex trades  with case studies',\n",
              " 'mca accountancy and financial management paper mcs  ignou',\n",
              " 'highfrequency trading  basics history  strategies',\n",
              " 'financial accounting  the ultimate beginner course',\n",
              " 'level   cfa program  derivatives',\n",
              " 'the complete investing guide how to beat wall street',\n",
              " 'bitcoins  past present future',\n",
              " 'learn accounting by specific examples  part ',\n",
              " 'forex presentation and  analysis fundamental  technical',\n",
              " 'yearend quickbooks procedures',\n",
              " 'price action gap trading strategies',\n",
              " 'how to start a successful career in finance',\n",
              " 'level   cfa program  equity investments',\n",
              " 'wealth management',\n",
              " 'basics of private equity',\n",
              " 'curso completo del mercado forex',\n",
              " 'como investir em aes para iniciantes',\n",
              " 'robots de forex espere ganar pa incluye robot de fx ',\n",
              " '',\n",
              " 'matemtica financeira de um jeito fcil',\n",
              " '',\n",
              " 'trading forex  trader avec les figures harmoniques',\n",
              " '   ',\n",
              " 'aprenda a investir no tesouro direto passo a passo',\n",
              " '',\n",
              " 'aprende a invertir y deja que tu dinero trabaje para ti',\n",
              " 'buchfhrung lernen leicht gemacht',\n",
              " 'day trading high roi day trading ',\n",
              " 'flow management and forecasting',\n",
              " 'an introduction to management of portfolios mop',\n",
              " 'cfa level i workshop  ethics and quantitative methods',\n",
              " 'accounting basics  for understanding business',\n",
              " 'mortgage acceleration',\n",
              " 'stock market for beginners learn to trade',\n",
              " 'cfa corporate finance level  part ',\n",
              " 'trading tips from hedge fund manager',\n",
              " 'effective debt collection strategies',\n",
              " 'ias presentation of financial statements ',\n",
              " 'stock trading strategies using a dart',\n",
              " 'capital structuring techiques for ca  cfa  cpa exams',\n",
              " 'the complete guide to forex trading',\n",
              " 'learn how to trade binary options professionally',\n",
              " 'learn how to start small and make it big in smallcap stocks',\n",
              " 'trading strategies with common sense technical analysis',\n",
              " 'startup business how to raise seed capital',\n",
              " 'business economics  basics college level',\n",
              " 'technical analysis  master the basics of trading',\n",
              " 'investing in stocks master the art of covered calls selling',\n",
              " 'how to trade binary options effectively  all levels',\n",
              " 'stock market the zero risk way of investing',\n",
              " 'forex trading using professional indicators by top traders',\n",
              " 'corporate finance  equity valuation',\n",
              " 'trading strategies find the trading strategy that fits you',\n",
              " 'forex trading  learn an effective forex trading strategy',\n",
              " 'navigate the k and other financial reports',\n",
              " 'from  to  investments and portfolio theory',\n",
              " 'bitcoin  the complete guide',\n",
              " 'professional traders mindset  complete forex course',\n",
              " 'bitcoin peer investing how to generate double digit returns',\n",
              " 'forex breakout profits the definitive guide',\n",
              " 'learn to trade with fibonacci tools',\n",
              " 'investing internationally into real estate stocks and bonds',\n",
              " 'from  to  bond theory and valuation',\n",
              " 'stock market mastery',\n",
              " 'uk self assessment tax return filing online',\n",
              " 'introduction to financial statements',\n",
              " 'ias accounting policies changes in accounting estimates',\n",
              " 'cfa level    financial reporting and analysis',\n",
              " 'investment banking operations  securities trade life cycle',\n",
              " 'cfa level i foundation course introduction to quants',\n",
              " 'financial risk manager frm certification level i',\n",
              " 'ias   events after reporting date',\n",
              " 'investment portfolio analysis with excel',\n",
              " 'introduction to the cfa program',\n",
              " 'chartered financial analyst cfa  level   fra',\n",
              " 'excel  accounting  bookkeeping  master lookup functions',\n",
              " 'cashflow management for small businesses a how to guide',\n",
              " 'forex basics professional course level',\n",
              " 'advanced butterfly spreads for options income strategies',\n",
              " 'the holy grail of auto trading forex futures stocks revealed',\n",
              " 'ipo fundamentals',\n",
              " 'finance for nonfinance learn quick and easy',\n",
              " 'advanced options trading course',\n",
              " 'statistics  measures of dispersion for ca  cs  cfa exams',\n",
              " 'work from home online partfull  trade forex  beginners',\n",
              " 'financial ratios using excel',\n",
              " 'how to start trading penny stocks in  easy steps ',\n",
              " 'how to copy the best traders on etoro',\n",
              " 'how to set up a limited company in the uk',\n",
              " 'forex trading made simple',\n",
              " 'financial and business simulation with microsoft excel',\n",
              " '  bonds and bond pricing',\n",
              " 'professional risk manager prm certification level ',\n",
              " 'stocks quick method to get started investing',\n",
              " 'the fundamentals of finance for nonfinance professionals',\n",
              " 'forex  top equity management strategy',\n",
              " 'the truths about insecure retirement',\n",
              " 'learn how to file taxes for uber and lyft drivers',\n",
              " 'learn the basics of the wave principle',\n",
              " 'masterclassjapanese   heiken ashi candlestick patterns',\n",
              " 'start trading stocks using technical analysis part ',\n",
              " 'introduction to corporate finance mergers  acquisitions',\n",
              " 'forex  financial market trading tutorial online strategies',\n",
              " 'learn to trade candlestick patterns',\n",
              " 'highfrequency trading  market structure  instruments',\n",
              " 'the art of financial valuation with certificate',\n",
              " 'sensitivity  scenario analysis for ca  cfa  cpa exams',\n",
              " 'economics   competition elasticity a little game theory',\n",
              " 'quantitative trading analysis with python',\n",
              " 'invest like a pro',\n",
              " 'options trading essentials the ultimate guides',\n",
              " 'acca fa recording financial transactions',\n",
              " 'cfa level    portfolio management',\n",
              " 'essentials of swing trading stocks',\n",
              " 'small business and managerial accounting training tutorial',\n",
              " 'use crowdfunding effectively with indiegogo and kickstarter',\n",
              " 'the complete litecoin crypto currency bootcamp',\n",
              " 'bank reconciliation  vat on excel',\n",
              " 'commodity futures day trading strategies',\n",
              " 'learn to invest in the stock market',\n",
              " 'fx commodity chart trading patterns for success',\n",
              " 'forex elite trading',\n",
              " 'how to invest in startups  expert reveals winning secrets',\n",
              " 'kickstarter success in  easy steps',\n",
              " 'understanding financial statements',\n",
              " 'planning and executing a financial statement audit',\n",
              " 'the latest updates  financial accounting standards board',\n",
              " 'how to achieve personal transformation',\n",
              " 'basic bookkeeping',\n",
              " 'credit concepts and checklist for bankers credit analyst',\n",
              " 'practical film financing finding  pitching investors',\n",
              " 'ratio analysis for financial statements',\n",
              " ' minutes to fundamental accounting skills',\n",
              " 'essentials of money value get a financial life ',\n",
              " 'introduction to forex trading business for beginners',\n",
              " 'backspreads diagonals and butterflies  advanced strategies',\n",
              " 'trade forex  patterns  golden ratios secret revealed',\n",
              " 'crystal ball trading  foresee price with seasonal patterns',\n",
              " 'weekly options and study of options expiration dynamics',\n",
              " 'cost accounting basics professional course level',\n",
              " 'learn to reliably invest in the stock market',\n",
              " 'hedge fund trading systems part two  stocks  etfs',\n",
              " 'stock market option trading how sell options for premium',\n",
              " 'straddles and strangles  volatility moves in any direction',\n",
              " 'debt collection management get paid on time every time',\n",
              " 'learn about it',\n",
              " 'trading basics of trading for beginners',\n",
              " 'options spreads bundle  the heart of options trading',\n",
              " 'trade the news in forex ea robot included',\n",
              " 'investment portfolio analysis with r',\n",
              " 'basics of economics for beginners a to z  a complete course',\n",
              " 'seeing the big picture understanding financial statements',\n",
              " 'financial modeling for professionals in  day',\n",
              " 'create your own automated stock trading robot in excel',\n",
              " 'forex from zero to hero',\n",
              " 'learn call options and put options  introduction to options',\n",
              " ' principles of simple interest ',\n",
              " 'double entry bookkeeping',\n",
              " 'mql tutorial bootcamp',\n",
              " 'succeed at options even if you dont know where to start',\n",
              " 'buying selling and storing precious metal',\n",
              " 'accounting skills for managers',\n",
              " 'analysis and evaluation of economic feasibility of projects',\n",
              " 'technical analysis understanding price action',\n",
              " 'bitcoin for beginners',\n",
              " 'ias propertyplant and equipment ',\n",
              " 'basel ii',\n",
              " 'forex trading plan',\n",
              " 'financial modeling ',\n",
              " 'learn financial modeling from scratch  part',\n",
              " 'introduction to small business accounting training tutorial',\n",
              " 'learn basic concepts of economics step by step  complete',\n",
              " 'introduction to digital payments ',\n",
              " 'the beginners guide to the futures and options trading',\n",
              " 'bitcoin investing the complete buy  hold strategy',\n",
              " 'financial modeling in excel for startups',\n",
              " 'learn to trade forex naked price action big shadow trade',\n",
              " 'forex trading for beginners ',\n",
              " 'build a trading comps valuation model',\n",
              " 'the advanced forex course for smart traders',\n",
              " 'cost accounting overheads professional course level',\n",
              " 'beginners guide to stock market investing',\n",
              " 'financial management capital market instruments',\n",
              " 'npv and irr techniques for ca  cfa  cpa exams',\n",
              " 'commercial credit analysis',\n",
              " 'essential finance for managers',\n",
              " 'bitcoin for accountants',\n",
              " 'protrader   advanced technical analysis',\n",
              " 'binary options masterclass',\n",
              " ' profit in year  forex algo robot trading no indicator',\n",
              " 'financial accounting its cycle statements  analysis',\n",
              " 'yield curve dynamics',\n",
              " 'value investing and stock market fundamentals',\n",
              " 'media training for financial service professionals',\n",
              " 'learn the forex naked price action pogo trade',\n",
              " 'forex  price action reversal strategy',\n",
              " 'budget preparation for an eu project proposal',\n",
              " 'corporate finance and alternative investment for cfa l',\n",
              " 'dont let your customers run your business',\n",
              " 'stock trading insider tips for determining market direction',\n",
              " 'toptrader academy  complete options course',\n",
              " 'working capital management for entrepreneurs',\n",
              " 'learn quickbooks to maintain books properly',\n",
              " 'cfa level i foundation introduction to financial reporting',\n",
              " 'fixed income valuation and analysis cfa l',\n",
              " 'corporation tax returns uk',\n",
              " 'trading for busy people',\n",
              " 'basics of trading',\n",
              " 'cfp  introduction to financial planning',\n",
              " 'investment portfolio analysis with python',\n",
              " 'day trading market structure signals',\n",
              " 'professional bookkeeping and accounting  double entry ',\n",
              " 'accounting basics by hector garcia cpa',\n",
              " 'stock markets how i became rich by changing how i trade',\n",
              " 'learn about bitcoin and bitcoin mining',\n",
              " 'take control by learning the stock market now',\n",
              " 'cost accounting and financial management  a complete study',\n",
              " 'learn global macro trading  investing for retail investor',\n",
              " 'energiesparformel  mehr geld durch wasser sparen zuhause',\n",
              " 'high swing        ',\n",
              " 'trader bot introduo  linguagem mql',\n",
              " '',\n",
              " 'aprende desde cero a operar el mercado de divisas forex',\n",
              " 'cmo usar metatrader  para hacer trading',\n",
              " 'zoho books gestion financire dentreprise pas  pas',\n",
              " 'aprende a llevar la contabilidad de forma informatizada',\n",
              " 'psicologa del trading',\n",
              " 'la costruzione del budget di una proposta comunitaria',\n",
              " 'erfolgreich als signalgeberin per social und copytrading',\n",
              " 'aprenda  a investir',\n",
              " 'teetertotter accounting',\n",
              " 'beginning accounting',\n",
              " 'stop creditors from harassing you and avoid bankruptcy',\n",
              " 'learn to trade using technical analysis',\n",
              " 'how to invest using etfs from former wall street trader',\n",
              " 'workshop on banking credit analysis process',\n",
              " 'the cuckoo strategy to get european funding',\n",
              " 'accounting  the  most important rules you must learn',\n",
              " 'mutual funds for investors in retirement accounts',\n",
              " 'free ways to create passive income online',\n",
              " 'understanding financial statements',\n",
              " 'the cash flow statement  an introduction',\n",
              " 'options foundation  time decay implied volatility greeks',\n",
              " 'buying call and put options  options beginner strategies',\n",
              " 'how to trade rsi pullback strategy entry to exit forex',\n",
              " 'valuation of goodwill for ca  cfa  cma exams',\n",
              " 'forex  catch the big market moves in forex',\n",
              " 'season  mql tutorial bootcamp  metatrader trading robots',\n",
              " 'intermediate accounting  easy fast simple',\n",
              " 'global macro investing  take control of the worlds markets',\n",
              " 'how to read a balance sheet',\n",
              " 'credit repair from a financial institution',\n",
              " 'the binary institute   binary options trading course',\n",
              " 'mental models for wall street  become a better trader',\n",
              " '',\n",
              " 'matemtica financeira com hpc e ms excel',\n",
              " 'triunfar en la bolsa de valores no requiere de experiencia',\n",
              " 'cmo crear polticas contables bajo niif para pymes',\n",
              " 'finanzas personales para vivir libre de deudas',\n",
              " 'finanzas personales logrando la libertad financiera',\n",
              " '',\n",
              " 'aktiver vermgensaufbau mit etf',\n",
              " 'socorro preciso organizar as minhas finanas',\n",
              " 'curso completo de opciones binarias estrategias  acierto',\n",
              " 'le basi del trading',\n",
              " '',\n",
              " 'profit and loss account for bankers and credit analysts',\n",
              " 'business accounts for managers',\n",
              " 'black scholes option pricing model',\n",
              " 'chief wealth officer',\n",
              " 'practical accounts training a',\n",
              " 'international trade and new geographic economy',\n",
              " ' principles of simple interest  advanced problems',\n",
              " 'school of raising capital agile financial modeling',\n",
              " 'how to read financial statements',\n",
              " 'intro to assetbacked securities cfa level i   prep',\n",
              " 'reach your personal financial goals the easy way  uk',\n",
              " 'bitesize bookkeeping for busy people',\n",
              " 'do your own accounts',\n",
              " 'cfa level   derivatives',\n",
              " 'accounting for everyone ',\n",
              " 'stock fundamental analysis with excel',\n",
              " 'financial accounting for beginners',\n",
              " 'trading how transformative learning drives expertise',\n",
              " 'manual bookkeeping',\n",
              " 'numeracy skills in business and everyday lifethink and deal',\n",
              " 'financial modelling in excel step by step',\n",
              " 'straight from business school create financial statements',\n",
              " 'how to pay less tax uk version',\n",
              " 'interpreting financial statements',\n",
              " 'forex trading with binary options',\n",
              " 'triple p trading course',\n",
              " 'cost accounting  a comprehensive study',\n",
              " 'how to become a successful day trader',\n",
              " 'essentials of finance and investment in  hours',\n",
              " 'public speaking you can give great financial presentations',\n",
              " 'professional trading  consistent profits with low risk',\n",
              " 'trading for winning',\n",
              " 'succeed in stocks even if you dont know where to start',\n",
              " 'options basics  trading with small capital  level ',\n",
              " 'forex trading basic to advance professional level course',\n",
              " 'day trading in stocks strategies for beginner investors',\n",
              " 'learn to trade forex big uturn trade',\n",
              " 'technical analysis primer for trading stocks bonds  forex',\n",
              " 'diy reduce unpaid federal tax thru  irs offer in compromise',\n",
              " 'stock trading with this strategy',\n",
              " 'the psychology of trading',\n",
              " 'professional forex strategy weeks for free trading alerts',\n",
              " 'stock trading essentials for day traders',\n",
              " 'basics of finance and budgeting',\n",
              " 'portfolio management cfa l ',\n",
              " 'trade stocks forex  financial markets like a professional',\n",
              " 'the tax advantaged investor a guide to legal tax reduction',\n",
              " 'the smart option trader',\n",
              " 'beginners chart patterns trading for penny stocks',\n",
              " 'financial statements learn accounting unlock the numbers',\n",
              " 'cfa level    alternative investments',\n",
              " 'interest rate swaps',\n",
              " 'financial modelling for entrepreneurs',\n",
              " 'economics  cfa level   ',\n",
              " 'bookkeeping made simple',\n",
              " 'what is bitcoin',\n",
              " 'accounting for ca cpt exams part i',\n",
              " 'raising capital for your business',\n",
              " 'silver gold and inflation',\n",
              " 'accounting concepts for technocrats',\n",
              " 'beginner financial analysis invest like warren buffett',\n",
              " 'advance technical analysis',\n",
              " 'the everyday investor building wealth with venture capital',\n",
              " 'quickbooks online  inventory management for nonfinance',\n",
              " 'law matters',\n",
              " 'learn to trade for profit finding winning stocks  chinese',\n",
              " 'financial accounting part   passing the class',\n",
              " 'simple options trading system',\n",
              " 'investments and financial markets',\n",
              " 'legal accounting',\n",
              " 'term loan appraisal for bankers credit analysts',\n",
              " 'small biz doers guide to small biz accounting  bookkeeping',\n",
              " 'trade show samurai',\n",
              " 'forex harmonic trading with multiple forex chart examples',\n",
              " 'the cost of capital the key to attract venture capitalists',\n",
              " 'accounting for school students',\n",
              " 'learn to trade the forex naked price action acapulco trade',\n",
              " 'certificate in myob accountright premier  course',\n",
              " 'master the psychology of forex  binary options trading',\n",
              " ...]"
            ]
          },
          "metadata": {},
          "execution_count": 36
        }
      ]
    },
    {
      "cell_type": "code",
      "source": [
        "single_text = \" \".join(corpus)"
      ],
      "metadata": {
        "id": "4chAeJTP18bC"
      },
      "execution_count": 37,
      "outputs": []
    },
    {
      "cell_type": "markdown",
      "source": [
        "Here we are joining all corpus into a sinle text"
      ],
      "metadata": {
        "id": "UpQFDIwGLx13"
      }
    },
    {
      "cell_type": "code",
      "source": [
        "tokens = re.findall(\"\\w+\",single_text)"
      ],
      "metadata": {
        "id": "26Dw3z0R2A39"
      },
      "execution_count": 38,
      "outputs": []
    },
    {
      "cell_type": "markdown",
      "source": [
        "\n",
        "1.   **We are generating tokens without any stopwords.**\n",
        "2.   **Stopwords are the most common words in any natural language. For the purpose of analyzing text data and building NLP models, these stopwords might not add much value to the meaning of the document.**\n",
        "\n"
      ],
      "metadata": {
        "id": "70D9pyg7L4Wv"
      }
    },
    {
      "cell_type": "code",
      "source": [
        "tokens_no_stopwords = [x for x in tokens if x not in STOPWORDS]\n",
        "tokens_no_stopwords[:20]"
      ],
      "metadata": {
        "colab": {
          "base_uri": "https://localhost:8080/"
        },
        "id": "h1lU794b2A7d",
        "outputId": "85c632cc-508f-4124-b66d-3b78b19a9a15"
      },
      "execution_count": 39,
      "outputs": [
        {
          "output_type": "execute_result",
          "data": {
            "text/plain": [
              "['ultimate',\n",
              " 'investment',\n",
              " 'banking',\n",
              " 'course',\n",
              " 'complete',\n",
              " 'gst',\n",
              " 'course',\n",
              " 'certification',\n",
              " 'grow',\n",
              " 'ca',\n",
              " 'practice',\n",
              " 'financial',\n",
              " 'modeling',\n",
              " 'business',\n",
              " 'analysts',\n",
              " 'consultants',\n",
              " 'beginner',\n",
              " 'pro',\n",
              " 'financial',\n",
              " 'analysis']"
            ]
          },
          "metadata": {},
          "execution_count": 39
        }
      ]
    },
    {
      "cell_type": "code",
      "source": [
        "wc = WordCloud(width=800, height=600, stopwords=STOPWORDS)"
      ],
      "metadata": {
        "id": "pkUcGGSG2JCp"
      },
      "execution_count": 40,
      "outputs": []
    },
    {
      "cell_type": "markdown",
      "source": [
        "Created a wordcloud instances"
      ],
      "metadata": {
        "id": "gJic5F2FMcv-"
      }
    },
    {
      "cell_type": "code",
      "source": [
        "import matplotlib.pyplot as plt\n",
        "%matplotlib inline"
      ],
      "metadata": {
        "id": "ddqdO12r2JGR"
      },
      "execution_count": 41,
      "outputs": []
    },
    {
      "cell_type": "code",
      "source": [
        "plt.figure(figsize=(12,8))\n",
        "plt.imshow(wc.generate_from_text(single_text))"
      ],
      "metadata": {
        "colab": {
          "base_uri": "https://localhost:8080/",
          "height": 504
        },
        "id": "XHplDNvL18d2",
        "outputId": "0bcf9f43-8f48-4a74-953d-fe8c0184d200"
      },
      "execution_count": 42,
      "outputs": [
        {
          "output_type": "execute_result",
          "data": {
            "text/plain": [
              "<matplotlib.image.AxesImage at 0x7fc0dcdafe90>"
            ]
          },
          "metadata": {},
          "execution_count": 42
        },
        {
          "output_type": "display_data",
          "data": {
            "image/png": "[encoded data removed]",
            "text/plain": [
              "<Figure size 864x576 with 1 Axes>"
            ]
          },
          "metadata": {
            "needs_background": "light"
          }
        }
      ]
    },
    {
      "cell_type": "markdown",
      "source": [
        "**We can see the Beginner, trading, photoshop, javascript etc are having high dominancy**"
      ],
      "metadata": {
        "id": "0zEN1zpnMi1u"
      }
    },
    {
      "cell_type": "markdown",
      "source": [
        "And the same statement can be proof belowed"
      ],
      "metadata": {
        "id": "oxRugF3hM4H9"
      }
    },
    {
      "cell_type": "code",
      "source": [
        "from collections import Counter"
      ],
      "metadata": {
        "id": "Mgfih04j2QD4"
      },
      "execution_count": 43,
      "outputs": []
    },
    {
      "cell_type": "code",
      "source": [
        "C = Counter(tokens_no_stopwords)\n",
        "C.most_common(20)"
      ],
      "metadata": {
        "colab": {
          "base_uri": "https://localhost:8080/"
        },
        "id": "stFbFWve2QGi",
        "outputId": "bb1333eb-f353-4bdd-da63-1d982ce0ad4c"
      },
      "execution_count": 44,
      "outputs": [
        {
          "output_type": "execute_result",
          "data": {
            "text/plain": [
              "[('learn', 508),\n",
              " ('trading', 314),\n",
              " ('beginners', 301),\n",
              " ('course', 245),\n",
              " ('web', 222),\n",
              " ('guitar', 222),\n",
              " ('design', 203),\n",
              " ('piano', 195),\n",
              " ('complete', 187),\n",
              " ('html', 184),\n",
              " ('forex', 173),\n",
              " ('photoshop', 173),\n",
              " ('build', 172),\n",
              " ('create', 162),\n",
              " ('play', 159),\n",
              " ('javascript', 150),\n",
              " ('financial', 146),\n",
              " ('wordpress', 138),\n",
              " ('css', 135),\n",
              " ('website', 129)]"
            ]
          },
          "metadata": {},
          "execution_count": 44
        }
      ]
    },
    {
      "cell_type": "code",
      "source": [
        "most_fre_words = {k:v for k,v in C.most_common(150)}\n",
        "plt.imshow(wc.generate_from_frequencies(most_fre_words))"
      ],
      "metadata": {
        "colab": {
          "base_uri": "https://localhost:8080/",
          "height": 287
        },
        "id": "M0ZGb2hR18ha",
        "outputId": "f9c83824-ecbe-4520-c531-85ab1b045f7e"
      },
      "execution_count": 45,
      "outputs": [
        {
          "output_type": "execute_result",
          "data": {
            "text/plain": [
              "<matplotlib.image.AxesImage at 0x7fc0dce46950>"
            ]
          },
          "metadata": {},
          "execution_count": 45
        },
        {
          "output_type": "display_data",
          "data": {
            "image/png": "[encoded data removed]",
            "text/plain": [
              "<Figure size 432x288 with 1 Axes>"
            ]
          },
          "metadata": {
            "needs_background": "light"
          }
        }
      ]
    },
    {
      "cell_type": "markdown",
      "source": [
        "Wordclouud on the basis of most common"
      ],
      "metadata": {
        "id": "IzH1xK1MM-Ip"
      }
    },
    {
      "cell_type": "code",
      "source": [
        "data.describe()"
      ],
      "metadata": {
        "colab": {
          "base_uri": "https://localhost:8080/",
          "height": 300
        },
        "id": "_gnGCfrZvZ6s",
        "outputId": "ae2cafba-a848-4ad3-fdde-553d5e93edbd"
      },
      "execution_count": 46,
      "outputs": [
        {
          "output_type": "execute_result",
          "data": {
            "text/html": [
              "\n",
              "  <div id=\"df-cb865e57-fb25-401d-83ac-96ee4cfb9679\">\n",
              "    <div class=\"colab-df-container\">\n",
              "      <div>\n",
              "<style scoped>\n",
              "    .dataframe tbody tr th:only-of-type {\n",
              "        vertical-align: middle;\n",
              "    }\n",
              "\n",
              "    .dataframe tbody tr th {\n",
              "        vertical-align: top;\n",
              "    }\n",
              "\n",
              "    .dataframe thead th {\n",
              "        text-align: right;\n",
              "    }\n",
              "</style>\n",
              "<table border=\"1\" class=\"dataframe\">\n",
              "  <thead>\n",
              "    <tr style=\"text-align: right;\">\n",
              "      <th></th>\n",
              "      <th>course_id</th>\n",
              "      <th>price</th>\n",
              "      <th>num_subscribers</th>\n",
              "      <th>num_reviews</th>\n",
              "      <th>num_lectures</th>\n",
              "      <th>year</th>\n",
              "    </tr>\n",
              "  </thead>\n",
              "  <tbody>\n",
              "    <tr>\n",
              "      <th>count</th>\n",
              "      <td>3.683000e+03</td>\n",
              "      <td>3683.000000</td>\n",
              "      <td>3683.000000</td>\n",
              "      <td>3683.000000</td>\n",
              "      <td>3683.00000</td>\n",
              "      <td>3683.000000</td>\n",
              "    </tr>\n",
              "    <tr>\n",
              "      <th>mean</th>\n",
              "      <td>6.756596e+05</td>\n",
              "      <td>66.023622</td>\n",
              "      <td>3194.087972</td>\n",
              "      <td>156.063535</td>\n",
              "      <td>40.10372</td>\n",
              "      <td>2015.430084</td>\n",
              "    </tr>\n",
              "    <tr>\n",
              "      <th>std</th>\n",
              "      <td>3.433124e+05</td>\n",
              "      <td>60.982453</td>\n",
              "      <td>9498.061750</td>\n",
              "      <td>934.831762</td>\n",
              "      <td>50.35502</td>\n",
              "      <td>1.185274</td>\n",
              "    </tr>\n",
              "    <tr>\n",
              "      <th>min</th>\n",
              "      <td>8.324000e+03</td>\n",
              "      <td>0.000000</td>\n",
              "      <td>0.000000</td>\n",
              "      <td>0.000000</td>\n",
              "      <td>0.00000</td>\n",
              "      <td>2011.000000</td>\n",
              "    </tr>\n",
              "    <tr>\n",
              "      <th>25%</th>\n",
              "      <td>4.068710e+05</td>\n",
              "      <td>20.000000</td>\n",
              "      <td>111.000000</td>\n",
              "      <td>4.000000</td>\n",
              "      <td>15.00000</td>\n",
              "      <td>2015.000000</td>\n",
              "    </tr>\n",
              "    <tr>\n",
              "      <th>50%</th>\n",
              "      <td>6.876420e+05</td>\n",
              "      <td>45.000000</td>\n",
              "      <td>912.000000</td>\n",
              "      <td>18.000000</td>\n",
              "      <td>25.00000</td>\n",
              "      <td>2016.000000</td>\n",
              "    </tr>\n",
              "    <tr>\n",
              "      <th>75%</th>\n",
              "      <td>9.608420e+05</td>\n",
              "      <td>95.000000</td>\n",
              "      <td>2537.500000</td>\n",
              "      <td>67.000000</td>\n",
              "      <td>46.00000</td>\n",
              "      <td>2016.000000</td>\n",
              "    </tr>\n",
              "    <tr>\n",
              "      <th>max</th>\n",
              "      <td>1.282064e+06</td>\n",
              "      <td>200.000000</td>\n",
              "      <td>268923.000000</td>\n",
              "      <td>27445.000000</td>\n",
              "      <td>779.00000</td>\n",
              "      <td>2017.000000</td>\n",
              "    </tr>\n",
              "  </tbody>\n",
              "</table>\n",
              "</div>\n",
              "      <button class=\"colab-df-convert\" onclick=\"convertToInteractive('df-cb865e57-fb25-401d-83ac-96ee4cfb9679')\"\n",
              "              title=\"Convert this dataframe to an interactive table.\"\n",
              "              style=\"display:none;\">\n",
              "        \n",
              "  <svg xmlns=\"http://www.w3.org/2000/svg\" height=\"24px\"viewBox=\"0 0 24 24\"\n",
              "       width=\"24px\">\n",
              "    <path d=\"M0 0h24v24H0V0z\" fill=\"none\"/>\n",
              "    <path d=\"M18.56 5.44l.94 2.06.94-2.06 2.06-.94-2.06-.94-.94-2.06-.94 2.06-2.06.94zm-11 1L8.5 8.5l.94-2.06 2.06-.94-2.06-.94L8.5 2.5l-.94 2.06-2.06.94zm10 10l.94 2.06.94-2.06 2.06-.94-2.06-.94-.94-2.06-.94 2.06-2.06.94z\"/><path d=\"M17.41 7.96l-1.37-1.37c-.4-.4-.92-.59-1.43-.59-.52 0-1.04.2-1.43.59L10.3 9.45l-7.72 7.72c-.78.78-.78 2.05 0 2.83L4 21.41c.39.39.9.59 1.41.59.51 0 1.02-.2 1.41-.59l7.78-7.78 2.81-2.81c.8-.78.8-2.07 0-2.86zM5.41 20L4 18.59l7.72-7.72 1.47 1.35L5.41 20z\"/>\n",
              "  </svg>\n",
              "      </button>\n",
              "      \n",
              "  <style>\n",
              "    .colab-df-container {\n",
              "      display:flex;\n",
              "      flex-wrap:wrap;\n",
              "      gap: 12px;\n",
              "    }\n",
              "\n",
              "    .colab-df-convert {\n",
              "      background-color: #E8F0FE;\n",
              "      border: none;\n",
              "      border-radius: 50%;\n",
              "      cursor: pointer;\n",
              "      display: none;\n",
              "      fill: #1967D2;\n",
              "      height: 32px;\n",
              "      padding: 0 0 0 0;\n",
              "      width: 32px;\n",
              "    }\n",
              "\n",
              "    .colab-df-convert:hover {\n",
              "      background-color: #E2EBFA;\n",
              "      box-shadow: 0px 1px 2px rgba(60, 64, 67, 0.3), 0px 1px 3px 1px rgba(60, 64, 67, 0.15);\n",
              "      fill: #174EA6;\n",
              "    }\n",
              "\n",
              "    [theme=dark] .colab-df-convert {\n",
              "      background-color: #3B4455;\n",
              "      fill: #D2E3FC;\n",
              "    }\n",
              "\n",
              "    [theme=dark] .colab-df-convert:hover {\n",
              "      background-color: #434B5C;\n",
              "      box-shadow: 0px 1px 3px 1px rgba(0, 0, 0, 0.15);\n",
              "      filter: drop-shadow(0px 1px 2px rgba(0, 0, 0, 0.3));\n",
              "      fill: #FFFFFF;\n",
              "    }\n",
              "  </style>\n",
              "\n",
              "      <script>\n",
              "        const buttonEl =\n",
              "          document.querySelector('#df-cb865e57-fb25-401d-83ac-96ee4cfb9679 button.colab-df-convert');\n",
              "        buttonEl.style.display =\n",
              "          google.colab.kernel.accessAllowed ? 'block' : 'none';\n",
              "\n",
              "        async function convertToInteractive(key) {\n",
              "          const element = document.querySelector('#df-cb865e57-fb25-401d-83ac-96ee4cfb9679');\n",
              "          const dataTable =\n",
              "            await google.colab.kernel.invokeFunction('convertToInteractive',\n",
              "                                                     [key], {});\n",
              "          if (!dataTable) return;\n",
              "\n",
              "          const docLinkHtml = 'Like what you see? Visit the ' +\n",
              "            '<a target=\"_blank\" href=https://colab.research.google.com/notebooks/data_table.ipynb>data table notebook</a>'\n",
              "            + ' to learn more about interactive tables.';\n",
              "          element.innerHTML = '';\n",
              "          dataTable['output_type'] = 'display_data';\n",
              "          await google.colab.output.renderOutput(dataTable, element);\n",
              "          const docLink = document.createElement('div');\n",
              "          docLink.innerHTML = docLinkHtml;\n",
              "          element.appendChild(docLink);\n",
              "        }\n",
              "      </script>\n",
              "    </div>\n",
              "  </div>\n",
              "  "
            ],
            "text/plain": [
              "          course_id        price  num_subscribers   num_reviews  num_lectures  \\\n",
              "count  3.683000e+03  3683.000000      3683.000000   3683.000000    3683.00000   \n",
              "mean   6.756596e+05    66.023622      3194.087972    156.063535      40.10372   \n",
              "std    3.433124e+05    60.982453      9498.061750    934.831762      50.35502   \n",
              "min    8.324000e+03     0.000000         0.000000      0.000000       0.00000   \n",
              "25%    4.068710e+05    20.000000       111.000000      4.000000      15.00000   \n",
              "50%    6.876420e+05    45.000000       912.000000     18.000000      25.00000   \n",
              "75%    9.608420e+05    95.000000      2537.500000     67.000000      46.00000   \n",
              "max    1.282064e+06   200.000000    268923.000000  27445.000000     779.00000   \n",
              "\n",
              "              year  \n",
              "count  3683.000000  \n",
              "mean   2015.430084  \n",
              "std       1.185274  \n",
              "min    2011.000000  \n",
              "25%    2015.000000  \n",
              "50%    2016.000000  \n",
              "75%    2016.000000  \n",
              "max    2017.000000  "
            ]
          },
          "metadata": {},
          "execution_count": 46
        }
      ]
    },
    {
      "cell_type": "markdown",
      "source": [
        "# Machine Learning with statistical Test"
      ],
      "metadata": {
        "id": "_yKBLGrTBxQQ"
      }
    },
    {
      "cell_type": "code",
      "source": [
        "from sklearn.ensemble import RandomForestRegressor\n",
        "from sklearn.model_selection import train_test_split\n",
        "from sklearn.metrics import mean_squared_error\n",
        "from sklearn.preprocessing import StandardScaler"
      ],
      "metadata": {
        "id": "kL9CpmAhvZ-G"
      },
      "execution_count": 47,
      "outputs": []
    },
    {
      "cell_type": "markdown",
      "source": [
        "segregating data into numerical and categoricaal and converting it to dummies."
      ],
      "metadata": {
        "id": "6Ew0HA3G8UXq"
      }
    },
    {
      "cell_type": "code",
      "source": [
        "num_cols = ['price', 'num_reviews', 'num_lectures']\n",
        "cat_cols = ['is_paid', 'level', 'subject']\n",
        "X_data, y_data = data[num_cols].merge(pd.get_dummies(data[cat_cols]), left_index=True, right_index=True), data['num_subscribers']"
      ],
      "metadata": {
        "id": "FVJKPK0JvaiF"
      },
      "execution_count": 48,
      "outputs": []
    },
    {
      "cell_type": "markdown",
      "source": [
        "splitting train test"
      ],
      "metadata": {
        "id": "7tPPa7qD8aOu"
      }
    },
    {
      "cell_type": "code",
      "source": [
        "X_train, X_test,  y_train, y_test = train_test_split(X_data, y_data, test_size=0.2, random_state=42)"
      ],
      "metadata": {
        "id": "DJz80OLAwm6C"
      },
      "execution_count": 49,
      "outputs": []
    },
    {
      "cell_type": "code",
      "source": [
        "col_names = X_train.columns"
      ],
      "metadata": {
        "id": "WF0BA1T3vaup"
      },
      "execution_count": 50,
      "outputs": []
    },
    {
      "cell_type": "code",
      "source": [
        ""
      ],
      "metadata": {
        "id": "b09bKuPmxu8k"
      },
      "execution_count": 50,
      "outputs": []
    },
    {
      "cell_type": "markdown",
      "source": [
        "Doing scaling of data so as to bring all data into a equal scale"
      ],
      "metadata": {
        "id": "iTqaNksY8d1P"
      }
    },
    {
      "cell_type": "code",
      "source": [
        "scaler = StandardScaler()\n",
        "scaler = scaler.fit(X_train) \n",
        "X_train = scaler.transform(X_train)\n",
        "X_test = scaler.transform(X_test)"
      ],
      "metadata": {
        "id": "pU03D9YVxWi_"
      },
      "execution_count": 51,
      "outputs": []
    },
    {
      "cell_type": "code",
      "source": [
        "X_train.shape"
      ],
      "metadata": {
        "colab": {
          "base_uri": "https://localhost:8080/"
        },
        "id": "vOvDWd5c08YA",
        "outputId": "321f3673-07b4-41fb-e459-814361a1d031"
      },
      "execution_count": 52,
      "outputs": [
        {
          "output_type": "execute_result",
          "data": {
            "text/plain": [
              "(2946, 12)"
            ]
          },
          "metadata": {},
          "execution_count": 52
        }
      ]
    },
    {
      "cell_type": "markdown",
      "source": [
        "Creating Random forest instances"
      ],
      "metadata": {
        "id": "YoOvSII38tww"
      }
    },
    {
      "cell_type": "code",
      "source": [
        "model = RandomForestRegressor(n_estimators=500, random_state=42)"
      ],
      "metadata": {
        "id": "IWV0u7ozyNPO"
      },
      "execution_count": 53,
      "outputs": []
    },
    {
      "cell_type": "code",
      "source": [
        "model.fit(X_train, y_train)"
      ],
      "metadata": {
        "colab": {
          "base_uri": "https://localhost:8080/"
        },
        "id": "vIySVCBEyQeV",
        "outputId": "4ab55c00-8245-4b85-b190-513eb9edf627"
      },
      "execution_count": 54,
      "outputs": [
        {
          "output_type": "execute_result",
          "data": {
            "text/plain": [
              "RandomForestRegressor(n_estimators=500, random_state=42)"
            ]
          },
          "metadata": {},
          "execution_count": 54
        }
      ]
    },
    {
      "cell_type": "markdown",
      "source": [
        "Fitting the model"
      ],
      "metadata": {
        "id": "AjsHniZI8xhQ"
      }
    },
    {
      "cell_type": "code",
      "source": [
        "y_train_preds = model.predict(X_train)"
      ],
      "metadata": {
        "id": "VsBmoCPByQmD"
      },
      "execution_count": 55,
      "outputs": []
    },
    {
      "cell_type": "code",
      "source": [
        "print(\"Mean Squared Error on training data is: {:.2f}\".format(mean_squared_error(y_train_preds, y_train)))"
      ],
      "metadata": {
        "colab": {
          "base_uri": "https://localhost:8080/"
        },
        "id": "Z72e32miyW00",
        "outputId": "f3c90029-7d8c-4070-8450-73a184583cbd"
      },
      "execution_count": 56,
      "outputs": [
        {
          "output_type": "stream",
          "name": "stdout",
          "text": [
            "Mean Squared Error on training data is: 3978148.77\n"
          ]
        }
      ]
    },
    {
      "cell_type": "code",
      "source": [
        "y_pred = model.predict(X_test)"
      ],
      "metadata": {
        "id": "buOjmHFqybsC"
      },
      "execution_count": 57,
      "outputs": []
    },
    {
      "cell_type": "code",
      "source": [
        "print(\"Mean Squared Error on testing data is: {:.2f}\".format(mean_squared_error(y_pred, y_test)))"
      ],
      "metadata": {
        "colab": {
          "base_uri": "https://localhost:8080/"
        },
        "id": "qUnh8Kn8yb5z",
        "outputId": "4396963a-af7e-4381-bb9f-bffd01a726d1"
      },
      "execution_count": 58,
      "outputs": [
        {
          "output_type": "stream",
          "name": "stdout",
          "text": [
            "Mean Squared Error on testing data is: 69698738.25\n"
          ]
        }
      ]
    },
    {
      "cell_type": "markdown",
      "source": [
        "The scores are not that good"
      ],
      "metadata": {
        "id": "ehk5FoR980rR"
      }
    },
    {
      "cell_type": "code",
      "source": [
        ""
      ],
      "metadata": {
        "id": "Sfj9LheCziba"
      },
      "execution_count": 58,
      "outputs": []
    },
    {
      "cell_type": "code",
      "source": [
        "import statsmodels.api as sm"
      ],
      "metadata": {
        "colab": {
          "base_uri": "https://localhost:8080/"
        },
        "id": "vIiNtUv0zilI",
        "outputId": "b406adab-62a3-464e-e5a6-7d146ac9088b"
      },
      "execution_count": 59,
      "outputs": [
        {
          "output_type": "stream",
          "name": "stderr",
          "text": [
            "/usr/local/lib/python3.7/dist-packages/statsmodels/tools/_testing.py:19: FutureWarning:\n",
            "\n",
            "pandas.util.testing is deprecated. Use the functions in the public API at pandas.testing instead.\n",
            "\n"
          ]
        }
      ]
    },
    {
      "cell_type": "code",
      "source": [
        "#from sklearn import metrics"
      ],
      "metadata": {
        "id": "FJMXmNQxz8Z2"
      },
      "execution_count": 60,
      "outputs": []
    },
    {
      "cell_type": "code",
      "source": [
        "X_train_sm = X_data\n",
        "X_train_sm = sm.add_constant(X_train_sm)\n",
        "\n",
        "lm_sm = sm.OLS(y_data,X_train_sm.astype(float)).fit()"
      ],
      "metadata": {
        "colab": {
          "base_uri": "https://localhost:8080/"
        },
        "id": "rrNWux0tzrRu",
        "outputId": "6f8cdd12-3894-43ca-bb0d-0f5ae3f0e39b"
      },
      "execution_count": 61,
      "outputs": [
        {
          "output_type": "stream",
          "name": "stderr",
          "text": [
            "/usr/local/lib/python3.7/dist-packages/statsmodels/tsa/tsatools.py:117: FutureWarning:\n",
            "\n",
            "In a future version of pandas all arguments of concat except for the argument 'objs' will be keyword-only\n",
            "\n"
          ]
        }
      ]
    },
    {
      "cell_type": "markdown",
      "source": [
        "since it's a regression, we can verify which are having p-values less than 0.05 and we can built new model on that variable. P-value more than 0.05 indicates that null hypothesis is accepted and that variable has no contribution in model."
      ],
      "metadata": {
        "id": "4GHXHs3g85Cy"
      }
    },
    {
      "cell_type": "code",
      "source": [
        "print(lm_sm.summary())"
      ],
      "metadata": {
        "colab": {
          "base_uri": "https://localhost:8080/"
        },
        "id": "dWoG0GlizrVF",
        "outputId": "ce10ee0c-f654-4477-a402-535490f9ef68"
      },
      "execution_count": 62,
      "outputs": [
        {
          "output_type": "stream",
          "name": "stdout",
          "text": [
            "                            OLS Regression Results                            \n",
            "==============================================================================\n",
            "Dep. Variable:        num_subscribers   R-squared:                       0.490\n",
            "Model:                            OLS   Adj. R-squared:                  0.489\n",
            "Method:                 Least Squares   F-statistic:                     321.3\n",
            "Date:                Sat, 05 Mar 2022   Prob (F-statistic):               0.00\n",
            "Time:                        15:24:31   Log-Likelihood:                -37716.\n",
            "No. Observations:                3683   AIC:                         7.546e+04\n",
            "Df Residuals:                    3671   BIC:                         7.553e+04\n",
            "Df Model:                          11                                         \n",
            "Covariance Type:            nonrobust                                         \n",
            "===============================================================================================\n",
            "                                  coef    std err          t      P>|t|      [0.025      0.975]\n",
            "-----------------------------------------------------------------------------------------------\n",
            "const                        6117.6558   2460.357      2.486      0.013    1293.854    1.09e+04\n",
            "price                           5.5702      2.087      2.669      0.008       1.478       9.662\n",
            "num_reviews                     6.1498      0.125     49.073      0.000       5.904       6.396\n",
            "num_lectures                   -0.6344      2.449     -0.259      0.796      -5.437       4.168\n",
            "is_paid                     -7330.7533    435.349    -16.839      0.000   -8184.302   -6477.204\n",
            "level_All Levels             2051.9788    658.095      3.118      0.002     761.710    3342.247\n",
            "level_Beginner Level         2044.8123    655.629      3.119      0.002     759.379    3330.245\n",
            "level_Expert Level           1004.4650    950.809      1.056      0.291    -859.700    2868.630\n",
            "level_Intermediate Level     1016.3996    690.178      1.473      0.141    -336.770    2369.569\n",
            "subject_Business Finance     -475.7727   3045.068     -0.156      0.876   -6445.966    5494.420\n",
            "subject_Graphic Design        -71.6599   3050.180     -0.023      0.981   -6051.875    5908.555\n",
            "subject_Musical Instruments  -460.5893   3048.235     -0.151      0.880   -6436.990    5515.812\n",
            "subject_Web Development      2531.6347   3045.276      0.831      0.406   -3438.965    8502.234\n",
            "==============================================================================\n",
            "Omnibus:                     6639.729   Durbin-Watson:                   1.829\n",
            "Prob(Omnibus):                  0.000   Jarque-Bera (JB):         15096741.083\n",
            "Skew:                          12.697   Prob(JB):                         0.00\n",
            "Kurtosis:                     315.621   Cond. No.                     6.39e+18\n",
            "==============================================================================\n",
            "\n",
            "Warnings:\n",
            "[1] Standard Errors assume that the covariance matrix of the errors is correctly specified.\n",
            "[2] The smallest eigenvalue is 8.11e-29. This might indicate that there are\n",
            "strong multicollinearity problems or that the design matrix is singular.\n"
          ]
        }
      ]
    },
    {
      "cell_type": "code",
      "source": [
        ""
      ],
      "metadata": {
        "id": "SpPwO2u40EUU"
      },
      "execution_count": 62,
      "outputs": []
    },
    {
      "cell_type": "markdown",
      "source": [
        "so we will go with column 1,2,4,5,6 as their p-value is less than 0.05"
      ],
      "metadata": {
        "id": "qyfsM51W9aeB"
      }
    },
    {
      "cell_type": "code",
      "source": [
        "x1=X_data.iloc[:,[1,2,4,5,6]]"
      ],
      "metadata": {
        "id": "saP89Ynh59IM"
      },
      "execution_count": 63,
      "outputs": []
    },
    {
      "cell_type": "code",
      "source": [
        "X_train1, X_test1,  y_train1, y_test1 = train_test_split(x1, y_data, test_size=0.3, random_state=42)"
      ],
      "metadata": {
        "id": "djHhoAnL5U3p"
      },
      "execution_count": 64,
      "outputs": []
    },
    {
      "cell_type": "code",
      "source": [
        "scaler = StandardScaler()\n",
        "scaler = scaler.fit(X_train) \n",
        "X_train = scaler.transform(X_train)\n",
        "X_test = scaler.transform(X_test)"
      ],
      "metadata": {
        "id": "KeBn3T5S6avM"
      },
      "execution_count": 65,
      "outputs": []
    },
    {
      "cell_type": "code",
      "source": [
        "from sklearn.linear_model import LinearRegression, Ridge, Lasso"
      ],
      "metadata": {
        "id": "-s2nsb8J6r-s"
      },
      "execution_count": 66,
      "outputs": []
    },
    {
      "cell_type": "code",
      "source": [
        "lr = LinearRegression()\n",
        "lr.fit(X_train1, y_train1)\n",
        "lr.score(X_test1, y_test1)"
      ],
      "metadata": {
        "colab": {
          "base_uri": "https://localhost:8080/"
        },
        "id": "MWkNVaoT6ZuT",
        "outputId": "d70feb22-8e37-4af1-8248-26f6e13d2b72"
      },
      "execution_count": 67,
      "outputs": [
        {
          "output_type": "execute_result",
          "data": {
            "text/plain": [
              "0.31834073416874153"
            ]
          },
          "metadata": {},
          "execution_count": 67
        }
      ]
    },
    {
      "cell_type": "code",
      "source": [
        "model1 = RandomForestRegressor(n_estimators=1000, random_state=42)"
      ],
      "metadata": {
        "id": "scUDFc4h7hEH"
      },
      "execution_count": 68,
      "outputs": []
    },
    {
      "cell_type": "code",
      "source": [
        "model1.fit(X_train1, y_train1)"
      ],
      "metadata": {
        "colab": {
          "base_uri": "https://localhost:8080/"
        },
        "id": "Z4LV7wcV6Z2g",
        "outputId": "0e32bcc9-0423-4593-e4f7-adcebdadf2f4"
      },
      "execution_count": 69,
      "outputs": [
        {
          "output_type": "execute_result",
          "data": {
            "text/plain": [
              "RandomForestRegressor(n_estimators=1000, random_state=42)"
            ]
          },
          "metadata": {},
          "execution_count": 69
        }
      ]
    },
    {
      "cell_type": "code",
      "source": [
        "y_train_preds1 = model1.predict(X_train1)"
      ],
      "metadata": {
        "id": "NVAij6I-2YkQ"
      },
      "execution_count": 70,
      "outputs": []
    },
    {
      "cell_type": "code",
      "source": [
        "print(\"Mean Squared Error on training data is: {:.2f}\".format(mean_squared_error(y_train_preds1, y_train1)))"
      ],
      "metadata": {
        "colab": {
          "base_uri": "https://localhost:8080/"
        },
        "id": "dvir_0Ny98FI",
        "outputId": "f9c56340-c5ab-44b0-ac2e-0e61ca62fa19"
      },
      "execution_count": 71,
      "outputs": [
        {
          "output_type": "stream",
          "name": "stdout",
          "text": [
            "Mean Squared Error on training data is: 3710509.83\n"
          ]
        }
      ]
    },
    {
      "cell_type": "code",
      "source": [
        "y_pred1 = model1.predict(X_test1)"
      ],
      "metadata": {
        "id": "jQop1ayJ0EX2"
      },
      "execution_count": 72,
      "outputs": []
    },
    {
      "cell_type": "code",
      "source": [
        "print(\"Mean Squared Error on testing data is: {:.2f}\".format(mean_squared_error(y_pred1, y_test1)))"
      ],
      "metadata": {
        "colab": {
          "base_uri": "https://localhost:8080/"
        },
        "id": "FZ8cMsF_0bBE",
        "outputId": "dbb89a76-6011-441a-cc7e-775eff78b170"
      },
      "execution_count": 73,
      "outputs": [
        {
          "output_type": "stream",
          "name": "stdout",
          "text": [
            "Mean Squared Error on testing data is: 77710290.51\n"
          ]
        }
      ]
    },
    {
      "cell_type": "markdown",
      "source": [
        "**While our MSE is quite high, it seems that we haven't really overfit the data. It is likely that we will need better features in order to build predictive power, which we don't have currently**"
      ],
      "metadata": {
        "id": "9JZODiXQWuqK"
      }
    },
    {
      "cell_type": "markdown",
      "source": [
        "**No issue we will go for classification of subject/Genre** 🙂"
      ],
      "metadata": {
        "id": "hteHkVC9XDGv"
      }
    },
    {
      "cell_type": "code",
      "source": [
        ""
      ],
      "metadata": {
        "id": "hkaJRNnw-Y5n"
      },
      "execution_count": 73,
      "outputs": []
    },
    {
      "cell_type": "markdown",
      "source": [
        "#Transformation,Feature Engineering & Pipelining"
      ],
      "metadata": {
        "id": "4ouhxYgH0kQT"
      }
    },
    {
      "cell_type": "markdown",
      "source": [
        "Here we are again back to our spark dataframe"
      ],
      "metadata": {
        "id": "8CHhRHZPNGVy"
      }
    },
    {
      "cell_type": "code",
      "source": [
        "type(df)"
      ],
      "metadata": {
        "colab": {
          "base_uri": "https://localhost:8080/"
        },
        "id": "32JOqKKMNOLb",
        "outputId": "5d7ae411-68ad-4390-8095-8d11b40b0711"
      },
      "execution_count": 74,
      "outputs": [
        {
          "output_type": "execute_result",
          "data": {
            "text/plain": [
              "pyspark.sql.dataframe.DataFrame"
            ]
          },
          "metadata": {},
          "execution_count": 74
        }
      ]
    },
    {
      "cell_type": "code",
      "source": [
        "df.columns"
      ],
      "metadata": {
        "colab": {
          "base_uri": "https://localhost:8080/"
        },
        "id": "Kmqj8RPFR2H5",
        "outputId": "23e77333-b863-458f-8167-1da68289f14b"
      },
      "execution_count": 75,
      "outputs": [
        {
          "output_type": "execute_result",
          "data": {
            "text/plain": [
              "['course_id',\n",
              " 'course_title',\n",
              " 'url',\n",
              " 'is_paid',\n",
              " 'price',\n",
              " 'num_subscribers',\n",
              " 'num_reviews',\n",
              " 'num_lectures',\n",
              " 'level',\n",
              " 'content_duration',\n",
              " 'published_timestamp',\n",
              " 'subject']"
            ]
          },
          "metadata": {},
          "execution_count": 75
        }
      ]
    },
    {
      "cell_type": "code",
      "source": [
        "df"
      ],
      "metadata": {
        "colab": {
          "base_uri": "https://localhost:8080/"
        },
        "id": "2ucezG6ntroI",
        "outputId": "1ef694fe-a769-44d3-a682-ee2ddf622477"
      },
      "execution_count": 76,
      "outputs": [
        {
          "output_type": "execute_result",
          "data": {
            "text/plain": [
              "DataFrame[course_id: int, course_title: string, url: string, is_paid: boolean, price: int, num_subscribers: int, num_reviews: int, num_lectures: int, level: string, content_duration: string, published_timestamp: timestamp, subject: string]"
            ]
          },
          "metadata": {},
          "execution_count": 76
        }
      ]
    },
    {
      "cell_type": "code",
      "source": [
        "df.select('course_title','subject').show()"
      ],
      "metadata": {
        "colab": {
          "base_uri": "https://localhost:8080/"
        },
        "id": "Z9pQG2gcR9nc",
        "outputId": "8ff03674-283d-483a-e0cf-20ef7605c8b3"
      },
      "execution_count": 77,
      "outputs": [
        {
          "output_type": "stream",
          "name": "stdout",
          "text": [
            "+--------------------+----------------+\n",
            "|        course_title|         subject|\n",
            "+--------------------+----------------+\n",
            "|Ultimate Investme...|Business Finance|\n",
            "|Complete GST Cour...|Business Finance|\n",
            "|Financial Modelin...|Business Finance|\n",
            "|Beginner to Pro -...|Business Finance|\n",
            "|How To Maximize Y...|Business Finance|\n",
            "|Trading Penny Sto...|Business Finance|\n",
            "|Investing And Tra...|Business Finance|\n",
            "|Trading Stock Cha...|Business Finance|\n",
            "|Options Trading 3...|Business Finance|\n",
            "|The Only Investme...|Business Finance|\n",
            "|Forex Trading Sec...|Business Finance|\n",
            "|Trading Options W...|Business Finance|\n",
            "|Financial Managem...|Business Finance|\n",
            "|Forex Trading Cou...|Business Finance|\n",
            "|Python Algo Tradi...|Business Finance|\n",
            "|Short Selling: Le...|Business Finance|\n",
            "|Basic Technical A...|Business Finance|\n",
            "|The Complete Char...|Business Finance|\n",
            "|7 Deadly Mistakes...|Business Finance|\n",
            "|Financial Stateme...|Business Finance|\n",
            "+--------------------+----------------+\n",
            "only showing top 20 rows\n",
            "\n"
          ]
        }
      ]
    },
    {
      "cell_type": "code",
      "source": [
        ""
      ],
      "metadata": {
        "id": "Cnu-h03jDGAx"
      },
      "execution_count": 77,
      "outputs": []
    },
    {
      "cell_type": "code",
      "source": [
        "df.show(5)"
      ],
      "metadata": {
        "colab": {
          "base_uri": "https://localhost:8080/"
        },
        "id": "x6YXopUAdylC",
        "outputId": "e29f0f09-957d-4f0a-d8fe-a80f40ef74df"
      },
      "execution_count": 78,
      "outputs": [
        {
          "output_type": "stream",
          "name": "stdout",
          "text": [
            "+---------+--------------------+--------------------+-------+-----+---------------+-----------+------------+------------------+----------------+-------------------+----------------+\n",
            "|course_id|        course_title|                 url|is_paid|price|num_subscribers|num_reviews|num_lectures|             level|content_duration|published_timestamp|         subject|\n",
            "+---------+--------------------+--------------------+-------+-----+---------------+-----------+------------+------------------+----------------+-------------------+----------------+\n",
            "|  1070968|Ultimate Investme...|https://www.udemy...|   true|  200|           2147|         23|          51|        All Levels|             1.5|2017-01-18 20:58:58|Business Finance|\n",
            "|  1113822|Complete GST Cour...|https://www.udemy...|   true|   75|           2792|        923|         274|        All Levels|            39.0|2017-03-09 16:34:20|Business Finance|\n",
            "|  1006314|Financial Modelin...|https://www.udemy...|   true|   45|           2174|         74|          51|Intermediate Level|             2.5|2016-12-19 19:26:30|Business Finance|\n",
            "|  1210588|Beginner to Pro -...|https://www.udemy...|   true|   95|           2451|         11|          36|        All Levels|             3.0|2017-05-30 20:07:24|Business Finance|\n",
            "|  1011058|How To Maximize Y...|https://www.udemy...|   true|  200|           1276|         45|          26|Intermediate Level|             2.0|2016-12-13 14:57:18|Business Finance|\n",
            "+---------+--------------------+--------------------+-------+-----+---------------+-----------+------------+------------------+----------------+-------------------+----------------+\n",
            "only showing top 5 rows\n",
            "\n"
          ]
        }
      ]
    },
    {
      "cell_type": "markdown",
      "source": [
        "Here we have grouped data on the basiss of Subject"
      ],
      "metadata": {
        "id": "3S9rE7YuNgMg"
      }
    },
    {
      "cell_type": "code",
      "source": [
        "df.groupBy('subject').count().show()"
      ],
      "metadata": {
        "colab": {
          "base_uri": "https://localhost:8080/"
        },
        "id": "3br7sVaBd6SE",
        "outputId": "a0f81f7f-5caa-45b7-b849-f92d3001db7e"
      },
      "execution_count": 79,
      "outputs": [
        {
          "output_type": "stream",
          "name": "stdout",
          "text": [
            "+-------------------+-----+\n",
            "|            subject|count|\n",
            "+-------------------+-----+\n",
            "|               null|    5|\n",
            "|   Business Finance| 1195|\n",
            "|     Graphic Design|  603|\n",
            "|    Web Development| 1200|\n",
            "|Musical Instruments|  680|\n",
            "+-------------------+-----+\n",
            "\n"
          ]
        }
      ]
    },
    {
      "cell_type": "code",
      "source": [
        "df.toPandas()['subject'].value_counts()"
      ],
      "metadata": {
        "colab": {
          "base_uri": "https://localhost:8080/"
        },
        "id": "n9AHltbQd-Ku",
        "outputId": "76bcd423-1ac1-4110-ffcb-9fd82ab07467"
      },
      "execution_count": 80,
      "outputs": [
        {
          "output_type": "execute_result",
          "data": {
            "text/plain": [
              "Web Development        1200\n",
              "Business Finance       1195\n",
              "Musical Instruments     680\n",
              "Graphic Design          603\n",
              "Name: subject, dtype: int64"
            ]
          },
          "metadata": {},
          "execution_count": 80
        }
      ]
    },
    {
      "cell_type": "markdown",
      "source": [
        "We can see Web Development has little high count than Business Finance"
      ],
      "metadata": {
        "id": "YOElkvVXNnGi"
      }
    },
    {
      "cell_type": "code",
      "source": [
        "df.toPandas()['subject'].isnull().sum()"
      ],
      "metadata": {
        "colab": {
          "base_uri": "https://localhost:8080/"
        },
        "id": "kpd-8WbheE0Q",
        "outputId": "a559c7c5-1c6b-4bc9-9da4-8af3e849878f"
      },
      "execution_count": 81,
      "outputs": [
        {
          "output_type": "execute_result",
          "data": {
            "text/plain": [
              "5"
            ]
          },
          "metadata": {},
          "execution_count": 81
        }
      ]
    },
    {
      "cell_type": "markdown",
      "source": [
        "There are only 5 null subject and we are dropping that"
      ],
      "metadata": {
        "id": "dNR8FWSCN0mV"
      }
    },
    {
      "cell_type": "code",
      "source": [
        "df = df.dropna(subset=('subject'))"
      ],
      "metadata": {
        "id": "s72VbjnmeHYs"
      },
      "execution_count": 82,
      "outputs": []
    },
    {
      "cell_type": "code",
      "source": [
        "df.toPandas()['subject'].isnull().sum()"
      ],
      "metadata": {
        "colab": {
          "base_uri": "https://localhost:8080/"
        },
        "id": "aw9FDPYbeMaK",
        "outputId": "313a93e6-9d58-414f-d081-3b55e57fddd4"
      },
      "execution_count": 83,
      "outputs": [
        {
          "output_type": "execute_result",
          "data": {
            "text/plain": [
              "0"
            ]
          },
          "metadata": {},
          "execution_count": 83
        }
      ]
    },
    {
      "cell_type": "code",
      "source": [
        "df.show(5)"
      ],
      "metadata": {
        "colab": {
          "base_uri": "https://localhost:8080/"
        },
        "id": "56UjorV_eP1L",
        "outputId": "1cd859d8-7998-4602-9e18-57a0d1dcc140"
      },
      "execution_count": 84,
      "outputs": [
        {
          "output_type": "stream",
          "name": "stdout",
          "text": [
            "+---------+--------------------+--------------------+-------+-----+---------------+-----------+------------+------------------+----------------+-------------------+----------------+\n",
            "|course_id|        course_title|                 url|is_paid|price|num_subscribers|num_reviews|num_lectures|             level|content_duration|published_timestamp|         subject|\n",
            "+---------+--------------------+--------------------+-------+-----+---------------+-----------+------------+------------------+----------------+-------------------+----------------+\n",
            "|  1070968|Ultimate Investme...|https://www.udemy...|   true|  200|           2147|         23|          51|        All Levels|             1.5|2017-01-18 20:58:58|Business Finance|\n",
            "|  1113822|Complete GST Cour...|https://www.udemy...|   true|   75|           2792|        923|         274|        All Levels|            39.0|2017-03-09 16:34:20|Business Finance|\n",
            "|  1006314|Financial Modelin...|https://www.udemy...|   true|   45|           2174|         74|          51|Intermediate Level|             2.5|2016-12-19 19:26:30|Business Finance|\n",
            "|  1210588|Beginner to Pro -...|https://www.udemy...|   true|   95|           2451|         11|          36|        All Levels|             3.0|2017-05-30 20:07:24|Business Finance|\n",
            "|  1011058|How To Maximize Y...|https://www.udemy...|   true|  200|           1276|         45|          26|Intermediate Level|             2.0|2016-12-13 14:57:18|Business Finance|\n",
            "+---------+--------------------+--------------------+-------+-----+---------------+-----------+------------+------------------+----------------+-------------------+----------------+\n",
            "only showing top 5 rows\n",
            "\n"
          ]
        }
      ]
    },
    {
      "cell_type": "markdown",
      "source": [
        "Importing pyspark"
      ],
      "metadata": {
        "id": "eN2FmsutQ2G7"
      }
    },
    {
      "cell_type": "code",
      "source": [
        "import pyspark.ml.feature"
      ],
      "metadata": {
        "id": "NHFe763NelcJ"
      },
      "execution_count": 85,
      "outputs": []
    },
    {
      "cell_type": "code",
      "source": [
        "from pyspark.ml.feature import Tokenizer,StopWordsRemover,CountVectorizer,IDF\n",
        "from pyspark.ml.feature import StringIndexer"
      ],
      "metadata": {
        "id": "aCYxX0RqephC"
      },
      "execution_count": 86,
      "outputs": []
    },
    {
      "cell_type": "code",
      "source": [
        "df.show(5)"
      ],
      "metadata": {
        "colab": {
          "base_uri": "https://localhost:8080/"
        },
        "id": "IqZZok_XevPN",
        "outputId": "dbb1b905-5440-48f5-8cdb-a2a1b6acac8e"
      },
      "execution_count": 87,
      "outputs": [
        {
          "output_type": "stream",
          "name": "stdout",
          "text": [
            "+---------+--------------------+--------------------+-------+-----+---------------+-----------+------------+------------------+----------------+-------------------+----------------+\n",
            "|course_id|        course_title|                 url|is_paid|price|num_subscribers|num_reviews|num_lectures|             level|content_duration|published_timestamp|         subject|\n",
            "+---------+--------------------+--------------------+-------+-----+---------------+-----------+------------+------------------+----------------+-------------------+----------------+\n",
            "|  1070968|Ultimate Investme...|https://www.udemy...|   true|  200|           2147|         23|          51|        All Levels|             1.5|2017-01-18 20:58:58|Business Finance|\n",
            "|  1113822|Complete GST Cour...|https://www.udemy...|   true|   75|           2792|        923|         274|        All Levels|            39.0|2017-03-09 16:34:20|Business Finance|\n",
            "|  1006314|Financial Modelin...|https://www.udemy...|   true|   45|           2174|         74|          51|Intermediate Level|             2.5|2016-12-19 19:26:30|Business Finance|\n",
            "|  1210588|Beginner to Pro -...|https://www.udemy...|   true|   95|           2451|         11|          36|        All Levels|             3.0|2017-05-30 20:07:24|Business Finance|\n",
            "|  1011058|How To Maximize Y...|https://www.udemy...|   true|  200|           1276|         45|          26|Intermediate Level|             2.0|2016-12-13 14:57:18|Business Finance|\n",
            "+---------+--------------------+--------------------+-------+-----+---------------+-----------+------------+------------------+----------------+-------------------+----------------+\n",
            "only showing top 5 rows\n",
            "\n"
          ]
        }
      ]
    },
    {
      "cell_type": "markdown",
      "source": [
        ""
      ],
      "metadata": {
        "id": "K4GAvUHjRdhq"
      }
    },
    {
      "cell_type": "markdown",
      "source": [
        "**Tokenizer does Tokenization. Tokenization is the process of tokenizing or splitting a string, text into a list of tokens.**"
      ],
      "metadata": {
        "id": "bH9-zLX1Rt39"
      }
    },
    {
      "cell_type": "markdown",
      "source": [
        "**CountVectorizer:Convert a collection of text documents to a matrix of token counts.**\n",
        "**This implementation produces a sparse representation of the counts using scipy.sparse.csr_matrix.**"
      ],
      "metadata": {
        "id": "AiyNdYYpRkbK"
      }
    },
    {
      "cell_type": "markdown",
      "source": [
        "**TfidfVectorizer:-Convert a collection of raw documents to a matrix of TF-IDF feature**s"
      ],
      "metadata": {
        "id": "TwSkUSeuRdz9"
      }
    },
    {
      "cell_type": "code",
      "source": [
        "\n",
        "tokenizer = Tokenizer(inputCol='course_title',outputCol='mytokens')\n",
        "stopwords_remover = StopWordsRemover(inputCol='mytokens',outputCol='filtered_tokens')\n",
        "vectorizer = CountVectorizer(inputCol='filtered_tokens',outputCol='rawFeatures')\n",
        "idf = IDF(inputCol='rawFeatures',outputCol='vectorizedFeatures')"
      ],
      "metadata": {
        "id": "M2TF9v66ez5V"
      },
      "execution_count": 88,
      "outputs": []
    },
    {
      "cell_type": "markdown",
      "source": [
        "StringIndexer encodes a string column of labels to a column of label indices. StringIndexer can encode multiple columns"
      ],
      "metadata": {
        "id": "eC5xhLJBSIXc"
      }
    },
    {
      "cell_type": "code",
      "source": [
        "labelEncoder = StringIndexer(inputCol='subject',outputCol='label').fit(df)"
      ],
      "metadata": {
        "id": "TDN9bLc8fshb"
      },
      "execution_count": 89,
      "outputs": []
    },
    {
      "cell_type": "code",
      "source": [
        "labelEncoder.labels"
      ],
      "metadata": {
        "colab": {
          "base_uri": "https://localhost:8080/"
        },
        "id": "EivcVDkffu7j",
        "outputId": "705025f6-72c0-411c-dad3-4636161bdce0"
      },
      "execution_count": 90,
      "outputs": [
        {
          "output_type": "execute_result",
          "data": {
            "text/plain": [
              "['Web Development',\n",
              " 'Business Finance',\n",
              " 'Musical Instruments',\n",
              " 'Graphic Design']"
            ]
          },
          "metadata": {},
          "execution_count": 90
        }
      ]
    },
    {
      "cell_type": "markdown",
      "source": [
        "we have label Encoded the Course title"
      ],
      "metadata": {
        "id": "0fGdn3aOSd-K"
      }
    },
    {
      "cell_type": "code",
      "source": [
        "label_dict = {'Web Development':0.0,\n",
        " 'Business Finance':1.0,\n",
        " 'Musical Instruments':2.0,\n",
        " 'Graphic Design':3.0}"
      ],
      "metadata": {
        "id": "uunbKk6hfzMS"
      },
      "execution_count": 91,
      "outputs": []
    },
    {
      "cell_type": "code",
      "source": [
        "df.show()"
      ],
      "metadata": {
        "colab": {
          "base_uri": "https://localhost:8080/"
        },
        "id": "C0a14o2rf1on",
        "outputId": "79e20d86-ec03-4f55-98f3-a0e32556bbf6"
      },
      "execution_count": 92,
      "outputs": [
        {
          "output_type": "stream",
          "name": "stdout",
          "text": [
            "+---------+--------------------+--------------------+-------+-----+---------------+-----------+------------+------------------+------------------+-------------------+----------------+\n",
            "|course_id|        course_title|                 url|is_paid|price|num_subscribers|num_reviews|num_lectures|             level|  content_duration|published_timestamp|         subject|\n",
            "+---------+--------------------+--------------------+-------+-----+---------------+-----------+------------+------------------+------------------+-------------------+----------------+\n",
            "|  1070968|Ultimate Investme...|https://www.udemy...|   true|  200|           2147|         23|          51|        All Levels|               1.5|2017-01-18 20:58:58|Business Finance|\n",
            "|  1113822|Complete GST Cour...|https://www.udemy...|   true|   75|           2792|        923|         274|        All Levels|              39.0|2017-03-09 16:34:20|Business Finance|\n",
            "|  1006314|Financial Modelin...|https://www.udemy...|   true|   45|           2174|         74|          51|Intermediate Level|               2.5|2016-12-19 19:26:30|Business Finance|\n",
            "|  1210588|Beginner to Pro -...|https://www.udemy...|   true|   95|           2451|         11|          36|        All Levels|               3.0|2017-05-30 20:07:24|Business Finance|\n",
            "|  1011058|How To Maximize Y...|https://www.udemy...|   true|  200|           1276|         45|          26|Intermediate Level|               2.0|2016-12-13 14:57:18|Business Finance|\n",
            "|   192870|Trading Penny Sto...|https://www.udemy...|   true|  150|           9221|        138|          25|        All Levels|               3.0|2014-05-02 15:13:30|Business Finance|\n",
            "|   739964|Investing And Tra...|https://www.udemy...|   true|   65|           1540|        178|          26|    Beginner Level|               1.0|2016-02-21 18:23:12|Business Finance|\n",
            "|   403100|Trading Stock Cha...|https://www.udemy...|   true|   95|           2917|        148|          23|        All Levels|               2.5|2015-01-30 22:13:03|Business Finance|\n",
            "|   476268|Options Trading 3...|https://www.udemy...|   true|  195|           5172|         34|          38|      Expert Level|               2.5|2015-05-28 00:14:03|Business Finance|\n",
            "|  1167710|The Only Investme...|https://www.udemy...|   true|  200|            827|         14|          15|        All Levels|               1.0|2017-04-18 18:13:32|Business Finance|\n",
            "|   592338|Forex Trading Sec...|https://www.udemy...|   true|  200|           4284|         93|          76|        All Levels|               5.0|2015-09-11 16:47:02|Business Finance|\n",
            "|   975046|Trading Options W...|https://www.udemy...|   true|  200|           1380|         42|          17|        All Levels|               1.0|2016-10-18 22:52:31|Business Finance|\n",
            "|   742602|Financial Managem...|https://www.udemy...|   true|   30|           3607|         21|          19|        All Levels|               1.5|2016-02-03 18:04:01|Business Finance|\n",
            "|   794151|Forex Trading Cou...|https://www.udemy...|   true|  195|           4061|         52|          16|        All Levels|               2.0|2016-03-16 15:40:19|Business Finance|\n",
            "|  1196544|Python Algo Tradi...|https://www.udemy...|   true|  200|            294|         19|          42|        All Levels|               7.0|2017-04-28 16:41:44|Business Finance|\n",
            "|   504036|Short Selling: Le...|https://www.udemy...|   true|   75|           2276|        106|          19|Intermediate Level|               1.5|2015-06-22 21:18:35|Business Finance|\n",
            "|   719698|Basic Technical A...|https://www.udemy...|   true|   20|           4919|         79|          16|    Beginner Level|               1.5|2016-01-08 17:21:26|Business Finance|\n",
            "|   564966|The Complete Char...|https://www.udemy...|   true|  200|           2666|        115|          52|        All Levels|               4.0|2015-08-10 21:07:35|Business Finance|\n",
            "|   606928|7 Deadly Mistakes...|https://www.udemy...|   true|   50|           5354|         24|          23|        All Levels|               1.5|2015-09-21 18:10:34|Business Finance|\n",
            "|    58977|Financial Stateme...|https://www.udemy...|   true|   95|           8095|        249|          12|    Beginner Level|0.5833333333333334|2013-06-09 00:21:26|Business Finance|\n",
            "+---------+--------------------+--------------------+-------+-----+---------------+-----------+------------+------------------+------------------+-------------------+----------------+\n",
            "only showing top 20 rows\n",
            "\n"
          ]
        }
      ]
    },
    {
      "cell_type": "code",
      "source": [
        "df = labelEncoder.transform(df)"
      ],
      "metadata": {
        "id": "6rOPEWNYf4ZX"
      },
      "execution_count": 93,
      "outputs": []
    },
    {
      "cell_type": "markdown",
      "source": [
        "Here the label 1 indicates that it is Business finance."
      ],
      "metadata": {
        "id": "cvkpsOp0Spqi"
      }
    },
    {
      "cell_type": "code",
      "source": [
        "df.show(5)"
      ],
      "metadata": {
        "colab": {
          "base_uri": "https://localhost:8080/"
        },
        "id": "Gtnk0MNCf66b",
        "outputId": "0ada3659-dd69-4ebe-dcb1-d75c772a4c2c"
      },
      "execution_count": 94,
      "outputs": [
        {
          "output_type": "stream",
          "name": "stdout",
          "text": [
            "+---------+--------------------+--------------------+-------+-----+---------------+-----------+------------+------------------+----------------+-------------------+----------------+-----+\n",
            "|course_id|        course_title|                 url|is_paid|price|num_subscribers|num_reviews|num_lectures|             level|content_duration|published_timestamp|         subject|label|\n",
            "+---------+--------------------+--------------------+-------+-----+---------------+-----------+------------+------------------+----------------+-------------------+----------------+-----+\n",
            "|  1070968|Ultimate Investme...|https://www.udemy...|   true|  200|           2147|         23|          51|        All Levels|             1.5|2017-01-18 20:58:58|Business Finance|  1.0|\n",
            "|  1113822|Complete GST Cour...|https://www.udemy...|   true|   75|           2792|        923|         274|        All Levels|            39.0|2017-03-09 16:34:20|Business Finance|  1.0|\n",
            "|  1006314|Financial Modelin...|https://www.udemy...|   true|   45|           2174|         74|          51|Intermediate Level|             2.5|2016-12-19 19:26:30|Business Finance|  1.0|\n",
            "|  1210588|Beginner to Pro -...|https://www.udemy...|   true|   95|           2451|         11|          36|        All Levels|             3.0|2017-05-30 20:07:24|Business Finance|  1.0|\n",
            "|  1011058|How To Maximize Y...|https://www.udemy...|   true|  200|           1276|         45|          26|Intermediate Level|             2.0|2016-12-13 14:57:18|Business Finance|  1.0|\n",
            "+---------+--------------------+--------------------+-------+-----+---------------+-----------+------------+------------------+----------------+-------------------+----------------+-----+\n",
            "only showing top 5 rows\n",
            "\n"
          ]
        }
      ]
    },
    {
      "cell_type": "markdown",
      "source": [
        "#Machine Learning Model"
      ],
      "metadata": {
        "id": "KVo-_bxj0BsW"
      }
    },
    {
      "cell_type": "code",
      "source": [
        ""
      ],
      "metadata": {
        "id": "f_lgqj7NTKXu"
      },
      "execution_count": 94,
      "outputs": []
    },
    {
      "cell_type": "markdown",
      "source": [
        "splitting data into train & test."
      ],
      "metadata": {
        "id": "tjnI2xbwW6uC"
      }
    },
    {
      "cell_type": "code",
      "source": [
        "(trainDF,testDF) = df.randomSplit((0.7,0.3),seed=42)"
      ],
      "metadata": {
        "id": "lTj7QGglf-jX"
      },
      "execution_count": 95,
      "outputs": []
    },
    {
      "cell_type": "code",
      "source": [
        "trainDF.show()"
      ],
      "metadata": {
        "colab": {
          "base_uri": "https://localhost:8080/"
        },
        "id": "wW0X5EdzgCjB",
        "outputId": "bd779bcd-0da8-421f-ad8d-7611a4bc111f"
      },
      "execution_count": 96,
      "outputs": [
        {
          "output_type": "stream",
          "name": "stdout",
          "text": [
            "+---------+--------------------+--------------------+-------+-----+---------------+-----------+------------+------------------+------------------+-------------------+-------------------+-----+\n",
            "|course_id|        course_title|                 url|is_paid|price|num_subscribers|num_reviews|num_lectures|             level|  content_duration|published_timestamp|            subject|label|\n",
            "+---------+--------------------+--------------------+-------+-----+---------------+-----------+------------+------------------+------------------+-------------------+-------------------+-----+\n",
            "|     8324|Javascript for Be...|https://www.udemy...|   true|   20|           3697|        195|          48|        All Levels|               3.0|2011-07-09 05:43:31|    Web Development|  0.0|\n",
            "|     8325|HTML Tutorial: HT...|https://www.udemy...|   true|   20|          12458|        253|          82|        All Levels|               4.0|2011-09-09 15:28:59|    Web Development|  0.0|\n",
            "|    11174|Become a Web Deve...|https://www.udemy...|   true|  120|          69186|       2408|         197|        All Levels|              27.5|2011-11-19 21:51:20|    Web Development|  0.0|\n",
            "|    11475|Become a Certifie...|https://www.udemy...|   true|  100|          26673|       1090|         185|        All Levels|              12.0|2011-12-20 15:29:25|    Web Development|  0.0|\n",
            "|    12214|   Back 2 The Basics|https://www.udemy...|   true|   50|            265|         23|          65|        All Levels|               3.0|2013-07-19 18:11:57|Musical Instruments|  2.0|\n",
            "|    13216|Aprende a Tocar T...|https://www.udemy...|   true|   35|            119|          8|          52|        All Levels|               3.5|2012-01-26 05:36:39|Musical Instruments|  2.0|\n",
            "|    15467|Learn To Draw - T...|https://www.udemy...|   true|   55|            363|         14|          19|        All Levels|               2.0|2012-06-01 21:53:11|     Graphic Design|  3.0|\n",
            "|    15611|Discover the 7 Se...|https://www.udemy...|   true|   40|           2634|         92|          25|        All Levels|              10.0|2012-04-04 02:24:51|     Graphic Design|  3.0|\n",
            "|    16151|    AJAX Development|https://www.udemy...|   true|   20|           7867|        147|          23|        All Levels|               3.0|2012-05-15 18:03:43|    Web Development|  0.0|\n",
            "|    17349|Figure Drawing Fr...|https://www.udemy...|  false|    0|          47811|       1041|          22|        All Levels|               2.5|2012-05-09 18:14:57|     Graphic Design|  3.0|\n",
            "|    17887|JavaScript with B...|https://www.udemy...|   true|   25|           1758|         37|          16|Intermediate Level|               3.5|2012-05-21 18:22:09|    Web Development|  0.0|\n",
            "|    17922|    Play Ukulele Now|https://www.udemy...|   true|   30|           1951|         88|          78|        All Levels|               5.0|2012-06-02 21:40:53|Musical Instruments|  2.0|\n",
            "|    19164|Graphic Design Se...|https://www.udemy...|   true|   95|           2555|         28|          55|        All Levels|               6.0|2012-09-04 02:21:04|     Graphic Design|  3.0|\n",
            "|    19332|The Original Comp...|https://www.udemy...|   true|   20|          31070|        742|         195|    Beginner Level|              18.0|2012-10-28 00:13:03|    Web Development|  0.0|\n",
            "|    19603|Learning Dynamic ...|https://www.udemy...|   true|   50|          47886|        285|         125|        All Levels|              12.5|2012-06-18 16:52:34|    Web Development|  0.0|\n",
            "|    19653|Accounting Skills...|https://www.udemy...|   true|   20|             78|          3|          10|    Beginner Level|               1.5|2012-06-27 16:41:09|   Business Finance|  1.0|\n",
            "|    20150|iPhone icons gone...|https://www.udemy...|   true|   20|           2346|         18|          55|        All Levels|               3.5|2012-06-26 14:39:05|     Graphic Design|  3.0|\n",
            "|    21080|   Guitar Essentials|https://www.udemy...|   true|   20|            261|          1|          18|    Beginner Level|               1.5|2014-05-07 18:05:57|Musical Instruments|  2.0|\n",
            "|    22445|Learn to Design a...|https://www.udemy...|  false|    0|          24687|        423|          13|        All Levels|0.7333333333333333|2012-10-10 23:34:55|     Graphic Design|  3.0|\n",
            "|    23742|Servlets and JSPs...|https://www.udemy...|   true|   35|          15187|        970|          64|        All Levels|              10.0|2012-09-10 23:52:58|    Web Development|  0.0|\n",
            "+---------+--------------------+--------------------+-------+-----+---------------+-----------+------------+------------------+------------------+-------------------+-------------------+-----+\n",
            "only showing top 20 rows\n",
            "\n"
          ]
        }
      ]
    },
    {
      "cell_type": "markdown",
      "source": [
        "Importing classifiation model Logistic Regression"
      ],
      "metadata": {
        "id": "P17HemvFXBQf"
      }
    },
    {
      "cell_type": "code",
      "source": [
        "from pyspark.ml.classification import LogisticRegression"
      ],
      "metadata": {
        "id": "Eo4tkSHpgF2H"
      },
      "execution_count": 97,
      "outputs": []
    },
    {
      "cell_type": "code",
      "source": [
        ""
      ],
      "metadata": {
        "id": "Ereq_mGWXryC"
      },
      "execution_count": 97,
      "outputs": []
    },
    {
      "cell_type": "markdown",
      "source": [
        "This vectorized features is the output of idf step performed in Pipeling and we are fitting that as features to our Logistic Regression."
      ],
      "metadata": {
        "id": "1k3IrRlpXfhF"
      }
    },
    {
      "cell_type": "code",
      "source": [
        "lr = LogisticRegression(featuresCol='vectorizedFeatures',labelCol='label')"
      ],
      "metadata": {
        "id": "oBKnOdiIgI-x"
      },
      "execution_count": 98,
      "outputs": []
    },
    {
      "cell_type": "code",
      "source": [
        ""
      ],
      "metadata": {
        "id": "QkGXUPpIgLwK"
      },
      "execution_count": 98,
      "outputs": []
    },
    {
      "cell_type": "code",
      "source": [
        "from pyspark.ml import Pipeline"
      ],
      "metadata": {
        "id": "6YFU-WmvgMJ9"
      },
      "execution_count": 99,
      "outputs": []
    },
    {
      "cell_type": "markdown",
      "source": [
        "Adding the all the transformation into the pipeline"
      ],
      "metadata": {
        "id": "YupdCELHX8Ad"
      }
    },
    {
      "cell_type": "code",
      "source": [
        "pipeline = Pipeline(stages=[tokenizer,stopwords_remover,vectorizer,idf,lr])"
      ],
      "metadata": {
        "id": "fOfQG_rYgPbR"
      },
      "execution_count": 100,
      "outputs": []
    },
    {
      "cell_type": "code",
      "source": [
        "# Building MOdel\n",
        "lr_model = pipeline.fit(trainDF)"
      ],
      "metadata": {
        "id": "uaDH6oengTl1"
      },
      "execution_count": 101,
      "outputs": []
    },
    {
      "cell_type": "code",
      "source": [
        "lr_model"
      ],
      "metadata": {
        "colab": {
          "base_uri": "https://localhost:8080/"
        },
        "id": "CwKIHyvqgV84",
        "outputId": "b385ff9f-f2f0-4995-e382-8846ae1d58d7"
      },
      "execution_count": 102,
      "outputs": [
        {
          "output_type": "execute_result",
          "data": {
            "text/plain": [
              "PipelineModel_3a9bdce8c65f"
            ]
          },
          "metadata": {},
          "execution_count": 102
        }
      ]
    },
    {
      "cell_type": "code",
      "source": [
        "predictions = lr_model.transform(testDF)"
      ],
      "metadata": {
        "id": "td0VnPjQgYO9"
      },
      "execution_count": 103,
      "outputs": []
    },
    {
      "cell_type": "code",
      "source": [
        "predictions.show()"
      ],
      "metadata": {
        "colab": {
          "base_uri": "https://localhost:8080/"
        },
        "id": "bPInXwm7gal9",
        "outputId": "fc96d757-1ff6-4859-da57-1484ed90c935"
      },
      "execution_count": 104,
      "outputs": [
        {
          "output_type": "stream",
          "name": "stdout",
          "text": [
            "+---------+--------------------+--------------------+-------+-----+---------------+-----------+------------+------------------+----------------+-------------------+-------------------+-----+--------------------+--------------------+--------------------+--------------------+--------------------+--------------------+----------+\n",
            "|course_id|        course_title|                 url|is_paid|price|num_subscribers|num_reviews|num_lectures|             level|content_duration|published_timestamp|            subject|label|            mytokens|     filtered_tokens|         rawFeatures|  vectorizedFeatures|       rawPrediction|         probability|prediction|\n",
            "+---------+--------------------+--------------------+-------+-----+---------------+-----------+------------+------------------+----------------+-------------------+-------------------+-----+--------------------+--------------------+--------------------+--------------------+--------------------+--------------------+----------+\n",
            "|    11153|Learn jQuery: An ...|https://www.udemy...|   true|   50|           7014|         95|          62|        All Levels|             4.5|2011-11-29 01:29:11|    Web Development|  0.0|[learn, jquery:, ...|[learn, jquery:, ...|(3663,[1,4,7,2083...|(3663,[1,4,7,2083...|[-0.5713434145942...|[1.71998483765202...|       1.0|\n",
            "|    12975|Introduction to J...|https://www.udemy...|   true|  200|           1586|         87|         124|    Beginner Level|            22.0|2013-04-17 02:55:10|    Web Development|  0.0|[introduction, to...|[introduction, ja...|(3663,[30,103,142...|(3663,[30,103,142...|[17.0672517931133...|[0.99999999877879...|       0.0|\n",
            "|    14571|Learn HTML5 At Yo...|https://www.udemy...|   true|   50|           3026|         60|          67|        All Levels|             7.0|2012-02-28 18:52:32|    Web Development|  0.0|[learn, html5, at...|[learn, html5, pa...|(3663,[1,4,58],[1...|(3663,[1,4,58],[1...|[7.91922487447817...|[0.94017162710616...|       0.0|\n",
            "|    15285|       HTML Workshop|https://www.udemy...|   true|   20|          25854|        306|          17|        All Levels|             2.0|2012-04-08 05:12:43|    Web Development|  0.0|    [html, workshop]|    [html, workshop]|(3663,[26,249],[1...|(3663,[26,249],[3...|[11.7420331106276...|[0.99999934334286...|       0.0|\n",
            "|    16646|Web Programming w...|https://www.udemy...|   true|   50|          35267|        217|          53|        All Levels|             4.0|2012-04-25 00:01:43|    Web Development|  0.0|[web, programming...|[web, programming...|(3663,[5,100,103]...|(3663,[5,100,103]...|[14.5881630190953...|[0.99999998798759...|       0.0|\n",
            "|    16689|Drawing With Conf...|https://www.udemy...|   true|   25|            105|          7|          10|        All Levels|             2.0|2012-05-04 07:24:05|     Graphic Design|  3.0|[drawing, with, c...|[drawing, confide...|(3663,[112,3213],...|(3663,[112,3213],...|[-5.7071876705770...|[7.73113748289052...|       3.0|\n",
            "|    16714|Color Basics for ...|https://www.udemy...|   true|   20|            372|         21|          10|        All Levels|             0.6|2012-04-23 21:13:00|     Graphic Design|  3.0|[color, basics, f...|[color, basics, p...|(3663,[37,336,120...|(3663,[37,336,120...|[-2.8263008039082...|[8.91166091836733...|       3.0|\n",
            "|    18448|Learning CSS3 - A...|https://www.udemy...|   true|   50|           2459|        107|         101|        All Levels|             8.0|2012-05-24 21:14:57|    Web Development|  0.0|[learning, css3, ...|[learning, css3, ...|(3663,[0,5,88,89,...|(3663,[0,5,88,89,...|[29.2147943026694...|[0.99999999999999...|       0.0|\n",
            "|    19260|Create an Engagin...|https://www.udemy...|   true|   20|           1463|         56|          24|        All Levels|             1.0|2012-06-18 17:06:55|    Web Development|  0.0|[create, an, enga...|[create, engaging...|(3663,[13,22,62,5...|(3663,[13,22,62,5...|[19.0089518421684...|[0.99999999996039...|       0.0|\n",
            "|    19421|Free Beginner Ele...|https://www.udemy...|  false|    0|         101154|       1042|          95|    Beginner Level|             4.5|2012-06-15 17:00:33|Musical Instruments|  2.0|[free, beginner, ...|[free, beginner, ...|(3663,[6,18,46,25...|(3663,[6,18,46,25...|[-8.5338680272998...|[1.30767425965065...|       2.0|\n",
            "|    19422|Drupal 7 for Begi...|https://www.udemy...|   true|   35|            926|        102|          37|        All Levels|             2.5|2012-06-14 18:15:00|    Web Development|  0.0|[drupal, 7, for, ...|[drupal, 7, begin...|(3663,[4,181,391]...|(3663,[4,181,391]...|[13.1227996765385...|[0.99999968892443...|       0.0|\n",
            "|    20185|The Complete Fore...|https://www.udemy...|   true|   25|           1634|        142|          46|        All Levels|             7.0|2012-10-01 09:46:23|   Business Finance|  1.0|[the, complete, f...|[complete, forex,...|(3663,[11,16,137]...|(3663,[11,16,137]...|[-5.9412955673386...|[8.06453437703558...|       1.0|\n",
            "|    20387|Guitar Insanity W...|https://www.udemy...|   true|   50|           2673|         17|          29|        All Levels|             2.5|2012-07-06 21:33:05|Musical Instruments|  2.0|[guitar, insanity...|[guitar, insanity...|(3663,[0,6,1772],...|(3663,[0,6,1772],...|[-6.6990446547268...|[8.05723246222643...|       2.0|\n",
            "|    20461|How to Design a L...|https://www.udemy...|   true|   30|          10875|        650|          41|        All Levels|             2.5|2012-07-25 13:41:42|     Graphic Design|  3.0|[how, to, design,...|[design, logo, -,...|(3663,[0,4,7,8,53...|(3663,[0,4,7,8,53...|[-5.2389107466945...|[3.07070529289303...|       3.0|\n",
            "|    21386|Beginner Photosho...|https://www.udemy...|  false|    0|          73110|       1716|          22|        All Levels|             2.0|2012-07-27 12:54:57|    Web Development|  0.0|[beginner, photos...|[beginner, photos...|(3663,[14,18,58,1...|(3663,[14,18,58,1...|[17.4327220622642...|[0.99999992989171...|       0.0|\n",
            "|    22825|Beginner Guitar M...|https://www.udemy...|   true|  200|             85|          2|          23|    Beginner Level|             4.0|2012-10-31 04:13:51|Musical Instruments|  2.0|[beginner, guitar...|[beginner, guitar...|(3663,[6,18,639],...|(3663,[6,18,639],...|[-6.9281511531660...|[3.57544474131442...|       2.0|\n",
            "|    23683|Guitar - Rock - B...|https://www.udemy...|   true|   20|             40|          1|          27|        All Levels|             1.0|2012-08-31 22:06:29|Musical Instruments|  2.0|[guitar, -, rock,...|[guitar, -, rock,...|(3663,[0,6,18,174...|(3663,[0,6,18,174...|[-7.8692408372772...|[2.60081517608372...|       2.0|\n",
            "|    24815|Harnessing the Po...|https://www.udemy...|   true|   50|             29|          2|           7|Intermediate Level|             2.0|2012-10-31 01:05:18|   Business Finance|  1.0|[harnessing, the,...|[harnessing, powe...|(3663,[75,335,118...|(3663,[75,335,118...|[-1.4878987928966...|[4.36682839767693...|       1.0|\n",
            "|    25794|    How To Crowdfund|https://www.udemy...|   true|   30|             43|          6|          17|        All Levels|             1.5|2012-10-02 22:00:03|   Business Finance|  1.0|[how, to, crowdfund]|         [crowdfund]|        (3663,[],[])|        (3663,[],[])|[0.05181463760383...|[0.10110451327355...|       1.0|\n",
            "|    26648|Play Guitar and U...|https://www.udemy...|   true|   20|            738|          6|          64|        All Levels|             9.5|2012-10-13 23:40:19|Musical Instruments|  2.0|[play, guitar, an...|[play, guitar, un...|(3663,[3,6,12,45,...|(3663,[3,6,12,45,...|[2.59735486415398...|[9.28867481736712...|       2.0|\n",
            "+---------+--------------------+--------------------+-------+-----+---------------+-----------+------------+------------------+----------------+-------------------+-------------------+-----+--------------------+--------------------+--------------------+--------------------+--------------------+--------------------+----------+\n",
            "only showing top 20 rows\n",
            "\n"
          ]
        }
      ]
    },
    {
      "cell_type": "markdown",
      "source": [
        "Here in naked eye only we can see that the label and prediction of most of the data points are getting matched except last two. On checking evaluation parameters only we can say, how good the Model is performing."
      ],
      "metadata": {
        "id": "xYm9keF_qGRl"
      }
    },
    {
      "cell_type": "code",
      "source": [
        ""
      ],
      "metadata": {
        "id": "TFOVa1jCp8YE"
      },
      "execution_count": 104,
      "outputs": []
    },
    {
      "cell_type": "markdown",
      "source": [
        "#Model Evaluation"
      ],
      "metadata": {
        "id": "u8M8NVht43NK"
      }
    },
    {
      "cell_type": "code",
      "source": [
        ""
      ],
      "metadata": {
        "id": "OOWng7B-rm0p"
      },
      "execution_count": 104,
      "outputs": []
    },
    {
      "cell_type": "markdown",
      "source": [
        "We are importing the evaluation package from pyspark"
      ],
      "metadata": {
        "id": "_e_aNMKsTjL9"
      }
    },
    {
      "cell_type": "code",
      "source": [
        "from pyspark.ml.evaluation import MulticlassClassificationEvaluator"
      ],
      "metadata": {
        "id": "InfaNRVsgm2b"
      },
      "execution_count": 105,
      "outputs": []
    },
    {
      "cell_type": "code",
      "source": [
        "evaluator = MulticlassClassificationEvaluator(labelCol='label',predictionCol='prediction',metricName='accuracy')"
      ],
      "metadata": {
        "id": "XSQ8xgctg8Dx"
      },
      "execution_count": 106,
      "outputs": []
    },
    {
      "cell_type": "markdown",
      "source": [
        "We are checking the accuracy of the model."
      ],
      "metadata": {
        "id": "zgeDpRDTT9Gj"
      }
    },
    {
      "cell_type": "code",
      "source": [
        "accuracy = evaluator.evaluate(predictions)"
      ],
      "metadata": {
        "id": "m4KczXBLhA25"
      },
      "execution_count": 107,
      "outputs": []
    },
    {
      "cell_type": "markdown",
      "source": [
        "**We are getting an accuracy of above 92%. But....**"
      ],
      "metadata": {
        "id": "7Nuw5wOGUqs5"
      }
    },
    {
      "cell_type": "code",
      "source": [
        "accuracy"
      ],
      "metadata": {
        "colab": {
          "base_uri": "https://localhost:8080/"
        },
        "id": "0Z7NWVdqhDa8",
        "outputId": "f1042ed7-5dcc-48b7-fd23-288b3360fd21"
      },
      "execution_count": 108,
      "outputs": [
        {
          "output_type": "execute_result",
          "data": {
            "text/plain": [
              "0.9361904761904762"
            ]
          },
          "metadata": {},
          "execution_count": 108
        }
      ]
    },
    {
      "cell_type": "markdown",
      "source": [
        "Is Accuracy gives the actual correct Evaluation. The Answer is, it may not be."
      ],
      "metadata": {
        "id": "bwyfnLPpU0Vh"
      }
    },
    {
      "cell_type": "code",
      "source": [
        "from pyspark.mllib.evaluation import MulticlassMetrics"
      ],
      "metadata": {
        "id": "1XjWDkT2hOWy"
      },
      "execution_count": 109,
      "outputs": []
    },
    {
      "cell_type": "code",
      "source": [
        "lr_metric = MulticlassMetrics(predictions['label','prediction'].rdd)"
      ],
      "metadata": {
        "colab": {
          "base_uri": "https://localhost:8080/"
        },
        "id": "eYMGm0tPhQ4c",
        "outputId": "4cab354d-176f-4a5e-b670-fe0aa38d28ae"
      },
      "execution_count": 110,
      "outputs": [
        {
          "output_type": "stream",
          "name": "stderr",
          "text": [
            "/usr/local/lib/python3.7/dist-packages/pyspark/sql/context.py:127: FutureWarning:\n",
            "\n",
            "Deprecated in 3.0.0. Use SparkSession.builder.getOrCreate() instead.\n",
            "\n"
          ]
        }
      ]
    },
    {
      "cell_type": "markdown",
      "source": [
        "**we will also use precision recall and f1 score to evaluate the model.**"
      ],
      "metadata": {
        "id": "F8ZTZTBTVXyW"
      }
    },
    {
      "cell_type": "markdown",
      "source": [
        "Precision and recall are two crucial yet misunderstood topics in machine learning"
      ],
      "metadata": {
        "id": "K8--EC1pVTVR"
      }
    },
    {
      "cell_type": "markdown",
      "source": [
        "The recall is the measure of our model correctly identifying True Positives."
      ],
      "metadata": {
        "id": "9sPzSMxsViNv"
      }
    },
    {
      "cell_type": "markdown",
      "source": [
        "Precision is the ratio between the True Positives and all the Positives."
      ],
      "metadata": {
        "id": "WyIV_tugVieB"
      }
    },
    {
      "cell_type": "markdown",
      "source": [
        "we need a tradeoff between Precision and Recall. For that F1-score is being calculated.F1-score is the Harmonic mean of the Precision and Recall."
      ],
      "metadata": {
        "id": "X8J-cSJnWO2t"
      }
    },
    {
      "cell_type": "markdown",
      "source": [
        "**So if all this results out good percentage, then we can say that the model has performed well. And we are getting all our evaluationn parameters of model as more than 90%. Which means the model is able to perform well.**"
      ],
      "metadata": {
        "id": "jMwAq1XeWecT"
      }
    },
    {
      "cell_type": "code",
      "source": [
        "print(\"Accuracy:\",lr_metric.accuracy)\n",
        "print(\"Precision:\",lr_metric.precision(1.0))\n",
        "print(\"Recall:\",lr_metric.recall(1.0))\n",
        "print(\"F1Score:\",lr_metric.fMeasure(1.0))"
      ],
      "metadata": {
        "colab": {
          "base_uri": "https://localhost:8080/"
        },
        "id": "Ra6PAnyihUsF",
        "outputId": "a718ae17-b7b7-40b7-92b1-59c55b6c8a7b"
      },
      "execution_count": 111,
      "outputs": [
        {
          "output_type": "stream",
          "name": "stdout",
          "text": [
            "Accuracy: 0.9361904761904762\n",
            "Precision: 0.950920245398773\n",
            "Recall: 0.8985507246376812\n",
            "F1Score: 0.9239940387481371\n"
          ]
        }
      ]
    }
  ]
}